{
 "cells": [
  {
   "cell_type": "code",
   "execution_count": 1,
   "metadata": {
    "collapsed": true
   },
   "outputs": [],
   "source": [
    "import numpy as np"
   ]
  },
  {
   "cell_type": "code",
   "execution_count": 2,
   "metadata": {
    "collapsed": true
   },
   "outputs": [],
   "source": [
    "# hyperparameters #\n",
    "K = 100    # dim of latent level\n",
    "N_topic_p_sub = 10    # dim of non-zero in sub latent level\n",
    "N_stu = 50000         # Num of students\n",
    "N_semaster = 12            # Num of semesters\n",
    "N_cou_p_stu_p_sem = np.array([4,5,6,7]) # possible number of courses taken by one student per semester\n",
    "in_sub = 0.8        # student take courses in her sub\n"
   ]
  },
  {
   "cell_type": "code",
   "execution_count": 3,
   "metadata": {
    "collapsed": false
   },
   "outputs": [
    {
     "name": "stdout",
     "output_type": "stream",
     "text": [
      "238\n",
      "[u'Korean (KOR)', u'Environmental Science (ENVSC)', u'Recreation, Park, and Tourism Management (RPTM)', u'Agricultural Science (AGSC)', u'Security and Risk Analysis (SRA)', u'American Studies (AMST)', u'Graphic Design (GD)', u'Occupational Therapy (OT)', u'Education (EDUC)', u'Communications (COMM)', u'School of Science Engineering and Technology (SSET)', u'Engineering (ENGR)', u'Science (SC)', u'Criminal Justice (CRIMJ)', u'Biorenewable Systems (BRS)', u'Latin (LATIN)', u'Physical Therapy (PT)', u'International Agriculture (INTAG)', u'Nuclear Engineering (NUCE)', u'Chemical Engineering (CHE)', u'Anthropology (ANTH)', u'Arts and Architecture Administrative (AAADM)', u'Mathematics (MATH)', u'Comparative Literature (CMLIT)', u'Finance (FIN)', u'Petroleum and Natural Gas Engineering (PNG)', u'Business Law (BLAW)', u'Arts and Architecture (AA)', u'Swahili (SWA)', u'Humanities and Social Sciences (HSS)', u'Japanese (JAPNS)', u'Industrial Engineering Technology (IET)', u'English as a Second Language (ESL)', u'Applied Youth, Family and Community Education (AYFCE)', u'Political Science (PLSC)', u'International Business (IB)', u'Software Engineering (SWENG)', u'Music (MUSIC)', u'Management Information Systems (MIS)', u'Mechanical Engineering (ME)', u'Fuel Science (FSC)', u'Library Studies (LST)', u'Wildlife (WILDL)', u'Engineering Mechanics (EMCH)', u'Electro-\\u200bMechanical Engineering Technology (EMET)', u'Entrepreneurship (ENTR)', u'Animal Science (ANSC)', u'Higher Education (HIED)', u'Engineering Science (ESC)', u'Music-\\u200bWoodwinds (WWNDS)', u'Curriculum and Instruction (CI)', u'Medieval Studies (MEDVL)', u'Music-\\u200bStrings (STRNG)', u'Psychology (PSYCH)', u'Biological Science (BISC)', u'Business Administration (BA)', u'Religious Studies (RLST)', u'Child Maltreatment and Advocacy Studies (CMAS)', u'Social Science (SOSC)', u'Criminology (CRIM)', u'Forest Technology (FORT)', u'Gaming (GAME)', u'Sustainability (SUST)', u'Data Sciences (DS)', u'Energy and Mineral Engineering (EME)', u'Classics and Ancient Mediterranean Studies (CAMS)', u'Biochemistry and Molecular Biology (BMB)', u'Art History (ARTH)', u'Asian American Studies (AAS)', u'Internship (INTSP)', u'Entomology (ENT)', u'Counselor Education (CNED)', u'African and African American Studies (AAAS)', u'Biological Engineering (BE)', u'Earth and Mineral Sciences (EMSC)', u'Spanish (SPAN)', u'Energy and Geo-\\u200bEnvironmental Engineering (EGEE)', u'Engineering Graphics Technology (EGT)', u'Economics (ECON)', u'Engineering Design (EDSGN)', u'Microbiology (MICRB)', u'Honors (HONOR)', u'Architectural Engineering Technology (AET)', u'German (GER)', u'Plant Pathology and Environmental Microbiology (PPEM)', u'Languages (Less Commonly Taught) (LANG)', u'Communication Arts and Sciences (CAS)', u'Arts Administration (ARTSA)', u'Music-\\u200bPercussion (PERCN)', u'Music-\\u200bKeyboard (KEYBD)', u'Horticulture (HORT)', u'Chemistry (CHEM)', u'Air Force (AIR)', u'Food Science (FDSC)', u'Education Mathematics -\\u200b CA (EDMTH)', u'World Languages Education (WLED)', u'Architecture (ARCH)', u'Nutrition (NUTR)', u'Cybersecurity Analytics and Operations (CYBER)', u'Agriculture (AG)', u'Rural Sociology (RSOC)', u'Social Studies Education (SSED)', u'Behavioral Sciences -\\u200b CA (BESC)', u'Linguistics (LING)', u'Mechanical Engineering Technology (MET)', u'Plant (PLANT)', u'Art Education (AED)', u'Commonwealth College (CWC)', u'Nursing (NURS)', u'Industrial Engineering (IE)', u'Language and Literacy Education (LLED)', u'Educational Theory and Policy (EDTHP)', u'Radiological Sciences (RADSC)', u'Geosciences (GEOSC)', u'Art (ART)', u'Temporary Education Abroad Registration (EDAB)', u'Agricultural Systems Management (ASM)', u'Community Environment and Development (CED)', u'Special Education (SPLED)', u'Accounting (ACCTG)', u'Social Data Analytics (SODA)', u'Agroecology (AGECO)', u'Civil Engineering Technology (CET)', u'Civil Engineering (CE)', u'Music-\\u200bVoice (VOICE)', u'Applied Linguistics (APLNG)', u'Materials Engineering Technology (MAET)', u'Theatre (THEA)', u'Landscape Architecture (LARCH)', u'Labor and Employment Relations (LER)', u'Earth Sciences (EARTH)', u'Biobehavioral Health (BBH)', u'Dietetic Food Systems Management (DSM)', u'Arabic (ARAB)', u'Naval Science (NAVSC)', u'Workforce Education and Development (WFED)', u'Biomedical Engineering Technology (BE_T)', u'Psychology -\\u200b CA (PSYC)', u'Railroad Transportation Engineering (RTE)', u'Hindi (HINDI)', u'Electrical Engineering Technology (EET)', u'Engineering Technology (ET)', u'Science Education (SCIED)', u'Liberal Arts (LA)', u'Statistics (STAT)', u'Italian (IT)', u'Turfgrass (TURF)', u'Kinesiology (KINES)', u'Health and Human Development (HHD)', u'Mineral Processing (MNPR)', u'Environmental Systems Engineering (ENVSE)', u'First-\\u200bYear Seminar (CAP)', u'College Student Affairs (CSA)', u'Music-\\u200bBrass (BRASS)', u'Energy Business and Finance (EBF)', u'Asian Studies (ASIA)', u'Mining Technology (MNGT)', u'History (HIST)', u'Humanities -\\u200b CA (HUM)', u'Mechanical Technology (MCHT)', u'Elementary Education in Multicultural Settings (ELEDM)', u'Forestry (FOR)', u'Forensic Science (FRNSC)', u'Risk Management (RM)', u'Wood Products (WP)', u'Environmental Engineering (ENVE)', u'Management (MGMT)', u'Educational Psychology (EDPSY)', u'International Studies (INTST)', u'Civic and Community Engagement (CIVCM)', u'Plastics Engineering Technology -\\u200b BC (PLET)', u'Aerospace Engineering (AERSP)', u'Architectural Engineering (AE)', u'Slavic (SLAV)', u'Digital Media, Arts, and Technology (DIGIT)', u'Sociology (SOC)', u'PSU First-\\u200bYear Seminar (PSU)', u'Astronomy and Astrophysics (ASTRO)', u'Biology (BIOL)', u'Latina/\\u200bo Studies (LTNST)', u'Environmental Studies (ENVST)', u'Communication Sciences and Disorders (CSD)', u'Materials Science and Engineering (MATSE)', u'Biomedical Engineering (BME)', u'Agribusiness Management (AGBM)', u'Information Sciences and Technology (IST)', u'Computer Engineering (CMPEN)', u'Digital Multimedia Design (DMD)', u'Electrical Engineering (EE)', u\"Women's Studies (WMNST)\", u'Complementary Alternative Medicine (CAM)', u'Mining (MNG)', u'Electrical Engineering Technology (EE_T)', u'Environmental Resource Management (ERM)', u'Army (ARMY)', u'Greek (GREEK)', u'Philosophy (PHIL)', u'Soil Science (SOILS)', u'Photography (PHOTO)', u'Hospitality Management (HM)', u'Hotel, Restaurant, and Institutional Management (HRIM)', u'Integrative Arts (INART)', u'Agricultural and Extension Education (AEE)', u'Computer Engineering Technology -\\u200b CA (CMPET)', u'French (FR)', u'Corporate Communication (CC)', u'Mathematics Education (MTHED)', u'Veterinary and Biomedical Sciences (VBSC)', u'Marketing (MKTG)', u'Learning Design and Technology (LDT)', u'Geography (GEOG)', u'Ukrainian (UKR)', u'Rehabilitation and Human Services (RHS)', u'Jewish Studies (JST)', u'Human Development and Family Studies (HDFS)', u'Biotechnology (BIOTC)', u'Health -\\u200b CA (HLTH)', u'Polish (POL)', u'Global and International Studies (GLIS)', u'English (ENGL)', u'Hebrew (HEBR)', u'African American Studies (AFAM)', u'Meteorology (METEO)', u'Health Policy and Administration (HPA)', u'Dance (DANCE)', u'Public Policy -\\u200b CA (PUBPL)', u'Portuguese (PORT)', u'Wildlife and Fisheries Science (WFS)', u'Computer Science (CMPSC)', u'Organizational Leadership (OLEAD)', u'Science, Technology, and Society (STS)', u'Chinese (CHNS)', u'Russian (RUS)', u'Physics (PHYS)', u'Agronomy (AGRO)', u'Surveying (SUR)', u'African Studies (AFR)', u'Supply Chain Management (SCM)']\n",
      "{'url': u'/university-course-descriptions/undergraduate/kor/', 'courses': {u'KOR424': {'prereq_courses': [u'KOR120', u'KOR121', u'ASIA100', u'ASIA102', u'ASIA004', u'CMLIT004'], 'major': u'KOR', 'description': u'\\n\\t\\t\\t\\tExploration of seminal Korean texts, including poetry, fiction, autobiography, and criticism, from the early twentieth century to the contemporary era. This course provides a comprehensive overview of modern Korean literature within a transnational context. As we learn how to critically analyze seminal Korean texts, we will locate them in the social, political, economic, and cultural conditions under which they were produced and received. In grappling with some of the fundamental issues they raise;including colonialism, migration, national division, war, gender relations, developmentalism, urbanization, democratization, and contemporary consumer culture;we will also seek to situate these writings in the Korean vernacular within the larger context of global modernity. Rather than take Korean literature and global modernity as given or apart from each other, we will attend to their intersections by raising such questions as: How did modern experiences, constructed through the interface with unfamiliar Others, change preexisting ways of writing and reading? How did foreign occupations affect the formation of a national literature? In what ways do Korean writers\\' representations of the inter/national events and phenomena on and beyond the Korean peninsula at once enrich and complicate empirical investigations into modern histories of Korea, East Asia, and the world? In an increasingly borderless world, can we draw a boundary around what is called \"Korean\" literature? In parallel with these questions, we will further discuss why and how to engage in literary practices in the current age of digital reproduction. Instruction and all materials will be in English. No preliminary knowledge of Korean history or language is required for taking this course.\\n\\t\\t\\t', 'title': u'KOR 424: Transnational Korean Literature', 'credits': u'\\n\\t\\t\\t3 Credits\\n\\t\\t', 'num': u'424', 'prerequisite': u'\\nPrerequisite: KOR\\xa0120; KOR\\xa0121; ASIA\\xa0100; ASIA\\xa0102; ASIA 83; ASIA 4; CMLIT 4; 5th Semester standing\\t\\t\\t\\n'}, u'KOR425': {'prereq_courses': [u'KOR120', u'KOR121', u'ASIA100', u'ASIA102', u'ASIA004', u'CMLIT004'], 'major': u'KOR', 'description': u'\\n\\t\\t\\t\\tExploration of Korean cinema from the early twentieth century to the present, with an emphasis on its global/local dynamics. This course offers an introductory overview of Korean cinema. As we trace its history from the colonial period to the current \"Korean wave,\" we will also engage with film criticism, the trans/national contexts of film productions, the particular aesthetics of selected auteurs/genres, and local/global receptions of Korean cinema. Our discussion of formal elements and key issues featured in these films;modernity, colonialism, division, nation, class, gender, identity, tradition, ideology, desire, violence, and migration, among others;will be informed by readings of secondary sources and theoretical works, as well as literary materials produced during the same period. Throughout our analyses, we will seek to contextualize the cinematic texts within moments of major shifts not only in modern Korean history, but also in the transnational film industry and screen culture. In pursuing a broad and detailed perspective of Korean cinema, this course will ultimately enrich, and simultaneously complicate, our understanding of Korea, cinema, and the world. Instruction and all materials will be in English. No preliminary knowledge of Korean history or language is required for taking this course.\\n\\t\\t\\t', 'title': u'KOR 425: Global Korean Cinema', 'credits': u'\\n\\t\\t\\t3 Credits\\n\\t\\t', 'num': u'425', 'prerequisite': u'\\nPrerequisite: KOR\\xa0120; KOR\\xa0121; ASIA\\xa0100; ASIA\\xa0102; ASIA 83; ASIA 4; CMLIT 4; 5th Semester standing\\t\\t\\t\\n'}, u'KOR099': {'prereq_courses': [], 'major': u'KOR', 'description': u'\\n\\t\\t\\t\\tCourses offered in foreign countries by individual or group instruction.\\n\\t\\t\\t', 'title': u'KOR 99: Foreign Studies', 'credits': u'\\n\\t\\t\\t1-12 Credits/Maximum of 12\\n\\t\\t', 'num': u'99', 'prerequisite': ''}, u'KOR494H': {'prereq_courses': [], 'major': u'KOR', 'description': u'\\n\\t\\t\\t\\tSupervised student activities on research projects identified on an individual or small-group basis.\\n\\t\\t\\t', 'title': u'KOR 494H: Research Project', 'credits': u'\\n\\t\\t\\t1-12 Credits/Maximum of 12\\n\\t\\t', 'num': u'494H', 'prerequisite': ''}, u'KOR121': {'prereq_courses': [], 'major': u'KOR', 'description': u'\\n\\t\\t\\t\\tSurvey of contemporary Korean popular culture in various forms, including pop music, film, TV drama, advertising, comics, and literature. What do we mark as \\xbfKorean-style\\xbf? Are the images of Korea(ns) changing with the worldwide spread of Korean popular culture known as the Korean Wave (Hallyu)? This course provides critical approaches to cultural flows from South Korea. We will employ theoretical concepts and critical vocabularies from cultural studies to deepen and sharpen our analysis of the cultural representation of Korea in relation to questions such as class, gender, ethnicity, and body politics. Using diverse texts from literature, film, TV dramas, comics, and pop music, we will examine the social codes, cultural values, and economic realities that influence Korean society, including the Korean diasporic population around the world. In directing our attention to various ways in which Korean culture is transmitted and presented in different media, we will also inquire into historical and social issues rooted in the division of Korea, as well as the international dispersion of Koreans since the colonial period. Through intellectual exercises in boundary crossing, we will ultimately develop our ability to explore the cross-cultural production of trans/national identities in the age of globalization. Instruction and all materials will be in English. No preliminary knowledge of Korean history or language is required for taking this course.\\n\\t\\t\\t', 'title': u'KOR 121: Korean Popular Culture', 'credits': u'\\n\\t\\t\\t3 Credits\\n\\t\\t', 'num': u'121', 'prerequisite': ''}, u'KOR120': {'prereq_courses': [], 'major': u'KOR', 'description': u'\\n\\t\\t\\t\\tSurvey of Korean culture and society in historical contexts; exploration from antiquity to the contemporary period through diverse media. This course is designed as a multi-disciplinary introduction to Korean society. In surveying Korean culture from antiquity to the present, we will examine a wide range of primary sources from the past, including archaeological relics, written records, and works of art; as well as contemporary materials by Korean authors, directors, and other cultural producers, together with scholarly commentaries about these materials. Instruction and all materials will be in English. No preliminary knowledge of Korean history or language is required for taking this course. In the first part of the course that covers the origins of Korean \\xbftradition,\\xbf we will observe the formation and development of social relations, popular beliefs, and systems of thought that have shaped the Korean way of life. Our historical analysis of these texts will also locate their resonances and ramifications in modern Korea, particularly in cultural representations. In the second part of the course, we will discuss Korea\\xbfs transformation through its encounter with the West, its modern experiences and national struggle under colonial rule, social upheavals after liberation, and the Korean War. Finally, by tracing the enduring impacts of the unresolved past on contemporary society, we will look at Korea today in terms of economic development and crisis, the democracy movement and its limitations, relations with North Korea and with the US, and sociocultural diversification in the age of globalization. By situating these topics within the broader contexts of East Asia and the world, we will seek to gain a richer and more nuanced view of Korea on the global map. The overall goal of this course is to develop students\\xbf abilities to engage in cross-cultural understanding. Through a comprehensive study of Korean materials from a variety of genres and media, students will not only learn about and from Korean history and culture, but also enhance their skills in reading closely, thinking critically, and writing effectively. In exploring Korean culture as a space of complex formations and dynamic interactions, students will be trained to question, analyze, and appreciate different modes of cultural production in their specific political and social contexts.\\n\\t\\t\\t', 'title': u'KOR 120: Introduction to Korean Culture', 'credits': u'\\n\\t\\t\\t3 Credits\\n\\t\\t', 'num': u'120', 'prerequisite': ''}}}\n"
     ]
    }
   ],
   "source": [
    "# load real courses data #\n",
    "import cPickle\n",
    "file_real_course = \"./data/courses_crawled_by_major\"\n",
    "data_real_course = cPickle.load(open(file_real_course, \"r\"))\n",
    "print len(data_real_course)\n",
    "print data_real_course.keys()\n",
    "print data_real_course[\"Korean (KOR)\"]"
   ]
  },
  {
   "cell_type": "code",
   "execution_count": 4,
   "metadata": {
    "collapsed": false
   },
   "outputs": [],
   "source": [
    "# Synthesize Latent level #\n",
    "\n",
    "def level_generate(N_sparse, N_range=K, scale=1.0, sparse_return=False):\n",
    "    ind = np.random.choice(N_range, N_sparse, replace=False)\n",
    "    dist = np.random.random(N_sparse)\n",
    "    dist = dist/np.max(dist)\n",
    "    level = np.zeros(N_range)\n",
    "    level[ind] = scale * dist\n",
    "    if sparse_return:\n",
    "        return ind, dist*scale\n",
    "    else:\n",
    "        return level"
   ]
  },
  {
   "cell_type": "code",
   "execution_count": 5,
   "metadata": {
    "collapsed": false
   },
   "outputs": [
    {
     "name": "stdout",
     "output_type": "stream",
     "text": [
      "(array([ 0, 71, 33, 80, 85, 25, 88, 57, 37, 29]), array([ 0.394271  ,  0.92088794,  0.60890168,  0.69639774,  0.55481966,\n",
      "        0.54539037,  0.82607731,  0.56352906,  0.66974169,  1.        ]))\n"
     ]
    }
   ],
   "source": [
    "# sub-latent distribution #\n",
    "for sub_name in data_real_course:\n",
    "    data_real_course[sub_name][\"level\"] = level_generate(N_topic_p_sub, sparse_return=True)\n",
    "print data_real_course['Korean (KOR)'][\"level\"]"
   ]
  },
  {
   "cell_type": "code",
   "execution_count": 6,
   "metadata": {
    "collapsed": true
   },
   "outputs": [],
   "source": [
    "def courses_level_generate(ind, dist, N_cou, N_range=K, start=0.01):\n",
    "    level_scale = np.sort(np.random.random(N_cou)*(1-start) + start)\n",
    "    level_scale = level_scale / np.max(level_scale)\n",
    "    courses_level = []\n",
    "    for cou in range(N_cou):\n",
    "        noise = np.random.random(ind.shape[0])\n",
    "        noise = noise/np.max(noise)\n",
    "        cou_level = np.zeros(N_range)\n",
    "        cou_level[ind] = level_scale[cou] * dist * noise\n",
    "        courses_level.append(cou_level)\n",
    "    return courses_level"
   ]
  },
  {
   "cell_type": "code",
   "execution_count": 7,
   "metadata": {
    "collapsed": false
   },
   "outputs": [
    {
     "name": "stdout",
     "output_type": "stream",
     "text": [
      "{'url': u'/university-course-descriptions/undergraduate/kor/', 'courses': {u'KOR424': {'prereq_courses': [u'KOR120', u'KOR121', u'ASIA100', u'ASIA102', u'ASIA004', u'CMLIT004'], 'major': u'KOR', 'description': u'\\n\\t\\t\\t\\tExploration of seminal Korean texts, including poetry, fiction, autobiography, and criticism, from the early twentieth century to the contemporary era. This course provides a comprehensive overview of modern Korean literature within a transnational context. As we learn how to critically analyze seminal Korean texts, we will locate them in the social, political, economic, and cultural conditions under which they were produced and received. In grappling with some of the fundamental issues they raise;including colonialism, migration, national division, war, gender relations, developmentalism, urbanization, democratization, and contemporary consumer culture;we will also seek to situate these writings in the Korean vernacular within the larger context of global modernity. Rather than take Korean literature and global modernity as given or apart from each other, we will attend to their intersections by raising such questions as: How did modern experiences, constructed through the interface with unfamiliar Others, change preexisting ways of writing and reading? How did foreign occupations affect the formation of a national literature? In what ways do Korean writers\\' representations of the inter/national events and phenomena on and beyond the Korean peninsula at once enrich and complicate empirical investigations into modern histories of Korea, East Asia, and the world? In an increasingly borderless world, can we draw a boundary around what is called \"Korean\" literature? In parallel with these questions, we will further discuss why and how to engage in literary practices in the current age of digital reproduction. Instruction and all materials will be in English. No preliminary knowledge of Korean history or language is required for taking this course.\\n\\t\\t\\t', 'title': u'KOR 424: Transnational Korean Literature', 'level': array([ 0.03499078,  0.        ,  0.        ,  0.        ,  0.        ,\n",
      "        0.        ,  0.        ,  0.        ,  0.        ,  0.        ,\n",
      "        0.        ,  0.        ,  0.        ,  0.        ,  0.        ,\n",
      "        0.        ,  0.        ,  0.        ,  0.        ,  0.        ,\n",
      "        0.        ,  0.        ,  0.        ,  0.        ,  0.        ,\n",
      "        0.07129183,  0.        ,  0.        ,  0.        ,  0.15283455,\n",
      "        0.        ,  0.        ,  0.        ,  0.15514508,  0.        ,\n",
      "        0.        ,  0.        ,  0.1640268 ,  0.        ,  0.        ,\n",
      "        0.        ,  0.        ,  0.        ,  0.        ,  0.        ,\n",
      "        0.        ,  0.        ,  0.        ,  0.        ,  0.        ,\n",
      "        0.        ,  0.        ,  0.        ,  0.        ,  0.        ,\n",
      "        0.        ,  0.        ,  0.20757128,  0.        ,  0.        ,\n",
      "        0.        ,  0.        ,  0.        ,  0.        ,  0.        ,\n",
      "        0.        ,  0.        ,  0.        ,  0.        ,  0.        ,\n",
      "        0.        ,  0.19535189,  0.        ,  0.        ,  0.        ,\n",
      "        0.        ,  0.        ,  0.        ,  0.        ,  0.        ,\n",
      "        0.22036149,  0.        ,  0.        ,  0.        ,  0.        ,\n",
      "        0.14711225,  0.        ,  0.        ,  0.03599246,  0.        ,\n",
      "        0.        ,  0.        ,  0.        ,  0.        ,  0.        ,\n",
      "        0.        ,  0.        ,  0.        ,  0.        ,  0.        ]), 'credits': u'\\n\\t\\t\\t3 Credits\\n\\t\\t', 'num': u'424', 'prerequisite': u'\\nPrerequisite: KOR\\xa0120; KOR\\xa0121; ASIA\\xa0100; ASIA\\xa0102; ASIA 83; ASIA 4; CMLIT 4; 5th Semester standing\\t\\t\\t\\n'}, u'KOR425': {'prereq_courses': [u'KOR120', u'KOR121', u'ASIA100', u'ASIA102', u'ASIA004', u'CMLIT004'], 'major': u'KOR', 'description': u'\\n\\t\\t\\t\\tExploration of Korean cinema from the early twentieth century to the present, with an emphasis on its global/local dynamics. This course offers an introductory overview of Korean cinema. As we trace its history from the colonial period to the current \"Korean wave,\" we will also engage with film criticism, the trans/national contexts of film productions, the particular aesthetics of selected auteurs/genres, and local/global receptions of Korean cinema. Our discussion of formal elements and key issues featured in these films;modernity, colonialism, division, nation, class, gender, identity, tradition, ideology, desire, violence, and migration, among others;will be informed by readings of secondary sources and theoretical works, as well as literary materials produced during the same period. Throughout our analyses, we will seek to contextualize the cinematic texts within moments of major shifts not only in modern Korean history, but also in the transnational film industry and screen culture. In pursuing a broad and detailed perspective of Korean cinema, this course will ultimately enrich, and simultaneously complicate, our understanding of Korea, cinema, and the world. Instruction and all materials will be in English. No preliminary knowledge of Korean history or language is required for taking this course.\\n\\t\\t\\t', 'title': u'KOR 425: Global Korean Cinema', 'level': array([ 0.11955587,  0.        ,  0.        ,  0.        ,  0.        ,\n",
      "        0.        ,  0.        ,  0.        ,  0.        ,  0.        ,\n",
      "        0.        ,  0.        ,  0.        ,  0.        ,  0.        ,\n",
      "        0.        ,  0.        ,  0.        ,  0.        ,  0.        ,\n",
      "        0.        ,  0.        ,  0.        ,  0.        ,  0.        ,\n",
      "        0.17897019,  0.        ,  0.        ,  0.        ,  0.39914619,\n",
      "        0.        ,  0.        ,  0.        ,  0.18240564,  0.        ,\n",
      "        0.        ,  0.        ,  0.25641044,  0.        ,  0.        ,\n",
      "        0.        ,  0.        ,  0.        ,  0.        ,  0.        ,\n",
      "        0.        ,  0.        ,  0.        ,  0.        ,  0.        ,\n",
      "        0.        ,  0.        ,  0.        ,  0.        ,  0.        ,\n",
      "        0.        ,  0.        ,  0.16946208,  0.        ,  0.        ,\n",
      "        0.        ,  0.        ,  0.        ,  0.        ,  0.        ,\n",
      "        0.        ,  0.        ,  0.        ,  0.        ,  0.        ,\n",
      "        0.        ,  0.27699178,  0.        ,  0.        ,  0.        ,\n",
      "        0.        ,  0.        ,  0.        ,  0.        ,  0.        ,\n",
      "        0.03566869,  0.        ,  0.        ,  0.        ,  0.        ,\n",
      "        0.09892658,  0.        ,  0.        ,  0.20774626,  0.        ,\n",
      "        0.        ,  0.        ,  0.        ,  0.        ,  0.        ,\n",
      "        0.        ,  0.        ,  0.        ,  0.        ,  0.        ]), 'credits': u'\\n\\t\\t\\t3 Credits\\n\\t\\t', 'num': u'425', 'prerequisite': u'\\nPrerequisite: KOR\\xa0120; KOR\\xa0121; ASIA\\xa0100; ASIA\\xa0102; ASIA 83; ASIA 4; CMLIT 4; 5th Semester standing\\t\\t\\t\\n'}, u'KOR099': {'prereq_courses': [], 'major': u'KOR', 'description': u'\\n\\t\\t\\t\\tCourses offered in foreign countries by individual or group instruction.\\n\\t\\t\\t', 'title': u'KOR 99: Foreign Studies', 'level': array([ 0.29165627,  0.        ,  0.        ,  0.        ,  0.        ,\n",
      "        0.        ,  0.        ,  0.        ,  0.        ,  0.        ,\n",
      "        0.        ,  0.        ,  0.        ,  0.        ,  0.        ,\n",
      "        0.        ,  0.        ,  0.        ,  0.        ,  0.        ,\n",
      "        0.        ,  0.        ,  0.        ,  0.        ,  0.        ,\n",
      "        0.35081623,  0.        ,  0.        ,  0.        ,  0.18375727,\n",
      "        0.        ,  0.        ,  0.        ,  0.20774457,  0.        ,\n",
      "        0.        ,  0.        ,  0.05653725,  0.        ,  0.        ,\n",
      "        0.        ,  0.        ,  0.        ,  0.        ,  0.        ,\n",
      "        0.        ,  0.        ,  0.        ,  0.        ,  0.        ,\n",
      "        0.        ,  0.        ,  0.        ,  0.        ,  0.        ,\n",
      "        0.        ,  0.        ,  0.56352906,  0.        ,  0.        ,\n",
      "        0.        ,  0.        ,  0.        ,  0.        ,  0.        ,\n",
      "        0.        ,  0.        ,  0.        ,  0.        ,  0.        ,\n",
      "        0.        ,  0.22969196,  0.        ,  0.        ,  0.        ,\n",
      "        0.        ,  0.        ,  0.        ,  0.        ,  0.        ,\n",
      "        0.2175033 ,  0.        ,  0.        ,  0.        ,  0.        ,\n",
      "        0.06852764,  0.        ,  0.        ,  0.13994716,  0.        ,\n",
      "        0.        ,  0.        ,  0.        ,  0.        ,  0.        ,\n",
      "        0.        ,  0.        ,  0.        ,  0.        ,  0.        ]), 'credits': u'\\n\\t\\t\\t1-12 Credits/Maximum of 12\\n\\t\\t', 'num': u'99', 'prerequisite': ''}, u'KOR494H': {'prereq_courses': [], 'major': u'KOR', 'description': u'\\n\\t\\t\\t\\tSupervised student activities on research projects identified on an individual or small-group basis.\\n\\t\\t\\t', 'title': u'KOR 494H: Research Project', 'level': array([ 0.11781017,  0.        ,  0.        ,  0.        ,  0.        ,\n",
      "        0.        ,  0.        ,  0.        ,  0.        ,  0.        ,\n",
      "        0.        ,  0.        ,  0.        ,  0.        ,  0.        ,\n",
      "        0.        ,  0.        ,  0.        ,  0.        ,  0.        ,\n",
      "        0.        ,  0.        ,  0.        ,  0.        ,  0.        ,\n",
      "        0.1391184 ,  0.        ,  0.        ,  0.        ,  0.19467976,\n",
      "        0.        ,  0.        ,  0.        ,  0.17598554,  0.        ,\n",
      "        0.        ,  0.        ,  0.25423496,  0.        ,  0.        ,\n",
      "        0.        ,  0.        ,  0.        ,  0.        ,  0.        ,\n",
      "        0.        ,  0.        ,  0.        ,  0.        ,  0.        ,\n",
      "        0.        ,  0.        ,  0.        ,  0.        ,  0.        ,\n",
      "        0.        ,  0.        ,  0.03720398,  0.        ,  0.        ,\n",
      "        0.        ,  0.        ,  0.        ,  0.        ,  0.        ,\n",
      "        0.        ,  0.        ,  0.        ,  0.        ,  0.        ,\n",
      "        0.        ,  0.29774074,  0.        ,  0.        ,  0.        ,\n",
      "        0.        ,  0.        ,  0.        ,  0.        ,  0.        ,\n",
      "        0.43695394,  0.        ,  0.        ,  0.        ,  0.        ,\n",
      "        0.4329218 ,  0.        ,  0.        ,  0.62563655,  0.        ,\n",
      "        0.        ,  0.        ,  0.        ,  0.        ,  0.        ,\n",
      "        0.        ,  0.        ,  0.        ,  0.        ,  0.        ]), 'credits': u'\\n\\t\\t\\t1-12 Credits/Maximum of 12\\n\\t\\t', 'num': u'494H', 'prerequisite': ''}, u'KOR121': {'prereq_courses': [], 'major': u'KOR', 'description': u'\\n\\t\\t\\t\\tSurvey of contemporary Korean popular culture in various forms, including pop music, film, TV drama, advertising, comics, and literature. What do we mark as \\xbfKorean-style\\xbf? Are the images of Korea(ns) changing with the worldwide spread of Korean popular culture known as the Korean Wave (Hallyu)? This course provides critical approaches to cultural flows from South Korea. We will employ theoretical concepts and critical vocabularies from cultural studies to deepen and sharpen our analysis of the cultural representation of Korea in relation to questions such as class, gender, ethnicity, and body politics. Using diverse texts from literature, film, TV dramas, comics, and pop music, we will examine the social codes, cultural values, and economic realities that influence Korean society, including the Korean diasporic population around the world. In directing our attention to various ways in which Korean culture is transmitted and presented in different media, we will also inquire into historical and social issues rooted in the division of Korea, as well as the international dispersion of Koreans since the colonial period. Through intellectual exercises in boundary crossing, we will ultimately develop our ability to explore the cross-cultural production of trans/national identities in the age of globalization. Instruction and all materials will be in English. No preliminary knowledge of Korean history or language is required for taking this course.\\n\\t\\t\\t', 'title': u'KOR 121: Korean Popular Culture', 'level': array([ 0.13828155,  0.        ,  0.        ,  0.        ,  0.        ,\n",
      "        0.        ,  0.        ,  0.        ,  0.        ,  0.        ,\n",
      "        0.        ,  0.        ,  0.        ,  0.        ,  0.        ,\n",
      "        0.        ,  0.        ,  0.        ,  0.        ,  0.        ,\n",
      "        0.        ,  0.        ,  0.        ,  0.        ,  0.        ,\n",
      "        0.09193035,  0.        ,  0.        ,  0.        ,  0.177139  ,\n",
      "        0.        ,  0.        ,  0.        ,  0.19784574,  0.        ,\n",
      "        0.        ,  0.        ,  0.00393605,  0.        ,  0.        ,\n",
      "        0.        ,  0.        ,  0.        ,  0.        ,  0.        ,\n",
      "        0.        ,  0.        ,  0.        ,  0.        ,  0.        ,\n",
      "        0.        ,  0.        ,  0.        ,  0.        ,  0.        ,\n",
      "        0.        ,  0.        ,  0.12092258,  0.        ,  0.        ,\n",
      "        0.        ,  0.        ,  0.        ,  0.        ,  0.        ,\n",
      "        0.        ,  0.        ,  0.        ,  0.        ,  0.        ,\n",
      "        0.        ,  0.29453942,  0.        ,  0.        ,  0.        ,\n",
      "        0.        ,  0.        ,  0.        ,  0.        ,  0.        ,\n",
      "        0.18595783,  0.        ,  0.        ,  0.        ,  0.        ,\n",
      "        0.11795204,  0.        ,  0.        ,  0.09935021,  0.        ,\n",
      "        0.        ,  0.        ,  0.        ,  0.        ,  0.        ,\n",
      "        0.        ,  0.        ,  0.        ,  0.        ,  0.        ]), 'credits': u'\\n\\t\\t\\t3 Credits\\n\\t\\t', 'num': u'121', 'prerequisite': ''}, u'KOR120': {'prereq_courses': [], 'major': u'KOR', 'description': u'\\n\\t\\t\\t\\tSurvey of Korean culture and society in historical contexts; exploration from antiquity to the contemporary period through diverse media. This course is designed as a multi-disciplinary introduction to Korean society. In surveying Korean culture from antiquity to the present, we will examine a wide range of primary sources from the past, including archaeological relics, written records, and works of art; as well as contemporary materials by Korean authors, directors, and other cultural producers, together with scholarly commentaries about these materials. Instruction and all materials will be in English. No preliminary knowledge of Korean history or language is required for taking this course. In the first part of the course that covers the origins of Korean \\xbftradition,\\xbf we will observe the formation and development of social relations, popular beliefs, and systems of thought that have shaped the Korean way of life. Our historical analysis of these texts will also locate their resonances and ramifications in modern Korea, particularly in cultural representations. In the second part of the course, we will discuss Korea\\xbfs transformation through its encounter with the West, its modern experiences and national struggle under colonial rule, social upheavals after liberation, and the Korean War. Finally, by tracing the enduring impacts of the unresolved past on contemporary society, we will look at Korea today in terms of economic development and crisis, the democracy movement and its limitations, relations with North Korea and with the US, and sociocultural diversification in the age of globalization. By situating these topics within the broader contexts of East Asia and the world, we will seek to gain a richer and more nuanced view of Korea on the global map. The overall goal of this course is to develop students\\xbf abilities to engage in cross-cultural understanding. Through a comprehensive study of Korean materials from a variety of genres and media, students will not only learn about and from Korean history and culture, but also enhance their skills in reading closely, thinking critically, and writing effectively. In exploring Korean culture as a space of complex formations and dynamic interactions, students will be trained to question, analyze, and appreciate different modes of cultural production in their specific political and social contexts.\\n\\t\\t\\t', 'title': u'KOR 120: Introduction to Korean Culture', 'level': array([ 0.00599823,  0.        ,  0.        ,  0.        ,  0.        ,\n",
      "        0.        ,  0.        ,  0.        ,  0.        ,  0.        ,\n",
      "        0.        ,  0.        ,  0.        ,  0.        ,  0.        ,\n",
      "        0.        ,  0.        ,  0.        ,  0.        ,  0.        ,\n",
      "        0.        ,  0.        ,  0.        ,  0.        ,  0.        ,\n",
      "        0.01231307,  0.        ,  0.        ,  0.        ,  0.09290375,\n",
      "        0.        ,  0.        ,  0.        ,  0.01320342,  0.        ,\n",
      "        0.        ,  0.        ,  0.01248033,  0.        ,  0.        ,\n",
      "        0.        ,  0.        ,  0.        ,  0.        ,  0.        ,\n",
      "        0.        ,  0.        ,  0.        ,  0.        ,  0.        ,\n",
      "        0.        ,  0.        ,  0.        ,  0.        ,  0.        ,\n",
      "        0.        ,  0.        ,  0.03905638,  0.        ,  0.        ,\n",
      "        0.        ,  0.        ,  0.        ,  0.        ,  0.        ,\n",
      "        0.        ,  0.        ,  0.        ,  0.        ,  0.        ,\n",
      "        0.        ,  0.05915553,  0.        ,  0.        ,  0.        ,\n",
      "        0.        ,  0.        ,  0.        ,  0.        ,  0.        ,\n",
      "        0.07743045,  0.        ,  0.        ,  0.        ,  0.        ,\n",
      "        0.07281663,  0.        ,  0.        ,  0.0232311 ,  0.        ,\n",
      "        0.        ,  0.        ,  0.        ,  0.        ,  0.        ,\n",
      "        0.        ,  0.        ,  0.        ,  0.        ,  0.        ]), 'credits': u'\\n\\t\\t\\t3 Credits\\n\\t\\t', 'num': u'120', 'prerequisite': ''}}, 'courses_list_ordered': [u'KOR120', u'KOR121', u'KOR424', u'KOR425', u'KOR494H', u'KOR099'], 'level': (array([ 0, 71, 33, 80, 85, 25, 88, 57, 37, 29]), array([ 0.394271  ,  0.92088794,  0.60890168,  0.69639774,  0.55481966,\n",
      "        0.54539037,  0.82607731,  0.56352906,  0.66974169,  1.        ]))}\n"
     ]
    }
   ],
   "source": [
    "for sub_name in data_real_course:\n",
    "    courses_list = data_real_course[sub_name][\"courses\"]\n",
    "    courses_list = [[cou_name, courses_list[cou_name][\"num\"]] for cou_name in courses_list]\n",
    "    courses_list = sorted(courses_list, key=lambda x: x[1])\n",
    "    data_real_course[sub_name][\"courses_list_ordered\"] = map(lambda x: x[0], courses_list)\n",
    "    \n",
    "    sub_level = data_real_course[sub_name][\"level\"]\n",
    "    courses_level = courses_level_generate(ind=sub_level[0], dist=sub_level[1], N_cou=len(courses_list))\n",
    "    \n",
    "    for i in range(len(courses_level)):\n",
    "        cou_name = courses_list[i][0]\n",
    "        data_real_course[sub_name][\"courses\"][cou_name][\"level\"] = courses_level[i]\n",
    "print data_real_course[\"Korean (KOR)\"]"
   ]
  },
  {
   "cell_type": "code",
   "execution_count": 8,
   "metadata": {
    "collapsed": false
   },
   "outputs": [
    {
     "name": "stdout",
     "output_type": "stream",
     "text": [
      "{'sub': u'Geography (GEOG)', 'level': [array([ 0.00898088,  0.14823021,  0.17040438,  0.08990204,  0.00110816,\n",
      "        0.1731696 ,  0.00266043,  0.02256423,  0.19370038,  0.00187357,\n",
      "        0.0905741 ,  0.04309378,  0.06836085,  0.03513546,  0.01766123,\n",
      "        0.01730429,  0.05302066,  0.05222098,  0.13863535,  0.17195675,\n",
      "        0.11053703,  0.16247882,  0.08733896,  0.02371077,  0.03655564,\n",
      "        0.07796913,  0.06134286,  0.15228704,  0.15495693,  0.00713681,\n",
      "        0.06921099,  0.10159676,  0.06974416,  0.19670656,  0.06819331,\n",
      "        0.04299711,  0.2       ,  0.11988428,  0.07771742,  0.04322466,\n",
      "        0.04382109,  0.13049922,  0.0536835 ,  0.03561118,  0.01801422,\n",
      "        0.19019254,  0.0605558 ,  0.04701785,  0.1958277 ,  0.17900365,\n",
      "        0.1217917 ,  0.0791968 ,  0.12187358,  0.05649097,  0.17333939,\n",
      "        0.10653765,  0.07054044,  0.11728074,  0.03621689,  0.07336477,\n",
      "        0.11838328,  0.11246937,  0.07868593,  0.07119149,  0.02288742,\n",
      "        0.15564257,  0.08392294,  0.14404151,  0.19701329,  0.04938118,\n",
      "        0.15406193,  0.13004704,  0.13510715,  0.03887059,  0.10030092,\n",
      "        0.02988958,  0.04371445,  0.03344451,  0.18015175,  0.08685956,\n",
      "        0.06529595,  0.14420316,  0.05934896,  0.18324584,  0.15109231,\n",
      "        0.11922965,  0.04603181,  0.01824042,  0.09132016,  0.19627712,\n",
      "        0.13314485,  0.14075939,  0.07524521,  0.01351931,  0.04920952,\n",
      "        0.18550285,  0.16772217,  0.02635204,  0.19690872,  0.11612511])]}\n"
     ]
    }
   ],
   "source": [
    "# Synthesize Students #\n",
    "stu_dict = {}\n",
    "subs_list = data_real_course.keys()\n",
    "N_sub = len(subs_list)\n",
    "for i in range(N_stu):\n",
    "    sub_id = np.random.randint(N_sub)\n",
    "    sub_name = subs_list[sub_id]\n",
    "    stu_dict[i] = {\"sub\": sub_name}\n",
    "    data_real_course[sub_name].setdefault(\"N_stu\", 0)\n",
    "    data_real_course[sub_name][\"N_stu\"] += 1\n",
    "    \n",
    "    stu_dict[i][\"level\"] = [level_generate(N_sparse=K, N_range=K, scale=0.2)]\n",
    "print stu_dict[0]"
   ]
  },
  {
   "cell_type": "code",
   "execution_count": 9,
   "metadata": {
    "collapsed": false
   },
   "outputs": [
    {
     "name": "stdout",
     "output_type": "stream",
     "text": [
      "{'grade': [[], [], [], [], [], [], [], [], [], [], [], []], 'cou_taken': [[], [], [], [], [], [], [], [], [], [], [], []], 'sub': u'Geography (GEOG)', 'level': [array([ 0.00898088,  0.14823021,  0.17040438,  0.08990204,  0.00110816,\n",
      "        0.1731696 ,  0.00266043,  0.02256423,  0.19370038,  0.00187357,\n",
      "        0.0905741 ,  0.04309378,  0.06836085,  0.03513546,  0.01766123,\n",
      "        0.01730429,  0.05302066,  0.05222098,  0.13863535,  0.17195675,\n",
      "        0.11053703,  0.16247882,  0.08733896,  0.02371077,  0.03655564,\n",
      "        0.07796913,  0.06134286,  0.15228704,  0.15495693,  0.00713681,\n",
      "        0.06921099,  0.10159676,  0.06974416,  0.19670656,  0.06819331,\n",
      "        0.04299711,  0.2       ,  0.11988428,  0.07771742,  0.04322466,\n",
      "        0.04382109,  0.13049922,  0.0536835 ,  0.03561118,  0.01801422,\n",
      "        0.19019254,  0.0605558 ,  0.04701785,  0.1958277 ,  0.17900365,\n",
      "        0.1217917 ,  0.0791968 ,  0.12187358,  0.05649097,  0.17333939,\n",
      "        0.10653765,  0.07054044,  0.11728074,  0.03621689,  0.07336477,\n",
      "        0.11838328,  0.11246937,  0.07868593,  0.07119149,  0.02288742,\n",
      "        0.15564257,  0.08392294,  0.14404151,  0.19701329,  0.04938118,\n",
      "        0.15406193,  0.13004704,  0.13510715,  0.03887059,  0.10030092,\n",
      "        0.02988958,  0.04371445,  0.03344451,  0.18015175,  0.08685956,\n",
      "        0.06529595,  0.14420316,  0.05934896,  0.18324584,  0.15109231,\n",
      "        0.11922965,  0.04603181,  0.01824042,  0.09132016,  0.19627712,\n",
      "        0.13314485,  0.14075939,  0.07524521,  0.01351931,  0.04920952,\n",
      "        0.18550285,  0.16772217,  0.02635204,  0.19690872,  0.11612511])]}\n"
     ]
    }
   ],
   "source": [
    "# synthesize enrollment info #\n",
    "enroll_stu = stu_dict\n",
    "for stu in enroll_stu:\n",
    "    enroll_stu[stu][\"cou_taken\"] = [[] for i in range(N_semaster)]\n",
    "    enroll_stu[stu][\"grade\"] = [[] for i in range(N_semaster)]\n",
    "print enroll_stu[0]"
   ]
  },
  {
   "cell_type": "code",
   "execution_count": 10,
   "metadata": {
    "collapsed": false
   },
   "outputs": [
    {
     "name": "stdout",
     "output_type": "stream",
     "text": [
      "{'N_stu': 195, 'courses_list_ordered': [u'KOR120', u'KOR121', u'KOR424', u'KOR425', u'KOR494H', u'KOR099'], 'url': u'/university-course-descriptions/undergraduate/kor/', 'level': (array([ 0, 71, 33, 80, 85, 25, 88, 57, 37, 29]), array([ 0.394271  ,  0.92088794,  0.60890168,  0.69639774,  0.55481966,\n",
      "        0.54539037,  0.82607731,  0.56352906,  0.66974169,  1.        ])), 'courses': {u'KOR424': {'prereq_courses': [u'KOR120', u'KOR121', u'ASIA100', u'ASIA102', u'ASIA004', u'CMLIT004'], 'major': u'KOR', 'description': u'\\n\\t\\t\\t\\tExploration of seminal Korean texts, including poetry, fiction, autobiography, and criticism, from the early twentieth century to the contemporary era. This course provides a comprehensive overview of modern Korean literature within a transnational context. As we learn how to critically analyze seminal Korean texts, we will locate them in the social, political, economic, and cultural conditions under which they were produced and received. In grappling with some of the fundamental issues they raise;including colonialism, migration, national division, war, gender relations, developmentalism, urbanization, democratization, and contemporary consumer culture;we will also seek to situate these writings in the Korean vernacular within the larger context of global modernity. Rather than take Korean literature and global modernity as given or apart from each other, we will attend to their intersections by raising such questions as: How did modern experiences, constructed through the interface with unfamiliar Others, change preexisting ways of writing and reading? How did foreign occupations affect the formation of a national literature? In what ways do Korean writers\\' representations of the inter/national events and phenomena on and beyond the Korean peninsula at once enrich and complicate empirical investigations into modern histories of Korea, East Asia, and the world? In an increasingly borderless world, can we draw a boundary around what is called \"Korean\" literature? In parallel with these questions, we will further discuss why and how to engage in literary practices in the current age of digital reproduction. Instruction and all materials will be in English. No preliminary knowledge of Korean history or language is required for taking this course.\\n\\t\\t\\t', 'title': u'KOR 424: Transnational Korean Literature', 'level': array([ 0.03499078,  0.        ,  0.        ,  0.        ,  0.        ,\n",
      "        0.        ,  0.        ,  0.        ,  0.        ,  0.        ,\n",
      "        0.        ,  0.        ,  0.        ,  0.        ,  0.        ,\n",
      "        0.        ,  0.        ,  0.        ,  0.        ,  0.        ,\n",
      "        0.        ,  0.        ,  0.        ,  0.        ,  0.        ,\n",
      "        0.07129183,  0.        ,  0.        ,  0.        ,  0.15283455,\n",
      "        0.        ,  0.        ,  0.        ,  0.15514508,  0.        ,\n",
      "        0.        ,  0.        ,  0.1640268 ,  0.        ,  0.        ,\n",
      "        0.        ,  0.        ,  0.        ,  0.        ,  0.        ,\n",
      "        0.        ,  0.        ,  0.        ,  0.        ,  0.        ,\n",
      "        0.        ,  0.        ,  0.        ,  0.        ,  0.        ,\n",
      "        0.        ,  0.        ,  0.20757128,  0.        ,  0.        ,\n",
      "        0.        ,  0.        ,  0.        ,  0.        ,  0.        ,\n",
      "        0.        ,  0.        ,  0.        ,  0.        ,  0.        ,\n",
      "        0.        ,  0.19535189,  0.        ,  0.        ,  0.        ,\n",
      "        0.        ,  0.        ,  0.        ,  0.        ,  0.        ,\n",
      "        0.22036149,  0.        ,  0.        ,  0.        ,  0.        ,\n",
      "        0.14711225,  0.        ,  0.        ,  0.03599246,  0.        ,\n",
      "        0.        ,  0.        ,  0.        ,  0.        ,  0.        ,\n",
      "        0.        ,  0.        ,  0.        ,  0.        ,  0.        ]), 'credits': u'\\n\\t\\t\\t3 Credits\\n\\t\\t', 'num': u'424', 'prerequisite': u'\\nPrerequisite: KOR\\xa0120; KOR\\xa0121; ASIA\\xa0100; ASIA\\xa0102; ASIA 83; ASIA 4; CMLIT 4; 5th Semester standing\\t\\t\\t\\n'}, u'KOR425': {'prereq_courses': [u'KOR120', u'KOR121', u'ASIA100', u'ASIA102', u'ASIA004', u'CMLIT004'], 'major': u'KOR', 'description': u'\\n\\t\\t\\t\\tExploration of Korean cinema from the early twentieth century to the present, with an emphasis on its global/local dynamics. This course offers an introductory overview of Korean cinema. As we trace its history from the colonial period to the current \"Korean wave,\" we will also engage with film criticism, the trans/national contexts of film productions, the particular aesthetics of selected auteurs/genres, and local/global receptions of Korean cinema. Our discussion of formal elements and key issues featured in these films;modernity, colonialism, division, nation, class, gender, identity, tradition, ideology, desire, violence, and migration, among others;will be informed by readings of secondary sources and theoretical works, as well as literary materials produced during the same period. Throughout our analyses, we will seek to contextualize the cinematic texts within moments of major shifts not only in modern Korean history, but also in the transnational film industry and screen culture. In pursuing a broad and detailed perspective of Korean cinema, this course will ultimately enrich, and simultaneously complicate, our understanding of Korea, cinema, and the world. Instruction and all materials will be in English. No preliminary knowledge of Korean history or language is required for taking this course.\\n\\t\\t\\t', 'title': u'KOR 425: Global Korean Cinema', 'level': array([ 0.11955587,  0.        ,  0.        ,  0.        ,  0.        ,\n",
      "        0.        ,  0.        ,  0.        ,  0.        ,  0.        ,\n",
      "        0.        ,  0.        ,  0.        ,  0.        ,  0.        ,\n",
      "        0.        ,  0.        ,  0.        ,  0.        ,  0.        ,\n",
      "        0.        ,  0.        ,  0.        ,  0.        ,  0.        ,\n",
      "        0.17897019,  0.        ,  0.        ,  0.        ,  0.39914619,\n",
      "        0.        ,  0.        ,  0.        ,  0.18240564,  0.        ,\n",
      "        0.        ,  0.        ,  0.25641044,  0.        ,  0.        ,\n",
      "        0.        ,  0.        ,  0.        ,  0.        ,  0.        ,\n",
      "        0.        ,  0.        ,  0.        ,  0.        ,  0.        ,\n",
      "        0.        ,  0.        ,  0.        ,  0.        ,  0.        ,\n",
      "        0.        ,  0.        ,  0.16946208,  0.        ,  0.        ,\n",
      "        0.        ,  0.        ,  0.        ,  0.        ,  0.        ,\n",
      "        0.        ,  0.        ,  0.        ,  0.        ,  0.        ,\n",
      "        0.        ,  0.27699178,  0.        ,  0.        ,  0.        ,\n",
      "        0.        ,  0.        ,  0.        ,  0.        ,  0.        ,\n",
      "        0.03566869,  0.        ,  0.        ,  0.        ,  0.        ,\n",
      "        0.09892658,  0.        ,  0.        ,  0.20774626,  0.        ,\n",
      "        0.        ,  0.        ,  0.        ,  0.        ,  0.        ,\n",
      "        0.        ,  0.        ,  0.        ,  0.        ,  0.        ]), 'credits': u'\\n\\t\\t\\t3 Credits\\n\\t\\t', 'num': u'425', 'prerequisite': u'\\nPrerequisite: KOR\\xa0120; KOR\\xa0121; ASIA\\xa0100; ASIA\\xa0102; ASIA 83; ASIA 4; CMLIT 4; 5th Semester standing\\t\\t\\t\\n'}, u'KOR099': {'prereq_courses': [], 'major': u'KOR', 'description': u'\\n\\t\\t\\t\\tCourses offered in foreign countries by individual or group instruction.\\n\\t\\t\\t', 'title': u'KOR 99: Foreign Studies', 'level': array([ 0.29165627,  0.        ,  0.        ,  0.        ,  0.        ,\n",
      "        0.        ,  0.        ,  0.        ,  0.        ,  0.        ,\n",
      "        0.        ,  0.        ,  0.        ,  0.        ,  0.        ,\n",
      "        0.        ,  0.        ,  0.        ,  0.        ,  0.        ,\n",
      "        0.        ,  0.        ,  0.        ,  0.        ,  0.        ,\n",
      "        0.35081623,  0.        ,  0.        ,  0.        ,  0.18375727,\n",
      "        0.        ,  0.        ,  0.        ,  0.20774457,  0.        ,\n",
      "        0.        ,  0.        ,  0.05653725,  0.        ,  0.        ,\n",
      "        0.        ,  0.        ,  0.        ,  0.        ,  0.        ,\n",
      "        0.        ,  0.        ,  0.        ,  0.        ,  0.        ,\n",
      "        0.        ,  0.        ,  0.        ,  0.        ,  0.        ,\n",
      "        0.        ,  0.        ,  0.56352906,  0.        ,  0.        ,\n",
      "        0.        ,  0.        ,  0.        ,  0.        ,  0.        ,\n",
      "        0.        ,  0.        ,  0.        ,  0.        ,  0.        ,\n",
      "        0.        ,  0.22969196,  0.        ,  0.        ,  0.        ,\n",
      "        0.        ,  0.        ,  0.        ,  0.        ,  0.        ,\n",
      "        0.2175033 ,  0.        ,  0.        ,  0.        ,  0.        ,\n",
      "        0.06852764,  0.        ,  0.        ,  0.13994716,  0.        ,\n",
      "        0.        ,  0.        ,  0.        ,  0.        ,  0.        ,\n",
      "        0.        ,  0.        ,  0.        ,  0.        ,  0.        ]), 'credits': u'\\n\\t\\t\\t1-12 Credits/Maximum of 12\\n\\t\\t', 'num': u'99', 'prerequisite': ''}, u'KOR494H': {'prereq_courses': [], 'major': u'KOR', 'description': u'\\n\\t\\t\\t\\tSupervised student activities on research projects identified on an individual or small-group basis.\\n\\t\\t\\t', 'title': u'KOR 494H: Research Project', 'level': array([ 0.11781017,  0.        ,  0.        ,  0.        ,  0.        ,\n",
      "        0.        ,  0.        ,  0.        ,  0.        ,  0.        ,\n",
      "        0.        ,  0.        ,  0.        ,  0.        ,  0.        ,\n",
      "        0.        ,  0.        ,  0.        ,  0.        ,  0.        ,\n",
      "        0.        ,  0.        ,  0.        ,  0.        ,  0.        ,\n",
      "        0.1391184 ,  0.        ,  0.        ,  0.        ,  0.19467976,\n",
      "        0.        ,  0.        ,  0.        ,  0.17598554,  0.        ,\n",
      "        0.        ,  0.        ,  0.25423496,  0.        ,  0.        ,\n",
      "        0.        ,  0.        ,  0.        ,  0.        ,  0.        ,\n",
      "        0.        ,  0.        ,  0.        ,  0.        ,  0.        ,\n",
      "        0.        ,  0.        ,  0.        ,  0.        ,  0.        ,\n",
      "        0.        ,  0.        ,  0.03720398,  0.        ,  0.        ,\n",
      "        0.        ,  0.        ,  0.        ,  0.        ,  0.        ,\n",
      "        0.        ,  0.        ,  0.        ,  0.        ,  0.        ,\n",
      "        0.        ,  0.29774074,  0.        ,  0.        ,  0.        ,\n",
      "        0.        ,  0.        ,  0.        ,  0.        ,  0.        ,\n",
      "        0.43695394,  0.        ,  0.        ,  0.        ,  0.        ,\n",
      "        0.4329218 ,  0.        ,  0.        ,  0.62563655,  0.        ,\n",
      "        0.        ,  0.        ,  0.        ,  0.        ,  0.        ,\n",
      "        0.        ,  0.        ,  0.        ,  0.        ,  0.        ]), 'credits': u'\\n\\t\\t\\t1-12 Credits/Maximum of 12\\n\\t\\t', 'num': u'494H', 'prerequisite': ''}, u'KOR121': {'prereq_courses': [], 'major': u'KOR', 'description': u'\\n\\t\\t\\t\\tSurvey of contemporary Korean popular culture in various forms, including pop music, film, TV drama, advertising, comics, and literature. What do we mark as \\xbfKorean-style\\xbf? Are the images of Korea(ns) changing with the worldwide spread of Korean popular culture known as the Korean Wave (Hallyu)? This course provides critical approaches to cultural flows from South Korea. We will employ theoretical concepts and critical vocabularies from cultural studies to deepen and sharpen our analysis of the cultural representation of Korea in relation to questions such as class, gender, ethnicity, and body politics. Using diverse texts from literature, film, TV dramas, comics, and pop music, we will examine the social codes, cultural values, and economic realities that influence Korean society, including the Korean diasporic population around the world. In directing our attention to various ways in which Korean culture is transmitted and presented in different media, we will also inquire into historical and social issues rooted in the division of Korea, as well as the international dispersion of Koreans since the colonial period. Through intellectual exercises in boundary crossing, we will ultimately develop our ability to explore the cross-cultural production of trans/national identities in the age of globalization. Instruction and all materials will be in English. No preliminary knowledge of Korean history or language is required for taking this course.\\n\\t\\t\\t', 'title': u'KOR 121: Korean Popular Culture', 'level': array([ 0.13828155,  0.        ,  0.        ,  0.        ,  0.        ,\n",
      "        0.        ,  0.        ,  0.        ,  0.        ,  0.        ,\n",
      "        0.        ,  0.        ,  0.        ,  0.        ,  0.        ,\n",
      "        0.        ,  0.        ,  0.        ,  0.        ,  0.        ,\n",
      "        0.        ,  0.        ,  0.        ,  0.        ,  0.        ,\n",
      "        0.09193035,  0.        ,  0.        ,  0.        ,  0.177139  ,\n",
      "        0.        ,  0.        ,  0.        ,  0.19784574,  0.        ,\n",
      "        0.        ,  0.        ,  0.00393605,  0.        ,  0.        ,\n",
      "        0.        ,  0.        ,  0.        ,  0.        ,  0.        ,\n",
      "        0.        ,  0.        ,  0.        ,  0.        ,  0.        ,\n",
      "        0.        ,  0.        ,  0.        ,  0.        ,  0.        ,\n",
      "        0.        ,  0.        ,  0.12092258,  0.        ,  0.        ,\n",
      "        0.        ,  0.        ,  0.        ,  0.        ,  0.        ,\n",
      "        0.        ,  0.        ,  0.        ,  0.        ,  0.        ,\n",
      "        0.        ,  0.29453942,  0.        ,  0.        ,  0.        ,\n",
      "        0.        ,  0.        ,  0.        ,  0.        ,  0.        ,\n",
      "        0.18595783,  0.        ,  0.        ,  0.        ,  0.        ,\n",
      "        0.11795204,  0.        ,  0.        ,  0.09935021,  0.        ,\n",
      "        0.        ,  0.        ,  0.        ,  0.        ,  0.        ,\n",
      "        0.        ,  0.        ,  0.        ,  0.        ,  0.        ]), 'credits': u'\\n\\t\\t\\t3 Credits\\n\\t\\t', 'num': u'121', 'prerequisite': ''}, u'KOR120': {'prereq_courses': [], 'major': u'KOR', 'description': u'\\n\\t\\t\\t\\tSurvey of Korean culture and society in historical contexts; exploration from antiquity to the contemporary period through diverse media. This course is designed as a multi-disciplinary introduction to Korean society. In surveying Korean culture from antiquity to the present, we will examine a wide range of primary sources from the past, including archaeological relics, written records, and works of art; as well as contemporary materials by Korean authors, directors, and other cultural producers, together with scholarly commentaries about these materials. Instruction and all materials will be in English. No preliminary knowledge of Korean history or language is required for taking this course. In the first part of the course that covers the origins of Korean \\xbftradition,\\xbf we will observe the formation and development of social relations, popular beliefs, and systems of thought that have shaped the Korean way of life. Our historical analysis of these texts will also locate their resonances and ramifications in modern Korea, particularly in cultural representations. In the second part of the course, we will discuss Korea\\xbfs transformation through its encounter with the West, its modern experiences and national struggle under colonial rule, social upheavals after liberation, and the Korean War. Finally, by tracing the enduring impacts of the unresolved past on contemporary society, we will look at Korea today in terms of economic development and crisis, the democracy movement and its limitations, relations with North Korea and with the US, and sociocultural diversification in the age of globalization. By situating these topics within the broader contexts of East Asia and the world, we will seek to gain a richer and more nuanced view of Korea on the global map. The overall goal of this course is to develop students\\xbf abilities to engage in cross-cultural understanding. Through a comprehensive study of Korean materials from a variety of genres and media, students will not only learn about and from Korean history and culture, but also enhance their skills in reading closely, thinking critically, and writing effectively. In exploring Korean culture as a space of complex formations and dynamic interactions, students will be trained to question, analyze, and appreciate different modes of cultural production in their specific political and social contexts.\\n\\t\\t\\t', 'title': u'KOR 120: Introduction to Korean Culture', 'level': array([ 0.00599823,  0.        ,  0.        ,  0.        ,  0.        ,\n",
      "        0.        ,  0.        ,  0.        ,  0.        ,  0.        ,\n",
      "        0.        ,  0.        ,  0.        ,  0.        ,  0.        ,\n",
      "        0.        ,  0.        ,  0.        ,  0.        ,  0.        ,\n",
      "        0.        ,  0.        ,  0.        ,  0.        ,  0.        ,\n",
      "        0.01231307,  0.        ,  0.        ,  0.        ,  0.09290375,\n",
      "        0.        ,  0.        ,  0.        ,  0.01320342,  0.        ,\n",
      "        0.        ,  0.        ,  0.01248033,  0.        ,  0.        ,\n",
      "        0.        ,  0.        ,  0.        ,  0.        ,  0.        ,\n",
      "        0.        ,  0.        ,  0.        ,  0.        ,  0.        ,\n",
      "        0.        ,  0.        ,  0.        ,  0.        ,  0.        ,\n",
      "        0.        ,  0.        ,  0.03905638,  0.        ,  0.        ,\n",
      "        0.        ,  0.        ,  0.        ,  0.        ,  0.        ,\n",
      "        0.        ,  0.        ,  0.        ,  0.        ,  0.        ,\n",
      "        0.        ,  0.05915553,  0.        ,  0.        ,  0.        ,\n",
      "        0.        ,  0.        ,  0.        ,  0.        ,  0.        ,\n",
      "        0.07743045,  0.        ,  0.        ,  0.        ,  0.        ,\n",
      "        0.07281663,  0.        ,  0.        ,  0.0232311 ,  0.        ,\n",
      "        0.        ,  0.        ,  0.        ,  0.        ,  0.        ,\n",
      "        0.        ,  0.        ,  0.        ,  0.        ,  0.        ]), 'credits': u'\\n\\t\\t\\t3 Credits\\n\\t\\t', 'num': u'120', 'prerequisite': ''}}, 'cou_sem_center': array([[ 1.        ,  0.87032473,  0.57375342,  0.2865048 ,  0.10836802,\n",
      "         0.03104796],\n",
      "       [ 0.96587368,  0.96587368,  0.73161563,  0.41976697,  0.18242997,\n",
      "         0.06005467],\n",
      "       [ 0.87032473,  1.        ,  0.87032473,  0.57375342,  0.2865048 ,\n",
      "         0.10836802],\n",
      "       [ 0.73161563,  0.96587368,  0.96587368,  0.73161563,  0.41976697,\n",
      "         0.18242997],\n",
      "       [ 0.57375342,  0.87032473,  1.        ,  0.87032473,  0.57375342,\n",
      "         0.2865048 ],\n",
      "       [ 0.41976697,  0.73161563,  0.96587368,  0.96587368,  0.73161563,\n",
      "         0.41976697],\n",
      "       [ 0.2865048 ,  0.57375342,  0.87032473,  1.        ,  0.87032473,\n",
      "         0.57375342],\n",
      "       [ 0.18242997,  0.41976697,  0.73161563,  0.96587368,  0.96587368,\n",
      "         0.73161563],\n",
      "       [ 0.10836802,  0.2865048 ,  0.57375342,  0.87032473,  1.        ,\n",
      "         0.87032473],\n",
      "       [ 0.06005467,  0.18242997,  0.41976697,  0.73161563,  0.96587368,\n",
      "         0.96587368],\n",
      "       [ 0.03104796,  0.10836802,  0.2865048 ,  0.57375342,  0.87032473,\n",
      "         1.        ],\n",
      "       [ 0.01497476,  0.06005467,  0.18242997,  0.41976697,  0.73161563,\n",
      "         0.96587368]])}\n"
     ]
    }
   ],
   "source": [
    "# concerning course level - semester taken bias\n",
    "SCALE_COU_SEM = 0.2\n",
    "for sub in data_real_course:\n",
    "    N_cou_p_sub = len(data_real_course[sub][\"courses_list_ordered\"])\n",
    "    cou_sem_center = np.zeros([N_semaster, N_cou_p_sub])\n",
    "    for i_sem in range(N_semaster):\n",
    "        for i_cou in range(cou_sem_center.shape[1]):\n",
    "            cou_sem_center[i_sem, i_cou] = np.exp(- np.power((i_sem * 1.0 / N_semaster - i_cou * 1.0 / N_cou_p_sub), 2.0) \n",
    "                                                  / SCALE_COU_SEM)\n",
    "    data_real_course[sub][\"cou_sem_center\"] = cou_sem_center\n",
    "print data_real_course[\"Korean (KOR)\"]"
   ]
  },
  {
   "cell_type": "code",
   "execution_count": 11,
   "metadata": {
    "collapsed": false
   },
   "outputs": [
    {
     "name": "stdout",
     "output_type": "stream",
     "text": [
      "KOR424\n",
      "KOR425\n",
      "KOR099\n",
      "KOR494H\n",
      "KOR121\n",
      "KOR120\n",
      "49872 97.8146868612\n"
     ]
    }
   ],
   "source": [
    "cou_dict = {}\n",
    "for sub in data_real_course:\n",
    "    for cou_name in data_real_course[sub][\"courses\"]:\n",
    "        cou_dict[cou_name] = data_real_course[sub][\"courses\"][cou_name]\n",
    "        cou_dict[cou_name][\"sub\"] = sub\n",
    "\n",
    "        if sub == \"Korean (KOR)\":\n",
    "            print cou_name\n",
    "\n",
    "def cou_taken_generate_sub(i_sem, i_sub, sub_dict, cou_taken, N_sample):\n",
    "    try:\n",
    "        cou_list = sub_dict[i_sub][\"courses\"].keys()\n",
    "    except:\n",
    "        print i_sub\n",
    "        print sub_dict[i_sub]\n",
    "    cou_list_remain = list(set(cou_list) - set(sum(cou_taken[:i_sem], [])))\n",
    "    if len(cou_list_remain) == 0:\n",
    "        return []\n",
    "    cou_sem_center = sub_dict[i_sub][\"cou_sem_center\"]\n",
    "#     print cou_list_remain\n",
    "    cou_dist_remain = cou_sem_center[i_sem, map(sub_dict[i_sub][\"courses_list_ordered\"].index, cou_list_remain)]\n",
    "    cou_dist_remain = cou_dist_remain / np.sum(cou_dist_remain)\n",
    "    cou_taken_sub = np.random.choice(cou_list_remain, min([N_sample, len(cou_list_remain)]), p=cou_dist_remain, replace=False).tolist()\n",
    "    return cou_taken_sub\n",
    "\n",
    "def cou_taken_generate(i_sem, cou_taken, sub, sub_dict, N_cou_range=N_cou_p_stu_p_sem):\n",
    "    N_cou = np.random.choice(N_cou_range.tolist(), 1)\n",
    "    N_cou_dist = np.random.multinomial(N_cou, [in_sub, 1.0 - in_sub])\n",
    "    N_cou_sub = N_cou_dist[0]\n",
    "    N_cou_out = N_cou_dist[1]\n",
    "    \n",
    "\n",
    "    # in_sub course sampling #\n",
    "    cou_taken_sub = cou_taken_generate_sub(i_sem, sub, sub_dict, cou_taken, N_sample=N_cou_sub)\n",
    "    \n",
    "    # out sub course sampling #\n",
    "    cou_taken_out = []\n",
    "    for i in range(N_cou_out):\n",
    "        i_sub = np.random.choice(sub_dict.keys(), 1)[0]\n",
    "        cou_taken_out += cou_taken_generate_sub(i_sem, i_sub, sub_dict, cou_taken, N_sample=1)\n",
    "    \n",
    "    return cou_taken_sub + cou_taken_out\n",
    "\n",
    "def sigmoid(x):\n",
    "    return 1.0/(1.0 + np.exp(-x))\n",
    "\n",
    "def grade_generate_single_cou(cid, stu_level, cou_dict=cou_dict, learning_noise_scale=0.5, learning_noise_low=0.3, diverse_scale=1):\n",
    "    cou_level = cou_dict[cid][\"level\"]\n",
    "    learning_noise_level = (np.random.random() - learning_noise_low) * learning_noise_scale * cou_level\n",
    "    \n",
    "    grade_level = (stu_level + learning_noise_level -cou_level).clip(max=0.0)\n",
    "#     print grade_level\n",
    "    grade = sigmoid(np.sum((stu_level + learning_noise_level - cou_level).clip(max=0.0) * diverse_scale)) * 200\n",
    "    return grade\n",
    "\n",
    "# test #\n",
    "stu = np.random.randint(N_stu)\n",
    "print stu, grade_generate_single_cou(\"KOR120\", enroll_stu[stu][\"level\"][0])\n",
    "\n",
    "def grade_generate(i_sem, stu, enroll_stu, cou_dict, cou_sem_assigned=None):\n",
    "    cou_sem = enroll_stu[stu][\"cou_taken\"][i_sem]\n",
    "    if cou_sem_assigned is not None:\n",
    "        cou_sem = cou_sem_assigned\n",
    "    N_cou_sem = len(cou_sem)\n",
    "    grade_sem = [-1 for i in range(N_cou_sem)]\n",
    "    stu_level = enroll_stu[stu][\"level\"][i_sem]\n",
    "    for i_cou in range(N_cou_sem):\n",
    "        grade_sem[i_cou] = grade_generate_single_cou(cou_sem[i_cou], stu_level)\n",
    "    return grade_sem\n",
    "\n",
    "def level_update(i_sem, cou_taken_sem, grade_sem, level_last, cou_dict=cou_dict):\n",
    "#     cou_taken = enroll_stu[stu][\"cou_taken\"][i_sem]\n",
    "#     grade = enroll_stu[stu][\"grade\"][i_sem]\n",
    "#     level_last = enroll_stu[stu][level][i_sem]\n",
    "    level_new = level_last.copy()\n",
    "    for i_cou in range(len(cou_taken_sem)):\n",
    "        cou_level = cou_dict[cou_taken_sem[i_cou]][\"level\"]\n",
    "        level_new = np.max(np.array([level_new, cou_level * grade_sem[i_cou] / 100]), axis=0)\n",
    "    return level_new"
   ]
  },
  {
   "cell_type": "code",
   "execution_count": 12,
   "metadata": {
    "collapsed": false
   },
   "outputs": [],
   "source": [
    "sub_dict = data_real_course\n",
    "for i_sem in range(N_semaster):\n",
    "    for stu in range(N_stu):\n",
    "        stu_enroll = enroll_stu[stu]\n",
    "        enroll_stu[stu][\"cou_taken\"][i_sem] = cou_taken_generate(i_sem, stu_enroll[\"cou_taken\"], stu_enroll[\"sub\"], sub_dict)\n",
    "        enroll_stu[stu][\"grade\"][i_sem] = grade_generate(i_sem, stu, enroll_stu, cou_dict)\n",
    "        if len(enroll_stu[stu][\"level\"]) > (i_sem + 1):\n",
    "            # update #\n",
    "            enroll_stu[stu][\"level\"][i_sem + 1] = level_update(i_sem, stu_enroll[\"cou_taken\"][i_sem], stu_enroll[\"grade\"][i_sem], stu_enroll[\"level\"][i_sem])\n",
    "        else:\n",
    "            # new semaster #\n",
    "            enroll_stu[stu][\"level\"].append(level_update(i_sem, stu_enroll[\"cou_taken\"][i_sem], stu_enroll[\"grade\"][i_sem], stu_enroll[\"level\"][-1]))"
   ]
  },
  {
   "cell_type": "markdown",
   "metadata": {},
   "source": []
  },
  {
   "cell_type": "code",
   "execution_count": 13,
   "metadata": {
    "collapsed": false
   },
   "outputs": [
    {
     "name": "stdout",
     "output_type": "stream",
     "text": [
      "{'grade': [[77.856805084562779, 84.092686141475852, 39.992905707529303, 98.771669783975526, 20.387813448678294], [86.915327883826137, 90.694724195659987], [], [72.619817695667351, 66.668924706987454, 99.97277629053427], [77.78514798272488, 43.243026531149255], [], [89.149408815385314], [90.565540628380887], [91.818163995643587, 44.356005098537636, 72.042030636064808], [29.452782149105989], [38.918529779446317], [30.295454951188912]], 'cou_taken': [[u'DMD100', u'DMD300', u'DMD400', u'DANCE221', u'DSM295W'], [u'AAAS397', u'ANSC300'], [], [u'HORT402', u'SOILS422', u'ECON014'], [u'FIN409', u'NAVSC313'], [], [u'ECON417W'], [u'DSM295A'], [u'LTNST100', u'GLIS497', u'CHE450'], [u'APLNG083'], [u'IET321'], [u'EDUC495A']], 'sub': u'Digital Multimedia Design (DMD)', 'level': [array([ 0.02017451,  0.18811806,  0.02823922,  0.19389287,  0.07242007,\n",
      "        0.11931224,  0.1679577 ,  0.09660561,  0.11730596,  0.00123127,\n",
      "        0.01262039,  0.02670677,  0.16915498,  0.04118929,  0.00987113,\n",
      "        0.1316661 ,  0.02426504,  0.10097039,  0.0507396 ,  0.17357006,\n",
      "        0.08742156,  0.05791756,  0.00516871,  0.14213576,  0.14089844,\n",
      "        0.06678954,  0.15776834,  0.17433453,  0.15005785,  0.03044814,\n",
      "        0.14685453,  0.07682345,  0.10480985,  0.08731265,  0.08644124,\n",
      "        0.15657698,  0.1325036 ,  0.13066369,  0.02500465,  0.17993784,\n",
      "        0.1859118 ,  0.1594076 ,  0.06376124,  0.06816043,  0.19375486,\n",
      "        0.11825732,  0.15046034,  0.00244223,  0.14964688,  0.08333305,\n",
      "        0.13149103,  0.07231719,  0.11469348,  0.00905472,  0.19986415,\n",
      "        0.00277886,  0.1703289 ,  0.11894829,  0.06438313,  0.12344524,\n",
      "        0.03994226,  0.17176541,  0.11740919,  0.19885861,  0.19442975,\n",
      "        0.11668239,  0.06971222,  0.12520141,  0.1801381 ,  0.05569974,\n",
      "        0.02170695,  0.08483615,  0.19872664,  0.07846553,  0.01581935,\n",
      "        0.02985274,  0.17025626,  0.10571853,  0.18172656,  0.07075155,\n",
      "        0.12338981,  0.19840191,  0.19195816,  0.06569312,  0.03728233,\n",
      "        0.12097466,  0.0823604 ,  0.1802142 ,  0.19167022,  0.18573065,\n",
      "        0.2       ,  0.02715354,  0.00369037,  0.0478034 ,  0.18644536,\n",
      "        0.17511635,  0.18415361,  0.11782397,  0.18554488,  0.10456059]), array([ 0.02017451,  0.18811806,  0.02823922,  0.19389287,  0.38887543,\n",
      "        0.11931224,  0.1679577 ,  0.09660561,  0.11730596,  0.00123127,\n",
      "        0.01262039,  0.02670677,  0.20387813,  0.08627992,  0.00987113,\n",
      "        0.1316661 ,  0.02426504,  0.10097039,  0.0507396 ,  0.17357006,\n",
      "        0.08742156,  0.13832171,  0.00516871,  0.14213576,  0.14089844,\n",
      "        0.06678954,  0.15776834,  0.17433453,  0.15005785,  0.04116583,\n",
      "        0.14685453,  0.07682345,  0.10940203,  0.08731265,  0.08644124,\n",
      "        0.15657698,  0.1325036 ,  0.13066369,  0.30959228,  0.17993784,\n",
      "        0.1859118 ,  0.1594076 ,  0.06376124,  0.06816043,  0.19375486,\n",
      "        0.11825732,  0.15046034,  0.00244223,  0.14964688,  0.08333305,\n",
      "        0.13149103,  0.18372045,  0.11469348,  0.00905472,  0.19986415,\n",
      "        0.00277886,  0.1703289 ,  0.11894829,  0.06438313,  0.12344524,\n",
      "        0.03994226,  0.17176541,  0.11740919,  0.19885861,  0.19442975,\n",
      "        0.11668239,  0.06971222,  0.12520141,  0.1801381 ,  0.14399307,\n",
      "        0.02170695,  0.08483615,  0.19872664,  0.07846553,  0.01581935,\n",
      "        0.02985274,  0.17025626,  0.10571853,  0.18172656,  0.07075155,\n",
      "        0.12338981,  0.19840191,  0.19195816,  0.06569312,  0.03728233,\n",
      "        0.12097466,  0.10420254,  0.1802142 ,  0.19167022,  0.18573065,\n",
      "        0.2       ,  0.02715354,  0.00369037,  0.0478034 ,  0.18644536,\n",
      "        0.17511635,  0.18415361,  0.11782397,  0.26746154,  0.10456059]), array([ 0.10007727,  0.18811806,  0.02823922,  0.19389287,  0.38887543,\n",
      "        0.11931224,  0.1679577 ,  0.15587208,  0.11730596,  0.00123127,\n",
      "        0.01262039,  0.02670677,  0.20387813,  0.08627992,  0.00987113,\n",
      "        0.1316661 ,  0.02426504,  0.10097039,  0.0507396 ,  0.33804917,\n",
      "        0.08742156,  0.13832171,  0.00516871,  0.14213576,  0.14089844,\n",
      "        0.06678954,  0.15776834,  0.17433453,  0.15005785,  0.04116583,\n",
      "        0.14685453,  0.07682345,  0.10940203,  0.08731265,  0.08644124,\n",
      "        0.15657698,  0.1325036 ,  0.13066369,  0.30959228,  0.17993784,\n",
      "        0.1859118 ,  0.1594076 ,  0.06376124,  0.06816043,  0.19375486,\n",
      "        0.11825732,  0.17476483,  0.03350318,  0.14964688,  0.08333305,\n",
      "        0.13149103,  0.18372045,  0.11469348,  0.00905472,  0.19986415,\n",
      "        0.00277886,  0.1703289 ,  0.11894829,  0.06438313,  0.12344524,\n",
      "        0.03994226,  0.17176541,  0.11740919,  0.19885861,  0.19442975,\n",
      "        0.11668239,  0.06971222,  0.12520141,  0.1801381 ,  0.14399307,\n",
      "        0.02170695,  0.08483615,  0.19872664,  0.07846553,  0.01581935,\n",
      "        0.02985274,  0.17025626,  0.10571853,  0.18172656,  0.07075155,\n",
      "        0.12338981,  0.19840191,  0.19195816,  0.06569312,  0.03728233,\n",
      "        0.12097466,  0.10420254,  0.1802142 ,  0.19167022,  0.18573065,\n",
      "        0.2       ,  0.02715354,  0.00369037,  0.0478034 ,  0.18644536,\n",
      "        0.17511635,  0.18415361,  0.11782397,  0.26746154,  0.10456059]), array([ 0.10007727,  0.18811806,  0.02823922,  0.19389287,  0.38887543,\n",
      "        0.11931224,  0.1679577 ,  0.15587208,  0.11730596,  0.00123127,\n",
      "        0.01262039,  0.02670677,  0.20387813,  0.08627992,  0.00987113,\n",
      "        0.1316661 ,  0.02426504,  0.10097039,  0.0507396 ,  0.33804917,\n",
      "        0.08742156,  0.13832171,  0.00516871,  0.14213576,  0.14089844,\n",
      "        0.06678954,  0.15776834,  0.17433453,  0.15005785,  0.04116583,\n",
      "        0.14685453,  0.07682345,  0.10940203,  0.08731265,  0.08644124,\n",
      "        0.15657698,  0.1325036 ,  0.13066369,  0.30959228,  0.17993784,\n",
      "        0.1859118 ,  0.1594076 ,  0.06376124,  0.06816043,  0.19375486,\n",
      "        0.11825732,  0.17476483,  0.03350318,  0.14964688,  0.08333305,\n",
      "        0.13149103,  0.18372045,  0.11469348,  0.00905472,  0.19986415,\n",
      "        0.00277886,  0.1703289 ,  0.11894829,  0.06438313,  0.12344524,\n",
      "        0.03994226,  0.17176541,  0.11740919,  0.19885861,  0.19442975,\n",
      "        0.11668239,  0.06971222,  0.12520141,  0.1801381 ,  0.14399307,\n",
      "        0.02170695,  0.08483615,  0.19872664,  0.07846553,  0.01581935,\n",
      "        0.02985274,  0.17025626,  0.10571853,  0.18172656,  0.07075155,\n",
      "        0.12338981,  0.19840191,  0.19195816,  0.06569312,  0.03728233,\n",
      "        0.12097466,  0.10420254,  0.1802142 ,  0.19167022,  0.18573065,\n",
      "        0.2       ,  0.02715354,  0.00369037,  0.0478034 ,  0.18644536,\n",
      "        0.17511635,  0.18415361,  0.11782397,  0.26746154,  0.10456059]), array([ 0.10007727,  0.18811806,  0.21921083,  0.19389287,  0.38887543,\n",
      "        0.11931224,  0.1679577 ,  0.15587208,  0.11730596,  0.00123127,\n",
      "        0.01262039,  0.02670677,  0.20387813,  0.08627992,  0.00987113,\n",
      "        0.1316661 ,  0.02426504,  0.10097039,  0.0507396 ,  0.33804917,\n",
      "        0.08742156,  0.13832171,  0.21801479,  0.14213576,  0.14776086,\n",
      "        0.06678954,  0.15776834,  0.17433453,  0.15005785,  0.04116583,\n",
      "        0.14685453,  0.07682345,  0.10940203,  0.08731265,  0.08644124,\n",
      "        0.15657698,  0.1325036 ,  0.13066369,  0.30959228,  0.17993784,\n",
      "        0.1859118 ,  0.1594076 ,  0.15470068,  0.06816043,  0.19375486,\n",
      "        0.11825732,  0.17476483,  0.06450552,  0.14964688,  0.08333305,\n",
      "        0.13149103,  0.18372045,  0.11469348,  0.00905472,  0.19986415,\n",
      "        0.00277886,  0.1703289 ,  0.11894829,  0.06438313,  0.12344524,\n",
      "        0.03994226,  0.17176541,  0.11740919,  0.19885861,  0.19442975,\n",
      "        0.11668239,  0.06971222,  0.12520141,  0.1801381 ,  0.14399307,\n",
      "        0.02170695,  0.08483615,  0.19872664,  0.38509069,  0.01581935,\n",
      "        0.02985274,  0.17025626,  0.10571853,  0.26379899,  0.07075155,\n",
      "        0.12338981,  0.19840191,  0.19195816,  0.06569312,  0.16677929,\n",
      "        0.12097466,  0.10420254,  0.1802142 ,  0.19167022,  0.18573065,\n",
      "        0.2       ,  0.02715354,  0.00369037,  0.0478034 ,  0.18644536,\n",
      "        0.17511635,  0.20839804,  0.11782397,  0.26746154,  0.10456059]), array([ 0.10007727,  0.18811806,  0.21921083,  0.19389287,  0.38887543,\n",
      "        0.11931224,  0.1679577 ,  0.15587208,  0.11730596,  0.00123127,\n",
      "        0.01262039,  0.02670677,  0.20387813,  0.08627992,  0.00987113,\n",
      "        0.1316661 ,  0.02426504,  0.10097039,  0.0507396 ,  0.33804917,\n",
      "        0.10323197,  0.13832171,  0.21801479,  0.14213576,  0.14776086,\n",
      "        0.06678954,  0.15776834,  0.17433453,  0.15005785,  0.04116583,\n",
      "        0.14685453,  0.07682345,  0.10940203,  0.08731265,  0.08644124,\n",
      "        0.21033754,  0.1325036 ,  0.13066369,  0.30959228,  0.17993784,\n",
      "        0.1859118 ,  0.1594076 ,  0.15470068,  0.06816043,  0.19375486,\n",
      "        0.11825732,  0.17476483,  0.06450552,  0.14964688,  0.08333305,\n",
      "        0.13149103,  0.18372045,  0.11469348,  0.00905472,  0.19986415,\n",
      "        0.00277886,  0.1703289 ,  0.11894829,  0.06438313,  0.12344524,\n",
      "        0.03994226,  0.17176541,  0.27064411,  0.19885861,  0.19442975,\n",
      "        0.11668239,  0.31509954,  0.12520141,  0.1801381 ,  0.14399307,\n",
      "        0.02170695,  0.08483615,  0.19872664,  0.38509069,  0.01581935,\n",
      "        0.02985274,  0.17025626,  0.10571853,  0.26379899,  0.07075155,\n",
      "        0.12338981,  0.19840191,  0.19195816,  0.06569312,  0.16677929,\n",
      "        0.12097466,  0.10420254,  0.1802142 ,  0.19167022,  0.18573065,\n",
      "        0.2       ,  0.02715354,  0.20871661,  0.0478034 ,  0.18644536,\n",
      "        0.17511635,  0.20839804,  0.11782397,  0.26746154,  0.10456059]), array([ 0.10007727,  0.18811806,  0.21921083,  0.19389287,  0.38887543,\n",
      "        0.11931224,  0.1679577 ,  0.15587208,  0.11730596,  0.00123127,\n",
      "        0.01262039,  0.02670677,  0.20387813,  0.08627992,  0.00987113,\n",
      "        0.1316661 ,  0.02426504,  0.10097039,  0.0507396 ,  0.33804917,\n",
      "        0.10323197,  0.13832171,  0.21801479,  0.14213576,  0.14776086,\n",
      "        0.06678954,  0.15776834,  0.17433453,  0.15005785,  0.04116583,\n",
      "        0.14685453,  0.07682345,  0.10940203,  0.08731265,  0.08644124,\n",
      "        0.21033754,  0.1325036 ,  0.13066369,  0.30959228,  0.17993784,\n",
      "        0.1859118 ,  0.1594076 ,  0.15470068,  0.06816043,  0.19375486,\n",
      "        0.11825732,  0.17476483,  0.06450552,  0.14964688,  0.08333305,\n",
      "        0.13149103,  0.18372045,  0.11469348,  0.00905472,  0.19986415,\n",
      "        0.00277886,  0.1703289 ,  0.11894829,  0.06438313,  0.12344524,\n",
      "        0.03994226,  0.17176541,  0.27064411,  0.19885861,  0.19442975,\n",
      "        0.11668239,  0.31509954,  0.12520141,  0.1801381 ,  0.14399307,\n",
      "        0.02170695,  0.08483615,  0.19872664,  0.38509069,  0.01581935,\n",
      "        0.02985274,  0.17025626,  0.10571853,  0.26379899,  0.07075155,\n",
      "        0.12338981,  0.19840191,  0.19195816,  0.06569312,  0.16677929,\n",
      "        0.12097466,  0.10420254,  0.1802142 ,  0.19167022,  0.18573065,\n",
      "        0.2       ,  0.02715354,  0.20871661,  0.0478034 ,  0.18644536,\n",
      "        0.17511635,  0.20839804,  0.11782397,  0.26746154,  0.10456059]), array([ 0.10007727,  0.18811806,  0.21921083,  0.19389287,  0.38887543,\n",
      "        0.11931224,  0.1679577 ,  0.15587208,  0.11730596,  0.00123127,\n",
      "        0.01262039,  0.02670677,  0.20387813,  0.08627992,  0.00987113,\n",
      "        0.1316661 ,  0.02426504,  0.10097039,  0.0507396 ,  0.33804917,\n",
      "        0.10323197,  0.13832171,  0.21801479,  0.14213576,  0.14776086,\n",
      "        0.06678954,  0.15776834,  0.17433453,  0.15005785,  0.04116583,\n",
      "        0.14685453,  0.07682345,  0.10940203,  0.08731265,  0.08644124,\n",
      "        0.21033754,  0.1325036 ,  0.13066369,  0.30959228,  0.17993784,\n",
      "        0.1859118 ,  0.1594076 ,  0.15470068,  0.06816043,  0.19375486,\n",
      "        0.11825732,  0.17476483,  0.06450552,  0.14964688,  0.08333305,\n",
      "        0.13149103,  0.18372045,  0.11469348,  0.00905472,  0.19986415,\n",
      "        0.00277886,  0.1703289 ,  0.11894829,  0.06438313,  0.12344524,\n",
      "        0.03994226,  0.17176541,  0.27064411,  0.19885861,  0.19442975,\n",
      "        0.11668239,  0.31509954,  0.12520141,  0.1801381 ,  0.14399307,\n",
      "        0.02170695,  0.08483615,  0.19872664,  0.38509069,  0.01581935,\n",
      "        0.02985274,  0.17025626,  0.10571853,  0.26379899,  0.10128934,\n",
      "        0.12338981,  0.28863421,  0.19195816,  0.06569312,  0.16677929,\n",
      "        0.12097466,  0.10420254,  0.25254765,  0.19167022,  0.18573065,\n",
      "        0.2       ,  0.02715354,  0.20871661,  0.0478034 ,  0.18644536,\n",
      "        0.17511635,  0.20839804,  0.11782397,  0.26746154,  0.10456059]), array([ 0.10007727,  0.18811806,  0.21921083,  0.19389287,  0.38887543,\n",
      "        0.11931224,  0.1679577 ,  0.15587208,  0.11730596,  0.00123127,\n",
      "        0.01262039,  0.02670677,  0.20387813,  0.08627992,  0.00987113,\n",
      "        0.1316661 ,  0.02426504,  0.10097039,  0.0507396 ,  0.33804917,\n",
      "        0.10323197,  0.3084007 ,  0.21801479,  0.14213576,  0.14776086,\n",
      "        0.06678954,  0.15776834,  0.17433453,  0.15005785,  0.04116583,\n",
      "        0.14685453,  0.07682345,  0.10940203,  0.08731265,  0.08644124,\n",
      "        0.21033754,  0.1325036 ,  0.13066369,  0.30959228,  0.17993784,\n",
      "        0.1859118 ,  0.1594076 ,  0.15470068,  0.06816043,  0.19375486,\n",
      "        0.11825732,  0.17476483,  0.06450552,  0.14964688,  0.08333305,\n",
      "        0.13149103,  0.18372045,  0.11469348,  0.00905472,  0.19986415,\n",
      "        0.00277886,  0.1703289 ,  0.11894829,  0.06438313,  0.12344524,\n",
      "        0.03994226,  0.17176541,  0.27064411,  0.19885861,  0.19442975,\n",
      "        0.11668239,  0.31509954,  0.12520141,  0.1801381 ,  0.14399307,\n",
      "        0.02170695,  0.08483615,  0.19872664,  0.38509069,  0.01581935,\n",
      "        0.02985274,  0.17025626,  0.10571853,  0.26379899,  0.10128934,\n",
      "        0.12338981,  0.28863421,  0.19195816,  0.14115562,  0.16677929,\n",
      "        0.12097466,  0.10420254,  0.25254765,  0.19167022,  0.18573065,\n",
      "        0.2       ,  0.02715354,  0.20871661,  0.0478034 ,  0.18644536,\n",
      "        0.17511635,  0.20839804,  0.11782397,  0.26746154,  0.10456059]), array([ 0.11396909,  0.18811806,  0.21921083,  0.19389287,  0.38887543,\n",
      "        0.11931224,  0.1679577 ,  0.15587208,  0.11730596,  0.00123127,\n",
      "        0.01262039,  0.17836406,  0.20387813,  0.08627992,  0.00987113,\n",
      "        0.17531419,  0.05029821,  0.10097039,  0.0507396 ,  0.33804917,\n",
      "        0.10323197,  0.3084007 ,  0.21801479,  0.14213576,  0.14776086,\n",
      "        0.06678954,  0.15776834,  0.17433453,  0.15005785,  0.04116583,\n",
      "        0.14685453,  0.07682345,  0.10940203,  0.08731265,  0.1043088 ,\n",
      "        0.21033754,  0.1325036 ,  0.13066369,  0.30959228,  0.17993784,\n",
      "        0.1859118 ,  0.1594076 ,  0.1999726 ,  0.06816043,  0.19375486,\n",
      "        0.11825732,  0.17476483,  0.06450552,  0.14964688,  0.08333305,\n",
      "        0.13149103,  0.18372045,  0.11469348,  0.00905472,  0.19986415,\n",
      "        0.00277886,  0.1703289 ,  0.11894829,  0.29529021,  0.12344524,\n",
      "        0.03994226,  0.17176541,  0.27064411,  0.19885861,  0.19442975,\n",
      "        0.11668239,  0.31509954,  0.12520141,  0.1801381 ,  0.14399307,\n",
      "        0.02170695,  0.08483615,  0.19872664,  0.38509069,  0.06764084,\n",
      "        0.02985274,  0.17025626,  0.10571853,  0.26379899,  0.30569463,\n",
      "        0.12338981,  0.28863421,  0.22939875,  0.14115562,  0.16677929,\n",
      "        0.12097466,  0.10420254,  0.25254765,  0.19167022,  0.40444888,\n",
      "        0.2       ,  0.02715354,  0.20871661,  0.0478034 ,  0.44904126,\n",
      "        0.17511635,  0.20839804,  0.11782397,  0.26746154,  0.10456059]), array([ 0.11396909,  0.18811806,  0.21921083,  0.19389287,  0.38887543,\n",
      "        0.11931224,  0.1679577 ,  0.15587208,  0.11730596,  0.00123127,\n",
      "        0.01262039,  0.17836406,  0.20387813,  0.08627992,  0.17228263,\n",
      "        0.17531419,  0.05029821,  0.10097039,  0.0507396 ,  0.33804917,\n",
      "        0.10323197,  0.3084007 ,  0.21801479,  0.14213576,  0.14776086,\n",
      "        0.06678954,  0.15776834,  0.17433453,  0.15005785,  0.04116583,\n",
      "        0.14685453,  0.07682345,  0.10940203,  0.08731265,  0.1043088 ,\n",
      "        0.21033754,  0.1325036 ,  0.13066369,  0.30959228,  0.17993784,\n",
      "        0.1859118 ,  0.1594076 ,  0.1999726 ,  0.06816043,  0.19375486,\n",
      "        0.11825732,  0.24391285,  0.06450552,  0.14964688,  0.08333305,\n",
      "        0.13149103,  0.18372045,  0.11469348,  0.00905472,  0.19986415,\n",
      "        0.00277886,  0.1703289 ,  0.11894829,  0.29529021,  0.12344524,\n",
      "        0.03994226,  0.17176541,  0.27064411,  0.19885861,  0.19442975,\n",
      "        0.11668239,  0.31509954,  0.12520141,  0.1801381 ,  0.14399307,\n",
      "        0.02170695,  0.08483615,  0.19872664,  0.38509069,  0.06764084,\n",
      "        0.02985274,  0.17025626,  0.10571853,  0.26379899,  0.30569463,\n",
      "        0.12338981,  0.28863421,  0.22939875,  0.14115562,  0.16677929,\n",
      "        0.12097466,  0.10420254,  0.26365551,  0.19167022,  0.40444888,\n",
      "        0.2       ,  0.02715354,  0.20871661,  0.0478034 ,  0.44904126,\n",
      "        0.17511635,  0.20839804,  0.11782397,  0.26746154,  0.10456059]), array([ 0.11396909,  0.18811806,  0.21921083,  0.19389287,  0.38887543,\n",
      "        0.11931224,  0.1679577 ,  0.15587208,  0.11730596,  0.00123127,\n",
      "        0.01262039,  0.17836406,  0.20387813,  0.08627992,  0.17228263,\n",
      "        0.17531419,  0.08386855,  0.10097039,  0.0507396 ,  0.33804917,\n",
      "        0.10323197,  0.3084007 ,  0.21801479,  0.14213576,  0.14776086,\n",
      "        0.06678954,  0.15776834,  0.17433453,  0.15005785,  0.04116583,\n",
      "        0.14685453,  0.07682345,  0.10940203,  0.08731265,  0.1043088 ,\n",
      "        0.21033754,  0.1325036 ,  0.13066369,  0.30959228,  0.17993784,\n",
      "        0.1859118 ,  0.1594076 ,  0.1999726 ,  0.06816043,  0.19375486,\n",
      "        0.11825732,  0.24391285,  0.06450552,  0.14964688,  0.08333305,\n",
      "        0.13149103,  0.18372045,  0.11469348,  0.00905472,  0.19986415,\n",
      "        0.00277886,  0.1703289 ,  0.11894829,  0.29529021,  0.20858345,\n",
      "        0.03994226,  0.17176541,  0.27064411,  0.19885861,  0.19442975,\n",
      "        0.11668239,  0.31509954,  0.12520141,  0.1801381 ,  0.14399307,\n",
      "        0.02170695,  0.08483615,  0.19872664,  0.38509069,  0.06764084,\n",
      "        0.02985274,  0.17025626,  0.10571853,  0.26379899,  0.30569463,\n",
      "        0.12338981,  0.28863421,  0.25217113,  0.14115562,  0.16677929,\n",
      "        0.12097466,  0.10420254,  0.26365551,  0.19167022,  0.40444888,\n",
      "        0.2       ,  0.02715354,  0.20871661,  0.0478034 ,  0.44904126,\n",
      "        0.17511635,  0.20839804,  0.11782397,  0.26746154,  0.10456059]), array([ 0.11396909,  0.18811806,  0.21921083,  0.19389287,  0.38887543,\n",
      "        0.11931224,  0.1679577 ,  0.15587208,  0.11730596,  0.00123127,\n",
      "        0.25907757,  0.17836406,  0.20387813,  0.08627992,  0.17228263,\n",
      "        0.17531419,  0.08386855,  0.10097039,  0.0507396 ,  0.33804917,\n",
      "        0.10323197,  0.3084007 ,  0.21801479,  0.14213576,  0.14776086,\n",
      "        0.06678954,  0.15776834,  0.17433453,  0.15005785,  0.04116583,\n",
      "        0.14685453,  0.07682345,  0.10940203,  0.08731265,  0.1043088 ,\n",
      "        0.21033754,  0.1325036 ,  0.13066369,  0.30959228,  0.17993784,\n",
      "        0.1859118 ,  0.1594076 ,  0.1999726 ,  0.06816043,  0.19375486,\n",
      "        0.11825732,  0.24391285,  0.06450552,  0.14964688,  0.08333305,\n",
      "        0.13149103,  0.18372045,  0.11469348,  0.00905472,  0.19986415,\n",
      "        0.00277886,  0.1703289 ,  0.11894829,  0.29529021,  0.20858345,\n",
      "        0.03994226,  0.17176541,  0.27064411,  0.19885861,  0.19442975,\n",
      "        0.11668239,  0.31509954,  0.12520141,  0.1801381 ,  0.14399307,\n",
      "        0.02170695,  0.08483615,  0.19872664,  0.38509069,  0.06764084,\n",
      "        0.02985274,  0.17025626,  0.10571853,  0.26379899,  0.30569463,\n",
      "        0.12338981,  0.28863421,  0.25217113,  0.14115562,  0.16677929,\n",
      "        0.12097466,  0.10420254,  0.26365551,  0.19167022,  0.40444888,\n",
      "        0.2       ,  0.02715354,  0.20871661,  0.0478034 ,  0.44904126,\n",
      "        0.17511635,  0.20839804,  0.11782397,  0.26746154,  0.10456059])]}\n"
     ]
    }
   ],
   "source": [
    "print enroll_stu[1]"
   ]
  },
  {
   "cell_type": "markdown",
   "metadata": {
    "collapsed": true
   },
   "source": [
    "# generate grade book #"
   ]
  },
  {
   "cell_type": "code",
   "execution_count": 14,
   "metadata": {
    "collapsed": true
   },
   "outputs": [],
   "source": [
    "enroll_cou = cou_dict.copy()\n",
    "for cid in enroll_cou:\n",
    "    enroll_cou[cid][\"stu_taken\"] = [[] for j in range(N_semaster)]\n",
    "    enroll_cou[cid][\"grade\"] = [[] for j in range(N_semaster)]\n",
    "for i_sem in range(N_semaster):\n",
    "    for stu in enroll_stu:\n",
    "        cou_taken_sem = enroll_stu[stu][\"cou_taken\"][i_sem]\n",
    "        grade_sem = enroll_stu[stu][\"grade\"][i_sem]\n",
    "        for i_cou in range(len(cou_taken_sem)):\n",
    "            cid = cou_taken_sem[i_cou]\n",
    "            grade = grade_sem[i_cou]\n",
    "            enroll_cou[cid][\"stu_taken\"][i_sem].append(stu)\n",
    "            enroll_cou[cid][\"grade\"][i_sem].append(grade)"
   ]
  },
  {
   "cell_type": "code",
   "execution_count": 15,
   "metadata": {
    "collapsed": false
   },
   "outputs": [
    {
     "name": "stdout",
     "output_type": "stream",
     "text": [
      "{'prereq_courses': [], 'major': u'KOR', 'description': u'\\n\\t\\t\\t\\tSurvey of Korean culture and society in historical contexts; exploration from antiquity to the contemporary period through diverse media. This course is designed as a multi-disciplinary introduction to Korean society. In surveying Korean culture from antiquity to the present, we will examine a wide range of primary sources from the past, including archaeological relics, written records, and works of art; as well as contemporary materials by Korean authors, directors, and other cultural producers, together with scholarly commentaries about these materials. Instruction and all materials will be in English. No preliminary knowledge of Korean history or language is required for taking this course. In the first part of the course that covers the origins of Korean \\xbftradition,\\xbf we will observe the formation and development of social relations, popular beliefs, and systems of thought that have shaped the Korean way of life. Our historical analysis of these texts will also locate their resonances and ramifications in modern Korea, particularly in cultural representations. In the second part of the course, we will discuss Korea\\xbfs transformation through its encounter with the West, its modern experiences and national struggle under colonial rule, social upheavals after liberation, and the Korean War. Finally, by tracing the enduring impacts of the unresolved past on contemporary society, we will look at Korea today in terms of economic development and crisis, the democracy movement and its limitations, relations with North Korea and with the US, and sociocultural diversification in the age of globalization. By situating these topics within the broader contexts of East Asia and the world, we will seek to gain a richer and more nuanced view of Korea on the global map. The overall goal of this course is to develop students\\xbf abilities to engage in cross-cultural understanding. Through a comprehensive study of Korean materials from a variety of genres and media, students will not only learn about and from Korean history and culture, but also enhance their skills in reading closely, thinking critically, and writing effectively. In exploring Korean culture as a space of complex formations and dynamic interactions, students will be trained to question, analyze, and appreciate different modes of cultural production in their specific political and social contexts.\\n\\t\\t\\t', 'title': u'KOR 120: Introduction to Korean Culture', 'grade': [[100.0, 100.0, 97.611742881073255, 99.550712161906063, 99.190937688421556, 100.0, 93.923949924048941, 99.230822605567766, 99.611612655305578, 97.387537609681104, 96.508526362040186, 100.0, 97.899375762511227, 98.678135868969164, 99.893953381530238, 98.831963383648173, 93.014232719799949, 99.913201629492903, 91.828034553810738, 98.863123214608478, 98.428500963599035, 100.0, 99.805966523623795, 98.04092755048643, 96.40712698419614, 92.213094325159233, 98.480391541093056, 93.551732981704902, 97.913516453616921, 96.88177876602667, 89.785009778966938, 99.31284633596762, 99.55936708096749, 96.915026110641449, 99.783164822751246, 97.361035998505841, 91.611828008649184, 97.001807996513961, 98.262530448537632, 100.0, 100.0, 97.505469580866873, 97.574733720067016, 96.574869397563219, 94.767790455313715, 99.395969107385, 95.330902998221006, 99.063884435202439, 99.64119427917457, 97.348454247069228, 99.624324639270711, 92.793298286019663, 97.888167767622164, 100.0, 99.007279295988482, 97.681294913738171, 97.501115227483112, 96.151529278717661, 97.579052233947593, 98.891595546582295, 95.887023395017152, 98.472725794881171, 94.587760609024642, 97.667573181170525, 100.0, 97.769241587982208, 95.624655666555753, 100.0, 100.0, 100.0, 98.347162105636144, 97.341164683831352, 97.426962599909615, 99.292541534607963, 98.542441579692792, 94.280514756216931, 96.693090959357448, 95.69682900297795, 94.38863029724935, 94.327536576789512, 95.504835252660698, 97.515943699050439, 99.317821857392403, 100.0, 100.0, 98.857926022676907, 94.511565018869661, 99.330541439729956, 96.011777094508403, 96.064338654529081, 99.685543946982918, 96.867887423348847, 95.557527756993849, 99.484896189642512, 99.808297897559882, 93.249881710975458, 100.0, 98.288468238886821, 97.090075872165443, 99.779482833762003, 99.837750744355347, 96.758384827929461, 99.455733084671238, 96.310759175354363, 99.254923453346038, 98.853842108911977, 94.953782755285189, 97.761075942875664, 98.306414644532126, 95.433033533826787, 98.668620548231004, 99.875733988231801, 97.348932928535191, 100.0, 98.242629449732334, 98.012967150795006, 98.180810620751359, 97.477498129600505, 96.613886613235138, 99.679176599898142, 94.553297789592477, 99.930578371580651, 87.163281754512695, 99.764295258208833, 97.778740937583223, 95.040359290018699, 99.380302251311292, 100.0, 97.068241475235581, 99.289314281096949, 94.215659092400145, 100.0, 97.34636493937262, 97.824768885414443, 94.450193586280804, 98.896768202509307, 94.188925893482917, 97.893874284530341, 99.912353517709363, 100.0, 95.401771677015816, 94.308494761435171, 94.357824499045691, 99.827498862551721, 99.431986964059419, 99.908716341819741, 98.265524327720684, 96.964501461077305, 94.192497336384335, 98.235128178503544, 95.667966857481375, 95.523626295620389, 99.479928514092748, 94.352593309357843, 97.333776540436418, 95.556542955830835, 95.951996596483752, 95.781496670522216, 92.225810213892174, 99.810319836077838, 98.359658080357988, 97.781071709923111, 96.859553526484831, 96.410603048920464, 94.811627071458133, 97.760281727485619, 99.654121511760195, 96.933547445817865, 94.881000186786565, 96.72176348961095, 94.505235572918849, 94.135411866396424, 99.718125831633969, 97.549928271661074, 98.170385974539101, 97.5133618354444, 97.835932641631402, 95.605613634969146, 97.093681439726254, 95.243535084995813, 98.142777003164412, 100.0, 100.0, 99.045214702073281, 93.8845164566184, 97.346240293451601, 99.351857428142949, 96.49314592854779, 88.123150760090624, 100.0, 99.638561085984577, 99.403738439766926, 95.906440148220838, 98.60594566420572, 97.744336014369637, 100.0, 94.397777452576364, 96.349678536546051, 96.7419336325827, 96.900839929762611, 98.570894242780696, 93.775799888523665, 96.744633957707663, 93.985331791992763, 99.0234282783575, 93.700226962526628, 98.145704301856966, 98.551498124879558, 93.075866152461089, 97.901989825664828, 95.60877565137443, 97.804801913224722, 99.211618047457193, 93.065372009620773, 93.56636872752928, 90.826239179187681, 98.301393663887069, 98.416513174951461, 93.118423611623598, 95.395178720122999, 96.904518704238356, 98.292593849063294, 97.017677387709, 100.0, 92.498742009862994, 96.301278480026923, 97.55518556739321, 99.03244890978344, 99.097473259271155, 99.660402326731983, 94.986116132037353, 97.472524636323143, 91.414144828305695, 97.913571738847267, 95.873391560190811, 95.522436715973654, 95.258074411010369, 93.308307913682611, 97.894207542023267, 100.0, 97.610168508453981, 91.950955244431015, 97.123480311938593, 94.939460533794673, 98.042628063748765, 97.636470351042632, 98.497876779057009, 97.552763108012357, 100.0, 100.0, 98.196197089929925, 97.392682189862668, 95.883145631415317, 99.839856723285507, 98.320061217291354, 99.527626721508724], [100.0, 100.0, 100.0, 98.358702283908713, 96.646341266264329, 96.153111963005429, 97.414150047667064, 99.251114035446648, 99.460741404535995, 96.970329547752002, 100.0, 99.517301563856392, 99.037104355336382, 100.0, 95.943460900135079, 96.672475792309996, 98.372131247003608, 93.40762150525363, 94.004350516253325, 99.716399458779705, 96.587204458226978, 97.686576425507482, 99.956122274360609, 97.142492421494012, 94.481210470896059, 96.50846247299279, 93.956856480071465, 99.398757302947445, 96.227020792127306, 99.646355046199616, 98.979789267849711, 100.0, 94.862623807795458, 98.424691751975928, 98.427832948165971, 98.282591296920174, 98.831323022779557, 94.297200968404155, 89.169280338564164, 96.449935599721343, 95.890200833691907, 100.0, 100.0, 98.369589246139014, 100.0, 100.0, 97.049102190929929, 98.152186326009243, 98.677830685230731, 100.0, 90.65118324678761, 95.105791699466025, 97.304086091647264, 100.0, 96.740698578986382, 91.270365079179314, 97.68469708494321, 99.106012085803712, 98.820283049987069, 100.0, 100.0, 100.0, 100.0, 98.151812842229774, 100.0, 96.005443296602266, 99.223265999340597, 99.137332802953566, 92.866100408386245, 97.899642831959838, 100.0, 94.128614064464458, 98.44978847433643], [97.191131914091571, 99.413117701946092, 96.472761977043206, 98.05567602563454, 99.632374343241594, 100.0, 95.296735390227497, 99.019680730578216, 95.77629707001249, 98.828457126485944, 96.961152534635616, 95.05899712612765, 97.420259701659134, 99.106885927576855, 100.0, 100.0, 99.916495510886378, 100.0, 98.639256352542844, 98.826753311487664, 95.618778227070308, 100.0, 100.0, 97.717010868850537, 100.0, 100.0, 98.007246763887295, 97.717673534561115, 97.322199069821721, 99.804119791231756, 92.606746095439703, 97.87284632101165, 94.864262360195397, 98.922790727143095, 97.074906433463923, 97.16635507914765, 98.435196902912864, 97.865463156000359, 97.065508886566107, 100.0, 94.824761963655561, 100.0, 99.28512450675963, 98.01552034601535, 97.826051219283571, 100.0, 99.541436054657652, 92.555764607707374, 96.914978672788592, 96.824439974662752], [98.970478720027387, 97.53324690429065, 100.0, 97.818592999080934, 92.086621093563579, 100.0, 99.954926046707257, 95.773430649821123, 97.621446346521338, 97.801797235986214, 97.916178882258691, 98.746342743268841, 95.065263804879919, 99.834627284519726, 98.977046878841662, 94.764195341688364, 100.0, 97.750678784160883, 95.809274135469195, 97.984644078741539, 96.655525028088576, 97.06853238905974, 98.093146725192, 100.0, 96.584756899352698, 100.0, 100.0, 100.0, 98.24478637972021, 100.0, 96.935092215578479, 100.0, 94.619434980924254, 99.224308606045426, 95.169815519872998], [100.0, 100.0, 99.347095328382878, 97.780691454251155, 97.553661069769646, 97.41559966813837, 99.34303186608625, 99.77285317339657, 95.256589485756777, 94.076185353816214, 99.626535556496577, 94.78230102044904, 98.426068276768831, 98.785144767385177, 100.0, 94.202586154647776, 95.196682242980316, 96.645187286442763, 96.001141717195637, 99.134324603586009, 99.154976461368662, 98.906333913109734, 89.610821227559043, 100.0, 94.978396163239211, 99.446721411796361, 100.0, 99.638407852525532, 98.721512535681512, 99.981008474178196, 100.0, 97.618567991640688], [100.0, 99.27278759839885, 96.448686702371717, 98.647253799392956, 99.720952772898869, 95.027361825890495, 98.769444834894685, 96.665445303338899, 95.767701707244512, 100.0, 98.512984401816098, 100.0, 95.974143487952929, 96.949656466047841, 99.5183448231585, 95.278748292084288, 100.0, 97.533187121358495, 97.861816196077669, 100.0, 99.96145091826898, 98.948048222782475, 99.067717662453987, 98.05642921450945, 99.963442591342442, 96.097886005061099, 95.580300654292103, 98.359210423189253], [100.0, 100.0, 100.0, 99.352303982720187, 96.436170455269618, 99.878136318928711, 98.318369897049479, 97.291044004731148, 99.734384594482904, 97.470008322419119, 97.621870867738551, 96.528200418427872, 95.376152515708952, 100.0, 100.0, 100.0, 99.836943189834997, 95.317770495424071, 99.688184130609358], [97.013273916969908, 100.0, 98.549846587073048, 97.051302971356094, 96.894784159019693], [97.561703022804011, 100.0, 97.14731338320054], [99.03811277070335, 100.0, 100.0, 95.898701318874487, 98.812176812631563], [96.433391574100057, 99.671756819758812], [99.551316836167274, 99.870871487342626, 96.285661626592301]], 'level': array([ 0.00599823,  0.        ,  0.        ,  0.        ,  0.        ,\n",
      "        0.        ,  0.        ,  0.        ,  0.        ,  0.        ,\n",
      "        0.        ,  0.        ,  0.        ,  0.        ,  0.        ,\n",
      "        0.        ,  0.        ,  0.        ,  0.        ,  0.        ,\n",
      "        0.        ,  0.        ,  0.        ,  0.        ,  0.        ,\n",
      "        0.01231307,  0.        ,  0.        ,  0.        ,  0.09290375,\n",
      "        0.        ,  0.        ,  0.        ,  0.01320342,  0.        ,\n",
      "        0.        ,  0.        ,  0.01248033,  0.        ,  0.        ,\n",
      "        0.        ,  0.        ,  0.        ,  0.        ,  0.        ,\n",
      "        0.        ,  0.        ,  0.        ,  0.        ,  0.        ,\n",
      "        0.        ,  0.        ,  0.        ,  0.        ,  0.        ,\n",
      "        0.        ,  0.        ,  0.03905638,  0.        ,  0.        ,\n",
      "        0.        ,  0.        ,  0.        ,  0.        ,  0.        ,\n",
      "        0.        ,  0.        ,  0.        ,  0.        ,  0.        ,\n",
      "        0.        ,  0.05915553,  0.        ,  0.        ,  0.        ,\n",
      "        0.        ,  0.        ,  0.        ,  0.        ,  0.        ,\n",
      "        0.07743045,  0.        ,  0.        ,  0.        ,  0.        ,\n",
      "        0.07281663,  0.        ,  0.        ,  0.0232311 ,  0.        ,\n",
      "        0.        ,  0.        ,  0.        ,  0.        ,  0.        ,\n",
      "        0.        ,  0.        ,  0.        ,  0.        ,  0.        ]), 'credits': u'\\n\\t\\t\\t3 Credits\\n\\t\\t', 'num': u'120', 'stu_taken': [[207, 337, 425, 735, 919, 1503, 1716, 1961, 2704, 2754, 2825, 3022, 3100, 3301, 3531, 3578, 3663, 3879, 4159, 4298, 4450, 4982, 5201, 5461, 5462, 5492, 5774, 5800, 6339, 6378, 6387, 6898, 7166, 7401, 7508, 7722, 7750, 7912, 7944, 8034, 8797, 9481, 9593, 9669, 9763, 10033, 10168, 10288, 10475, 10514, 10522, 10647, 11014, 11208, 11471, 11620, 12103, 12128, 12238, 12325, 12857, 12882, 13018, 13025, 13644, 13666, 13764, 13812, 13852, 13985, 14108, 14119, 14331, 14525, 14655, 14950, 15081, 15649, 16122, 16248, 16265, 17211, 17327, 17378, 17748, 17968, 18213, 18497, 18524, 18564, 18618, 18643, 18720, 19008, 19184, 19215, 19234, 19318, 19471, 19735, 20125, 20139, 20185, 20912, 20955, 21418, 21516, 21570, 22073, 22490, 22515, 22530, 22554, 22591, 22819, 22996, 23190, 23192, 23244, 23388, 23611, 24271, 24392, 24795, 24809, 24892, 25213, 25554, 26194, 26468, 26751, 26913, 27031, 27347, 27509, 27629, 28101, 28337, 28567, 28713, 29021, 29314, 29614, 29630, 29774, 29797, 30250, 30703, 30704, 30709, 30767, 30870, 31455, 31573, 31824, 32032, 32060, 32208, 32307, 32322, 32332, 32565, 33011, 33154, 33762, 33841, 34040, 34076, 34192, 34203, 34217, 34427, 34531, 34558, 34686, 34787, 34877, 34939, 35205, 35266, 35415, 35759, 35917, 36125, 36521, 36826, 36942, 37080, 37119, 37233, 37394, 37411, 37686, 37713, 37752, 37966, 38026, 38314, 38702, 39216, 39463, 39794, 39803, 40031, 40251, 40258, 40307, 40776, 40888, 40976, 41090, 41326, 41547, 41620, 41679, 41703, 41785, 42009, 42475, 42689, 43212, 43488, 43680, 43888, 44014, 44152, 44239, 44491, 44542, 44658, 44696, 45043, 45073, 45448, 45541, 45619, 45636, 46044, 46137, 46341, 46417, 46418, 46440, 46901, 46918, 47314, 47517, 47691, 48701, 48907, 49012, 49152, 49535, 49558, 49699, 49893], [430, 1983, 3981, 4998, 5533, 5592, 6815, 8054, 8059, 9045, 9102, 9140, 9291, 10783, 10829, 11011, 11688, 12644, 12970, 14155, 14320, 14919, 14973, 15144, 15982, 16022, 17088, 23122, 23498, 23730, 24029, 26028, 26403, 26435, 27357, 28252, 28515, 29510, 29997, 30529, 30589, 31335, 31507, 31607, 31998, 32833, 33430, 33643, 34767, 35578, 36764, 37623, 38652, 38844, 40270, 40970, 41177, 41377, 41412, 42036, 42854, 43099, 43345, 44320, 45213, 45424, 45921, 46674, 47523, 47926, 47941, 49157, 49217], [137, 640, 3878, 5206, 5212, 5807, 6634, 7686, 12126, 15431, 17015, 17668, 18371, 20262, 22469, 25187, 25619, 26267, 26432, 26788, 28158, 28368, 28791, 28861, 29138, 29138, 30840, 31134, 31978, 33214, 33798, 33953, 35456, 35966, 36592, 39667, 39809, 41737, 42203, 43069, 43470, 44434, 46265, 47106, 47644, 48455, 49124, 49440, 49599, 49737], [2602, 3128, 4956, 6192, 9741, 11966, 13124, 14993, 15268, 16716, 17498, 20593, 22372, 22956, 23483, 24855, 25571, 25599, 25623, 27741, 27901, 28031, 31081, 31762, 32753, 37240, 38396, 41242, 43856, 44774, 44801, 45725, 46228, 46844, 47894], [4905, 5148, 5597, 7065, 8891, 13321, 13795, 14448, 16406, 16887, 18293, 21441, 21600, 21931, 23065, 26244, 29241, 30255, 30471, 31586, 33775, 35870, 36351, 40995, 41263, 42493, 43195, 43634, 44741, 45655, 47240, 48283], [942, 1553, 4496, 4617, 5891, 6375, 7055, 9913, 10252, 10718, 15228, 15633, 15802, 15988, 18946, 20739, 22631, 22632, 24376, 27221, 36452, 38665, 42034, 42779, 44855, 45511, 46816, 49551], [6251, 11863, 11931, 15463, 15703, 19629, 21113, 22023, 22664, 23765, 25169, 26805, 28111, 30344, 36194, 38392, 39305, 46623, 48347], [3059, 19561, 19893, 20972, 36440], [11761, 29706, 37920], [4535, 5067, 33077, 33406, 37843], [17292, 23395], [1081, 18969, 24498]], 'prerequisite': '', 'sub': u'Korean (KOR)'}\n"
     ]
    }
   ],
   "source": [
    "print enroll_cou[\"KOR120\"]"
   ]
  },
  {
   "cell_type": "code",
   "execution_count": 16,
   "metadata": {
    "collapsed": false
   },
   "outputs": [
    {
     "name": "stdout",
     "output_type": "stream",
     "text": [
      "[0, 1, 2, 3, 4, 5, 6, 7, 8]\n",
      "[0.0, 0.1, 0.3, 0.4, 0.5, 0.6, 0.7, 0.8, 0.9]\n",
      "[0.1, 0.19999999999999998, 0.10000000000000003, 0.09999999999999998, 0.09999999999999998, 0.09999999999999998, 0.10000000000000009, 0.09999999999999998, 0.09999999999999998]\n"
     ]
    }
   ],
   "source": [
    "# from score grade to ord #\n",
    "ord_dict = {8: 0.90, 7: 0.80, 6: 0.70, 5: 0.60, 4: 0.50, 3: 0.40, 2: 0.30, 1: 0.1, 0: 0.0}\n",
    "ord_dict_label = [\"A\", \"A-\", \"B+\", \"B\", \"B-\", \"C+\", \"C\", \"D\", \"F\"][::-1]\n",
    "ord_dict_rev = ord_dict.keys()\n",
    "ord_dict_rev.sort()\n",
    "\n",
    "ord_top_pct = ord_dict.values()\n",
    "ord_top_pct.sort()\n",
    "ord_pct = []\n",
    "for i in range(len(ord_top_pct)):\n",
    "    if i < (len(ord_top_pct) - 1):\n",
    "        ord_pct.append(ord_top_pct[i+1] - ord_top_pct[i])\n",
    "    else:\n",
    "        ord_pct.append(1.0 - ord_top_pct[i])\n",
    "print ord_dict_rev\n",
    "print ord_top_pct\n",
    "print ord_pct\n",
    "def grade2ord(grades):\n",
    "    grades_cum = sum(grades, [])\n",
    "    N_cum = len(grades_cum)\n",
    "    grades_cum.sort()\n",
    "#     print grades_cum\n",
    "    ords_cum = np.random.choice(ord_dict_rev, N_cum, p=ord_pct, replace=True)\n",
    "    ords_cum.sort()\n",
    "    grade2ord_dict = {}\n",
    "    for i in range(N_cum):\n",
    "        grade2ord_dict[grades_cum[i]] = ord_dict_label[ords_cum[i]]\n",
    "    return grade2ord_dict"
   ]
  },
  {
   "cell_type": "code",
   "execution_count": 17,
   "metadata": {
    "collapsed": true
   },
   "outputs": [],
   "source": [
    "for cid in enroll_cou:\n",
    "    grades = enroll_cou[cid][\"grade\"]\n",
    "    grade2ord_dict = grade2ord(grades)\n",
    "    enroll_cou[cid][\"ordinal\"] = [(map(lambda x: grade2ord_dict[x], enroll_cou[cid][\"grade\"][i_sem])) for i_sem in range(N_semaster)]"
   ]
  },
  {
   "cell_type": "code",
   "execution_count": 18,
   "metadata": {
    "collapsed": false
   },
   "outputs": [
    {
     "name": "stdout",
     "output_type": "stream",
     "text": [
      "{'prereq_courses': [], 'ordinal': [['A', 'A', 'C+', 'B+', 'B', 'A', 'F', 'B', 'B+', 'C', 'D', 'A', 'C+', 'B-', 'A-', 'B', 'F', 'A-', 'F', 'B', 'B-', 'A', 'B+', 'B-', 'D', 'F', 'B-', 'F', 'C+', 'D', 'F', 'B', 'B+', 'C', 'B+', 'C', 'F', 'C', 'B-', 'A', 'A', 'C', 'C+', 'D', 'D', 'B+', 'D', 'B', 'B+', 'C', 'B+', 'F', 'C+', 'A', 'B', 'C+', 'C', 'D', 'C+', 'B', 'D', 'B-', 'D', 'C+', 'A', 'C+', 'D', 'A', 'A', 'A', 'B-', 'C', 'C', 'B', 'B-', 'F', 'D', 'D', 'F', 'F', 'D', 'C', 'B', 'A', 'A', 'B', 'D', 'B', 'D', 'D', 'B+', 'D', 'D', 'B+', 'B+', 'F', 'A', 'B-', 'C', 'B+', 'A-', 'D', 'B+', 'D', 'B', 'B', 'D', 'C+', 'B-', 'D', 'B-', 'A-', 'C', 'A', 'B-', 'B-', 'B-', 'C', 'D', 'B+', 'D', 'A-', 'F', 'B+', 'C+', 'D', 'B+', 'A', 'C', 'B', 'F', 'A', 'C', 'C+', 'F', 'B', 'F', 'C+', 'A-', 'A', 'D', 'F', 'F', 'A-', 'B+', 'A-', 'B-', 'C', 'F', 'B-', 'D', 'D', 'B+', 'F', 'C', 'D', 'D', 'D', 'F', 'A-', 'B-', 'C+', 'D', 'D', 'D', 'C+', 'B+', 'C', 'D', 'D', 'D', 'F', 'B+', 'C', 'B-', 'C', 'C+', 'D', 'C', 'D', 'B-', 'A', 'A', 'B', 'F', 'C', 'B+', 'D', 'F', 'A', 'B+', 'B+', 'D', 'B-', 'C+', 'A', 'F', 'D', 'D', 'D', 'B-', 'F', 'D', 'F', 'B', 'F', 'B-', 'B-', 'F', 'C+', 'D', 'C+', 'B', 'F', 'F', 'F', 'B-', 'B-', 'F', 'D', 'D', 'B-', 'C', 'A', 'F', 'D', 'C+', 'B', 'B', 'B+', 'D', 'C', 'F', 'C+', 'D', 'D', 'D', 'F', 'C+', 'A', 'C+', 'F', 'C', 'D', 'B-', 'C+', 'B-', 'C+', 'A', 'A', 'B-', 'C', 'D', 'A-', 'B-', 'B+'], ['A', 'A', 'A', 'B-', 'D', 'D', 'C', 'B', 'B+', 'C', 'A', 'B+', 'B', 'A', 'D', 'D', 'B-', 'F', 'F', 'B+', 'D', 'C+', 'A-', 'C', 'D', 'D', 'F', 'B+', 'D', 'B+', 'B', 'A', 'D', 'B-', 'B-', 'B-', 'B', 'F', 'F', 'D', 'D', 'A', 'A', 'B-', 'A', 'A', 'C', 'B-', 'B-', 'A', 'F', 'D', 'C', 'A', 'D', 'F', 'C+', 'B', 'B', 'A', 'A', 'A', 'A', 'B-', 'A', 'D', 'B', 'B', 'F', 'C+', 'A', 'F', 'B-'], ['C', 'B+', 'D', 'B-', 'B+', 'A', 'D', 'B', 'D', 'B', 'C', 'D', 'C', 'B', 'A', 'A', 'A-', 'A', 'B-', 'B', 'D', 'A', 'A', 'C+', 'A', 'A', 'B-', 'C+', 'C', 'B+', 'F', 'C+', 'D', 'B', 'C', 'C', 'B-', 'C+', 'C', 'A', 'D', 'A', 'B', 'B-', 'C+', 'A', 'B+', 'F', 'D', 'D'], ['B', 'C', 'A', 'C+', 'F', 'A', 'A-', 'D', 'C+', 'C+', 'B-', 'B', 'D', 'A-', 'B', 'D', 'A', 'C+', 'D', 'B-', 'D', 'C', 'B-', 'A', 'D', 'A', 'A', 'A', 'B-', 'A', 'C', 'A', 'D', 'B', 'D'], ['A', 'A', 'B+', 'C+', 'C+', 'C', 'B', 'B+', 'D', 'F', 'B+', 'D', 'B-', 'B', 'A', 'F', 'D', 'D', 'D', 'B', 'B', 'B', 'F', 'A', 'D', 'B+', 'A', 'B+', 'B-', 'A-', 'A', 'C+'], ['A', 'B', 'D', 'B-', 'B+', 'D', 'B', 'D', 'D', 'A', 'B-', 'A', 'D', 'C', 'B+', 'D', 'A', 'C', 'C+', 'A', 'A-', 'B', 'B', 'B-', 'A-', 'D', 'D', 'B-'], ['A', 'A', 'A', 'B+', 'D', 'A-', 'B-', 'C', 'B+', 'C', 'C+', 'D', 'D', 'A', 'A', 'A', 'A-', 'D', 'B+'], ['C', 'A', 'B-', 'C', 'D'], ['C+', 'A', 'C'], ['B', 'A', 'A', 'D', 'B'], ['D', 'B+'], ['B+', 'A-', 'D']], 'major': u'KOR', 'description': u'\\n\\t\\t\\t\\tSurvey of Korean culture and society in historical contexts; exploration from antiquity to the contemporary period through diverse media. This course is designed as a multi-disciplinary introduction to Korean society. In surveying Korean culture from antiquity to the present, we will examine a wide range of primary sources from the past, including archaeological relics, written records, and works of art; as well as contemporary materials by Korean authors, directors, and other cultural producers, together with scholarly commentaries about these materials. Instruction and all materials will be in English. No preliminary knowledge of Korean history or language is required for taking this course. In the first part of the course that covers the origins of Korean \\xbftradition,\\xbf we will observe the formation and development of social relations, popular beliefs, and systems of thought that have shaped the Korean way of life. Our historical analysis of these texts will also locate their resonances and ramifications in modern Korea, particularly in cultural representations. In the second part of the course, we will discuss Korea\\xbfs transformation through its encounter with the West, its modern experiences and national struggle under colonial rule, social upheavals after liberation, and the Korean War. Finally, by tracing the enduring impacts of the unresolved past on contemporary society, we will look at Korea today in terms of economic development and crisis, the democracy movement and its limitations, relations with North Korea and with the US, and sociocultural diversification in the age of globalization. By situating these topics within the broader contexts of East Asia and the world, we will seek to gain a richer and more nuanced view of Korea on the global map. The overall goal of this course is to develop students\\xbf abilities to engage in cross-cultural understanding. Through a comprehensive study of Korean materials from a variety of genres and media, students will not only learn about and from Korean history and culture, but also enhance their skills in reading closely, thinking critically, and writing effectively. In exploring Korean culture as a space of complex formations and dynamic interactions, students will be trained to question, analyze, and appreciate different modes of cultural production in their specific political and social contexts.\\n\\t\\t\\t', 'title': u'KOR 120: Introduction to Korean Culture', 'grade': [[100.0, 100.0, 97.611742881073255, 99.550712161906063, 99.190937688421556, 100.0, 93.923949924048941, 99.230822605567766, 99.611612655305578, 97.387537609681104, 96.508526362040186, 100.0, 97.899375762511227, 98.678135868969164, 99.893953381530238, 98.831963383648173, 93.014232719799949, 99.913201629492903, 91.828034553810738, 98.863123214608478, 98.428500963599035, 100.0, 99.805966523623795, 98.04092755048643, 96.40712698419614, 92.213094325159233, 98.480391541093056, 93.551732981704902, 97.913516453616921, 96.88177876602667, 89.785009778966938, 99.31284633596762, 99.55936708096749, 96.915026110641449, 99.783164822751246, 97.361035998505841, 91.611828008649184, 97.001807996513961, 98.262530448537632, 100.0, 100.0, 97.505469580866873, 97.574733720067016, 96.574869397563219, 94.767790455313715, 99.395969107385, 95.330902998221006, 99.063884435202439, 99.64119427917457, 97.348454247069228, 99.624324639270711, 92.793298286019663, 97.888167767622164, 100.0, 99.007279295988482, 97.681294913738171, 97.501115227483112, 96.151529278717661, 97.579052233947593, 98.891595546582295, 95.887023395017152, 98.472725794881171, 94.587760609024642, 97.667573181170525, 100.0, 97.769241587982208, 95.624655666555753, 100.0, 100.0, 100.0, 98.347162105636144, 97.341164683831352, 97.426962599909615, 99.292541534607963, 98.542441579692792, 94.280514756216931, 96.693090959357448, 95.69682900297795, 94.38863029724935, 94.327536576789512, 95.504835252660698, 97.515943699050439, 99.317821857392403, 100.0, 100.0, 98.857926022676907, 94.511565018869661, 99.330541439729956, 96.011777094508403, 96.064338654529081, 99.685543946982918, 96.867887423348847, 95.557527756993849, 99.484896189642512, 99.808297897559882, 93.249881710975458, 100.0, 98.288468238886821, 97.090075872165443, 99.779482833762003, 99.837750744355347, 96.758384827929461, 99.455733084671238, 96.310759175354363, 99.254923453346038, 98.853842108911977, 94.953782755285189, 97.761075942875664, 98.306414644532126, 95.433033533826787, 98.668620548231004, 99.875733988231801, 97.348932928535191, 100.0, 98.242629449732334, 98.012967150795006, 98.180810620751359, 97.477498129600505, 96.613886613235138, 99.679176599898142, 94.553297789592477, 99.930578371580651, 87.163281754512695, 99.764295258208833, 97.778740937583223, 95.040359290018699, 99.380302251311292, 100.0, 97.068241475235581, 99.289314281096949, 94.215659092400145, 100.0, 97.34636493937262, 97.824768885414443, 94.450193586280804, 98.896768202509307, 94.188925893482917, 97.893874284530341, 99.912353517709363, 100.0, 95.401771677015816, 94.308494761435171, 94.357824499045691, 99.827498862551721, 99.431986964059419, 99.908716341819741, 98.265524327720684, 96.964501461077305, 94.192497336384335, 98.235128178503544, 95.667966857481375, 95.523626295620389, 99.479928514092748, 94.352593309357843, 97.333776540436418, 95.556542955830835, 95.951996596483752, 95.781496670522216, 92.225810213892174, 99.810319836077838, 98.359658080357988, 97.781071709923111, 96.859553526484831, 96.410603048920464, 94.811627071458133, 97.760281727485619, 99.654121511760195, 96.933547445817865, 94.881000186786565, 96.72176348961095, 94.505235572918849, 94.135411866396424, 99.718125831633969, 97.549928271661074, 98.170385974539101, 97.5133618354444, 97.835932641631402, 95.605613634969146, 97.093681439726254, 95.243535084995813, 98.142777003164412, 100.0, 100.0, 99.045214702073281, 93.8845164566184, 97.346240293451601, 99.351857428142949, 96.49314592854779, 88.123150760090624, 100.0, 99.638561085984577, 99.403738439766926, 95.906440148220838, 98.60594566420572, 97.744336014369637, 100.0, 94.397777452576364, 96.349678536546051, 96.7419336325827, 96.900839929762611, 98.570894242780696, 93.775799888523665, 96.744633957707663, 93.985331791992763, 99.0234282783575, 93.700226962526628, 98.145704301856966, 98.551498124879558, 93.075866152461089, 97.901989825664828, 95.60877565137443, 97.804801913224722, 99.211618047457193, 93.065372009620773, 93.56636872752928, 90.826239179187681, 98.301393663887069, 98.416513174951461, 93.118423611623598, 95.395178720122999, 96.904518704238356, 98.292593849063294, 97.017677387709, 100.0, 92.498742009862994, 96.301278480026923, 97.55518556739321, 99.03244890978344, 99.097473259271155, 99.660402326731983, 94.986116132037353, 97.472524636323143, 91.414144828305695, 97.913571738847267, 95.873391560190811, 95.522436715973654, 95.258074411010369, 93.308307913682611, 97.894207542023267, 100.0, 97.610168508453981, 91.950955244431015, 97.123480311938593, 94.939460533794673, 98.042628063748765, 97.636470351042632, 98.497876779057009, 97.552763108012357, 100.0, 100.0, 98.196197089929925, 97.392682189862668, 95.883145631415317, 99.839856723285507, 98.320061217291354, 99.527626721508724], [100.0, 100.0, 100.0, 98.358702283908713, 96.646341266264329, 96.153111963005429, 97.414150047667064, 99.251114035446648, 99.460741404535995, 96.970329547752002, 100.0, 99.517301563856392, 99.037104355336382, 100.0, 95.943460900135079, 96.672475792309996, 98.372131247003608, 93.40762150525363, 94.004350516253325, 99.716399458779705, 96.587204458226978, 97.686576425507482, 99.956122274360609, 97.142492421494012, 94.481210470896059, 96.50846247299279, 93.956856480071465, 99.398757302947445, 96.227020792127306, 99.646355046199616, 98.979789267849711, 100.0, 94.862623807795458, 98.424691751975928, 98.427832948165971, 98.282591296920174, 98.831323022779557, 94.297200968404155, 89.169280338564164, 96.449935599721343, 95.890200833691907, 100.0, 100.0, 98.369589246139014, 100.0, 100.0, 97.049102190929929, 98.152186326009243, 98.677830685230731, 100.0, 90.65118324678761, 95.105791699466025, 97.304086091647264, 100.0, 96.740698578986382, 91.270365079179314, 97.68469708494321, 99.106012085803712, 98.820283049987069, 100.0, 100.0, 100.0, 100.0, 98.151812842229774, 100.0, 96.005443296602266, 99.223265999340597, 99.137332802953566, 92.866100408386245, 97.899642831959838, 100.0, 94.128614064464458, 98.44978847433643], [97.191131914091571, 99.413117701946092, 96.472761977043206, 98.05567602563454, 99.632374343241594, 100.0, 95.296735390227497, 99.019680730578216, 95.77629707001249, 98.828457126485944, 96.961152534635616, 95.05899712612765, 97.420259701659134, 99.106885927576855, 100.0, 100.0, 99.916495510886378, 100.0, 98.639256352542844, 98.826753311487664, 95.618778227070308, 100.0, 100.0, 97.717010868850537, 100.0, 100.0, 98.007246763887295, 97.717673534561115, 97.322199069821721, 99.804119791231756, 92.606746095439703, 97.87284632101165, 94.864262360195397, 98.922790727143095, 97.074906433463923, 97.16635507914765, 98.435196902912864, 97.865463156000359, 97.065508886566107, 100.0, 94.824761963655561, 100.0, 99.28512450675963, 98.01552034601535, 97.826051219283571, 100.0, 99.541436054657652, 92.555764607707374, 96.914978672788592, 96.824439974662752], [98.970478720027387, 97.53324690429065, 100.0, 97.818592999080934, 92.086621093563579, 100.0, 99.954926046707257, 95.773430649821123, 97.621446346521338, 97.801797235986214, 97.916178882258691, 98.746342743268841, 95.065263804879919, 99.834627284519726, 98.977046878841662, 94.764195341688364, 100.0, 97.750678784160883, 95.809274135469195, 97.984644078741539, 96.655525028088576, 97.06853238905974, 98.093146725192, 100.0, 96.584756899352698, 100.0, 100.0, 100.0, 98.24478637972021, 100.0, 96.935092215578479, 100.0, 94.619434980924254, 99.224308606045426, 95.169815519872998], [100.0, 100.0, 99.347095328382878, 97.780691454251155, 97.553661069769646, 97.41559966813837, 99.34303186608625, 99.77285317339657, 95.256589485756777, 94.076185353816214, 99.626535556496577, 94.78230102044904, 98.426068276768831, 98.785144767385177, 100.0, 94.202586154647776, 95.196682242980316, 96.645187286442763, 96.001141717195637, 99.134324603586009, 99.154976461368662, 98.906333913109734, 89.610821227559043, 100.0, 94.978396163239211, 99.446721411796361, 100.0, 99.638407852525532, 98.721512535681512, 99.981008474178196, 100.0, 97.618567991640688], [100.0, 99.27278759839885, 96.448686702371717, 98.647253799392956, 99.720952772898869, 95.027361825890495, 98.769444834894685, 96.665445303338899, 95.767701707244512, 100.0, 98.512984401816098, 100.0, 95.974143487952929, 96.949656466047841, 99.5183448231585, 95.278748292084288, 100.0, 97.533187121358495, 97.861816196077669, 100.0, 99.96145091826898, 98.948048222782475, 99.067717662453987, 98.05642921450945, 99.963442591342442, 96.097886005061099, 95.580300654292103, 98.359210423189253], [100.0, 100.0, 100.0, 99.352303982720187, 96.436170455269618, 99.878136318928711, 98.318369897049479, 97.291044004731148, 99.734384594482904, 97.470008322419119, 97.621870867738551, 96.528200418427872, 95.376152515708952, 100.0, 100.0, 100.0, 99.836943189834997, 95.317770495424071, 99.688184130609358], [97.013273916969908, 100.0, 98.549846587073048, 97.051302971356094, 96.894784159019693], [97.561703022804011, 100.0, 97.14731338320054], [99.03811277070335, 100.0, 100.0, 95.898701318874487, 98.812176812631563], [96.433391574100057, 99.671756819758812], [99.551316836167274, 99.870871487342626, 96.285661626592301]], 'level': array([ 0.00599823,  0.        ,  0.        ,  0.        ,  0.        ,\n",
      "        0.        ,  0.        ,  0.        ,  0.        ,  0.        ,\n",
      "        0.        ,  0.        ,  0.        ,  0.        ,  0.        ,\n",
      "        0.        ,  0.        ,  0.        ,  0.        ,  0.        ,\n",
      "        0.        ,  0.        ,  0.        ,  0.        ,  0.        ,\n",
      "        0.01231307,  0.        ,  0.        ,  0.        ,  0.09290375,\n",
      "        0.        ,  0.        ,  0.        ,  0.01320342,  0.        ,\n",
      "        0.        ,  0.        ,  0.01248033,  0.        ,  0.        ,\n",
      "        0.        ,  0.        ,  0.        ,  0.        ,  0.        ,\n",
      "        0.        ,  0.        ,  0.        ,  0.        ,  0.        ,\n",
      "        0.        ,  0.        ,  0.        ,  0.        ,  0.        ,\n",
      "        0.        ,  0.        ,  0.03905638,  0.        ,  0.        ,\n",
      "        0.        ,  0.        ,  0.        ,  0.        ,  0.        ,\n",
      "        0.        ,  0.        ,  0.        ,  0.        ,  0.        ,\n",
      "        0.        ,  0.05915553,  0.        ,  0.        ,  0.        ,\n",
      "        0.        ,  0.        ,  0.        ,  0.        ,  0.        ,\n",
      "        0.07743045,  0.        ,  0.        ,  0.        ,  0.        ,\n",
      "        0.07281663,  0.        ,  0.        ,  0.0232311 ,  0.        ,\n",
      "        0.        ,  0.        ,  0.        ,  0.        ,  0.        ,\n",
      "        0.        ,  0.        ,  0.        ,  0.        ,  0.        ]), 'credits': u'\\n\\t\\t\\t3 Credits\\n\\t\\t', 'num': u'120', 'stu_taken': [[207, 337, 425, 735, 919, 1503, 1716, 1961, 2704, 2754, 2825, 3022, 3100, 3301, 3531, 3578, 3663, 3879, 4159, 4298, 4450, 4982, 5201, 5461, 5462, 5492, 5774, 5800, 6339, 6378, 6387, 6898, 7166, 7401, 7508, 7722, 7750, 7912, 7944, 8034, 8797, 9481, 9593, 9669, 9763, 10033, 10168, 10288, 10475, 10514, 10522, 10647, 11014, 11208, 11471, 11620, 12103, 12128, 12238, 12325, 12857, 12882, 13018, 13025, 13644, 13666, 13764, 13812, 13852, 13985, 14108, 14119, 14331, 14525, 14655, 14950, 15081, 15649, 16122, 16248, 16265, 17211, 17327, 17378, 17748, 17968, 18213, 18497, 18524, 18564, 18618, 18643, 18720, 19008, 19184, 19215, 19234, 19318, 19471, 19735, 20125, 20139, 20185, 20912, 20955, 21418, 21516, 21570, 22073, 22490, 22515, 22530, 22554, 22591, 22819, 22996, 23190, 23192, 23244, 23388, 23611, 24271, 24392, 24795, 24809, 24892, 25213, 25554, 26194, 26468, 26751, 26913, 27031, 27347, 27509, 27629, 28101, 28337, 28567, 28713, 29021, 29314, 29614, 29630, 29774, 29797, 30250, 30703, 30704, 30709, 30767, 30870, 31455, 31573, 31824, 32032, 32060, 32208, 32307, 32322, 32332, 32565, 33011, 33154, 33762, 33841, 34040, 34076, 34192, 34203, 34217, 34427, 34531, 34558, 34686, 34787, 34877, 34939, 35205, 35266, 35415, 35759, 35917, 36125, 36521, 36826, 36942, 37080, 37119, 37233, 37394, 37411, 37686, 37713, 37752, 37966, 38026, 38314, 38702, 39216, 39463, 39794, 39803, 40031, 40251, 40258, 40307, 40776, 40888, 40976, 41090, 41326, 41547, 41620, 41679, 41703, 41785, 42009, 42475, 42689, 43212, 43488, 43680, 43888, 44014, 44152, 44239, 44491, 44542, 44658, 44696, 45043, 45073, 45448, 45541, 45619, 45636, 46044, 46137, 46341, 46417, 46418, 46440, 46901, 46918, 47314, 47517, 47691, 48701, 48907, 49012, 49152, 49535, 49558, 49699, 49893], [430, 1983, 3981, 4998, 5533, 5592, 6815, 8054, 8059, 9045, 9102, 9140, 9291, 10783, 10829, 11011, 11688, 12644, 12970, 14155, 14320, 14919, 14973, 15144, 15982, 16022, 17088, 23122, 23498, 23730, 24029, 26028, 26403, 26435, 27357, 28252, 28515, 29510, 29997, 30529, 30589, 31335, 31507, 31607, 31998, 32833, 33430, 33643, 34767, 35578, 36764, 37623, 38652, 38844, 40270, 40970, 41177, 41377, 41412, 42036, 42854, 43099, 43345, 44320, 45213, 45424, 45921, 46674, 47523, 47926, 47941, 49157, 49217], [137, 640, 3878, 5206, 5212, 5807, 6634, 7686, 12126, 15431, 17015, 17668, 18371, 20262, 22469, 25187, 25619, 26267, 26432, 26788, 28158, 28368, 28791, 28861, 29138, 29138, 30840, 31134, 31978, 33214, 33798, 33953, 35456, 35966, 36592, 39667, 39809, 41737, 42203, 43069, 43470, 44434, 46265, 47106, 47644, 48455, 49124, 49440, 49599, 49737], [2602, 3128, 4956, 6192, 9741, 11966, 13124, 14993, 15268, 16716, 17498, 20593, 22372, 22956, 23483, 24855, 25571, 25599, 25623, 27741, 27901, 28031, 31081, 31762, 32753, 37240, 38396, 41242, 43856, 44774, 44801, 45725, 46228, 46844, 47894], [4905, 5148, 5597, 7065, 8891, 13321, 13795, 14448, 16406, 16887, 18293, 21441, 21600, 21931, 23065, 26244, 29241, 30255, 30471, 31586, 33775, 35870, 36351, 40995, 41263, 42493, 43195, 43634, 44741, 45655, 47240, 48283], [942, 1553, 4496, 4617, 5891, 6375, 7055, 9913, 10252, 10718, 15228, 15633, 15802, 15988, 18946, 20739, 22631, 22632, 24376, 27221, 36452, 38665, 42034, 42779, 44855, 45511, 46816, 49551], [6251, 11863, 11931, 15463, 15703, 19629, 21113, 22023, 22664, 23765, 25169, 26805, 28111, 30344, 36194, 38392, 39305, 46623, 48347], [3059, 19561, 19893, 20972, 36440], [11761, 29706, 37920], [4535, 5067, 33077, 33406, 37843], [17292, 23395], [1081, 18969, 24498]], 'prerequisite': '', 'sub': u'Korean (KOR)'}\n"
     ]
    }
   ],
   "source": [
    "print enroll_cou[\"KOR120\"]"
   ]
  },
  {
   "cell_type": "code",
   "execution_count": 19,
   "metadata": {
    "collapsed": true
   },
   "outputs": [],
   "source": [
    "enroll_table = [[] for i_sem in range(N_semaster)]\n",
    "for i_sem in range(N_semaster):\n",
    "    enroll_table_sem = []\n",
    "    for cid in enroll_cou:\n",
    "        stu_taken = enroll_cou[cid][\"stu_taken\"][i_sem]\n",
    "        ordinal = enroll_cou[cid][\"ordinal\"][i_sem]\n",
    "        for i_stu in range(len(stu_taken)):\n",
    "            enroll_table_sem.append([stu_taken[i_stu], cid, ordinal[i_stu]])\n",
    "    enroll_table[i_sem] = enroll_table_sem\n",
    "    "
   ]
  },
  {
   "cell_type": "code",
   "execution_count": 20,
   "metadata": {
    "collapsed": false
   },
   "outputs": [
    {
     "data": {
      "text/plain": [
       "[[4076, u'PSYCH426', 'F'], [7217, u'PSYCH426', 'D'], [7238, u'PSYCH426', 'D']]"
      ]
     },
     "execution_count": 20,
     "metadata": {},
     "output_type": "execute_result"
    }
   ],
   "source": [
    "enroll_table[0][:3]"
   ]
  },
  {
   "cell_type": "code",
   "execution_count": 21,
   "metadata": {
    "collapsed": true
   },
   "outputs": [],
   "source": [
    "import csv\n",
    "for i_sem in range(N_semaster):\n",
    "    with open(\"data/enroll_table_sem_%02d.csv\" % i_sem, \"w\") as df:\n",
    "        writer = csv.writer(df, lineterminator='\\n')\n",
    "        writer.writerows(enroll_table[i_sem])"
   ]
  },
  {
   "cell_type": "code",
   "execution_count": 22,
   "metadata": {
    "collapsed": true
   },
   "outputs": [],
   "source": [
    "with open(\"data/sub_dict\", \"w\") as df:\n",
    "    cPickle.dump(sub_dict, df)"
   ]
  },
  {
   "cell_type": "code",
   "execution_count": 23,
   "metadata": {
    "collapsed": true
   },
   "outputs": [],
   "source": [
    "with open(\"data/cou_dict\", \"w\") as df:\n",
    "    cPickle.dump(cou_dict, df)"
   ]
  },
  {
   "cell_type": "code",
   "execution_count": 24,
   "metadata": {
    "collapsed": true
   },
   "outputs": [],
   "source": [
    "with open(\"data/stu_dict\", \"w\") as df:\n",
    "    cPickle.dump(stu_dict, df)"
   ]
  },
  {
   "cell_type": "markdown",
   "metadata": {},
   "source": [
    "# prerequisite to sparse matrix graph #"
   ]
  },
  {
   "cell_type": "code",
   "execution_count": 25,
   "metadata": {
    "collapsed": true
   },
   "outputs": [],
   "source": [
    "\n",
    "# build prerequisite graph #\n",
    "from scipy.sparse import csr_matrix\n",
    "graph_sparse_data = []\n",
    "graph_sparse_row = []\n",
    "graph_sparse_col = []\n",
    "\n",
    "# mapping bidirection from course name to cid #\n",
    "cou_n2i = {}\n",
    "cou_i2n = []\n",
    "cou_cnt = 0\n",
    "for cou_name in cou_dict:\n",
    "    cou_n2i[cou_name] = cou_cnt\n",
    "    cou_i2n.append(cou_name)\n",
    "    cou_cnt += 1\n",
    "with open(\"data/cou_n2i_i2n\", \"w\") as df:\n",
    "    cPickle.dump([cou_n2i, cou_i2n], df)\n",
    "\n",
    "cou_dictionary = cou_n2i\n",
    "for cid in cou_dict:\n",
    "    cid_target_new = cou_dictionary[cid]\n",
    "    for cid_pre in cou_dict[cid][\"prereq_courses\"]:\n",
    "        cid_pre_new = cou_dictionary[cid_pre]\n",
    "        graph_sparse_data.append(1)\n",
    "        graph_sparse_row.append(cid_target_new)\n",
    "        graph_sparse_col.append(cid_pre_new)\n",
    "\n",
    "graph_sparse = csr_matrix((graph_sparse_data, (graph_sparse_row, graph_sparse_col)),[len(cou_dict), len(cou_dict)])"
   ]
  },
  {
   "cell_type": "code",
   "execution_count": 30,
   "metadata": {
    "collapsed": false
   },
   "outputs": [],
   "source": [
    "with open(\"data/graph_prereq\", \"w\") as df:\n",
    "    cPickle.dump([graph_sparse, 0], df)"
   ]
  },
  {
   "cell_type": "markdown",
   "metadata": {},
   "source": [
    "# mandatory courses #"
   ]
  },
  {
   "cell_type": "code",
   "execution_count": 32,
   "metadata": {
    "collapsed": false
   },
   "outputs": [
    {
     "name": "stdout",
     "output_type": "stream",
     "text": [
      "{'N_stu': 195, 'courses_list_ordered': [u'KOR120', u'KOR121', u'KOR424', u'KOR425', u'KOR494H', u'KOR099'], 'url': u'/university-course-descriptions/undergraduate/kor/', 'level': (array([ 0, 71, 33, 80, 85, 25, 88, 57, 37, 29]), array([ 0.394271  ,  0.92088794,  0.60890168,  0.69639774,  0.55481966,\n",
      "        0.54539037,  0.82607731,  0.56352906,  0.66974169,  1.        ])), 'courses': {u'KOR424': {'prereq_courses': [u'KOR120', u'KOR121', u'ASIA100', u'ASIA102', u'ASIA004', u'CMLIT004'], 'ordinal': [['B', 'B-', 'C', 'D', 'B', 'A', 'C', 'B', 'D', 'A-', 'F', 'A-', 'F', 'D', 'F', 'D', 'B+', 'D', 'F', 'D', 'B+', 'B', 'D', 'F', 'C+', 'D', 'D', 'A-', 'C+', 'B-', 'B', 'D', 'D', 'D', 'D', 'B+', 'D', 'C', 'C', 'B+', 'A-', 'C', 'D', 'B-', 'D', 'D', 'D', 'B+', 'B-', 'D', 'B-', 'B+', 'B', 'F', 'D', 'F', 'B-', 'D', 'F', 'F', 'C', 'D', 'F', 'B-', 'A-', 'B+', 'B-', 'D', 'F', 'F', 'C+', 'F', 'B+', 'B', 'A-', 'B-', 'F', 'B', 'C', 'B+', 'C', 'F', 'C+', 'D', 'D', 'D', 'C', 'D', 'A', 'A-', 'F', 'A-', 'F', 'C', 'A-', 'C+', 'A-', 'B+', 'A-', 'F', 'F', 'C+', 'F', 'D', 'C+', 'B+', 'C', 'B+', 'B+', 'D', 'C+', 'F', 'B+', 'D', 'C+', 'C', 'C+', 'F', 'D', 'F', 'B-', 'D', 'D', 'D', 'C+', 'C', 'D', 'A-', 'C+', 'B-', 'F', 'A-', 'B+', 'F', 'D', 'D', 'B-', 'C', 'B+', 'F', 'C', 'A', 'B', 'D', 'C+', 'D', 'D', 'F', 'F', 'D', 'A-', 'D', 'F', 'D', 'D', 'B-', 'D', 'F', 'C+', 'C+', 'C', 'C', 'F', 'C+', 'D', 'D', 'F', 'D', 'C', 'D', 'C+', 'A-', 'D', 'C+', 'C', 'C', 'F', 'F', 'B-', 'B-', 'D', 'B-', 'C+', 'B+', 'B+', 'D', 'F', 'C+', 'F', 'F', 'D', 'C', 'D', 'D', 'B', 'F', 'F', 'A', 'D', 'D', 'C', 'B+', 'A-', 'D', 'D', 'A', 'F', 'D', 'C+', 'D', 'A-', 'B-', 'C+'], ['B-', 'A-', 'D', 'A-', 'C', 'C', 'C+', 'B-', 'C', 'F', 'D', 'A-', 'B', 'A-', 'C', 'B+', 'C', 'A-', 'C', 'C', 'D', 'A', 'A-', 'C+', 'C+', 'B', 'C', 'B', 'A', 'B', 'B', 'B-', 'C', 'D', 'B-', 'A', 'C', 'B+', 'B+', 'A-', 'D', 'C', 'D', 'C', 'C', 'A', 'A', 'A', 'A', 'C', 'A', 'B-', 'D', 'D', 'A', 'D', 'A', 'D', 'B', 'A', 'A-', 'F', 'C+', 'A-', 'A', 'B', 'A', 'B-', 'D', 'C+', 'D', 'B-', 'D', 'C+', 'A', 'C+'], ['D', 'C+', 'B', 'C+', 'D', 'C+', 'F', 'B', 'B-', 'B-', 'A', 'C', 'A', 'D', 'B+', 'B-', 'B+', 'D', 'C+', 'B-', 'A-', 'D', 'C', 'C+', 'C', 'C+', 'C+', 'B-', 'F', 'B+', 'C', 'B', 'A-', 'F', 'F', 'D', 'B+', 'C+', 'C+', 'D', 'B-', 'B', 'D', 'B', 'D', 'D', 'B-', 'A', 'B+', 'B', 'D', 'A', 'C', 'F', 'C', 'F', 'B-', 'D', 'B-'], ['A', 'F', 'A-', 'F', 'C', 'D', 'D', 'C+', 'D', 'A', 'B', 'B-', 'B', 'A', 'D', 'B', 'D', 'B+', 'B-', 'B', 'F', 'C', 'A-', 'B', 'B+', 'B-', 'D', 'D', 'F', 'D', 'A-', 'D', 'D', 'F', 'C+', 'D', 'D', 'C', 'F', 'D', 'B', 'A-', 'C+', 'C', 'D', 'B+', 'C', 'C+', 'C', 'D', 'C', 'F', 'D'], ['B+', 'B', 'C', 'B', 'C+', 'A', 'B+', 'D', 'C+', 'B', 'D', 'F', 'D', 'B+', 'C+', 'A', 'C', 'A', 'D', 'C+', 'C', 'C+', 'D', 'B', 'B-', 'C+', 'B', 'B+', 'B+', 'D', 'C+', 'C+', 'C+', 'B+', 'C+', 'B+', 'F', 'A-', 'C', 'A', 'C+', 'B-', 'C', 'C', 'B+', 'F', 'A-', 'C+', 'C+', 'A-', 'B', 'B', 'C+', 'A-', 'A-', 'B+', 'D', 'C+', 'B', 'A', 'A', 'C+', 'B+'], ['F', 'B', 'B', 'B+', 'B+', 'C', 'B-', 'B', 'D', 'D', 'C+', 'D', 'B', 'D', 'C+', 'B+', 'B', 'C', 'A-', 'A-', 'B', 'F', 'C+', 'A-', 'D', 'A-', 'C', 'D', 'A-', 'B+', 'B-', 'D', 'B+', 'C+', 'B', 'A', 'D', 'B', 'B', 'B', 'B+', 'C+', 'C', 'F', 'B+', 'B+', 'B', 'D', 'C+'], ['B', 'F', 'A', 'C', 'A-', 'C+', 'C', 'B-', 'B+', 'D', 'B', 'A-', 'A', 'B+', 'A-', 'C+', 'B-', 'A', 'B+', 'C', 'F', 'C', 'A', 'B', 'C', 'B', 'B-', 'A', 'B+', 'B-', 'D', 'A', 'A', 'B-', 'D', 'A', 'A', 'A-', 'B-', 'B', 'A-', 'B', 'C+', 'B+'], ['A-', 'C', 'B+', 'A', 'B-', 'A-', 'B-', 'A-', 'A', 'A-', 'A', 'C+', 'D', 'B-', 'C', 'B', 'A-', 'D', 'A-', 'D', 'C+', 'D', 'D', 'B+', 'A-', 'B-', 'A-', 'A-', 'B', 'C+', 'B-', 'A', 'C+', 'F', 'C+', 'D', 'C+', 'A-', 'B-', 'D'], ['A', 'A', 'A-', 'A', 'A-', 'B-', 'A', 'A-', 'F', 'B+', 'B+', 'C+', 'B', 'F', 'D', 'A-', 'B+', 'D', 'B-', 'C+', 'B+', 'D', 'B-', 'C', 'B-', 'B+', 'A-', 'C+', 'A-', 'C', 'A-'], ['C+', 'B-', 'A', 'A', 'B-', 'A-', 'D', 'A-', 'F', 'C+', 'B-', 'A-', 'A-', 'A-', 'B+', 'B+', 'B+', 'F', 'B+', 'A', 'B', 'B+', 'C+', 'B', 'B+', 'A', 'C', 'D', 'C+', 'C', 'A-', 'C+', 'A-', 'C+', 'A-', 'B+'], ['A-', 'B+', 'B', 'A-', 'A', 'C+', 'C', 'B+', 'B+', 'F', 'A-', 'A', 'C+', 'C', 'C', 'C', 'C+', 'B+', 'C+', 'A-', 'A'], ['A-', 'B', 'A-', 'B', 'B+', 'A', 'A-', 'A-', 'A', 'A-', 'C', 'B+', 'A-', 'B-', 'A-', 'A', 'A', 'C', 'A', 'C+', 'B+', 'A-']], 'major': u'KOR', 'description': u'\\n\\t\\t\\t\\tExploration of seminal Korean texts, including poetry, fiction, autobiography, and criticism, from the early twentieth century to the contemporary era. This course provides a comprehensive overview of modern Korean literature within a transnational context. As we learn how to critically analyze seminal Korean texts, we will locate them in the social, political, economic, and cultural conditions under which they were produced and received. In grappling with some of the fundamental issues they raise;including colonialism, migration, national division, war, gender relations, developmentalism, urbanization, democratization, and contemporary consumer culture;we will also seek to situate these writings in the Korean vernacular within the larger context of global modernity. Rather than take Korean literature and global modernity as given or apart from each other, we will attend to their intersections by raising such questions as: How did modern experiences, constructed through the interface with unfamiliar Others, change preexisting ways of writing and reading? How did foreign occupations affect the formation of a national literature? In what ways do Korean writers\\' representations of the inter/national events and phenomena on and beyond the Korean peninsula at once enrich and complicate empirical investigations into modern histories of Korea, East Asia, and the world? In an increasingly borderless world, can we draw a boundary around what is called \"Korean\" literature? In parallel with these questions, we will further discuss why and how to engage in literary practices in the current age of digital reproduction. Instruction and all materials will be in English. No preliminary knowledge of Korean history or language is required for taking this course.\\n\\t\\t\\t', 'title': u'KOR 424: Transnational Korean Literature', 'grade': [[83.751242984287074, 81.462662021969422, 76.110593787574217, 74.291749991269128, 84.846383631950644, 95.103617930725449, 77.061261393951767, 85.442329782136511, 71.592818255646947, 89.509859325186781, 57.099850494579876, 90.003150519988978, 65.170742809901313, 73.471352834004506, 63.133780199041126, 68.398304574890489, 87.866222985489046, 70.586257456575424, 65.634304594989388, 74.103559179591599, 87.712949563602137, 83.795811446508822, 71.5816803913348, 58.774339977240039, 78.439504972073962, 74.281053724206075, 72.439950311964878, 90.692730737522567, 78.261973763758462, 82.002466258380423, 83.598238029704831, 68.556796318745171, 73.925791592886142, 71.296065244752995, 68.161418969579628, 85.796892355484985, 74.3036299825322, 77.686968078890587, 76.823589835646771, 86.636219593453305, 89.250333895818855, 77.537190775859571, 67.675871720527638, 82.755414821455275, 70.977483690869349, 70.943619859379609, 72.661110786857378, 87.777262215426759, 82.467876536511938, 74.357985271543086, 82.487593181752942, 87.162744165365851, 85.793113257435934, 62.728118967525248, 69.556198997999005, 65.429971333289657, 83.242741099276003, 72.580903963385452, 64.562547170681114, 62.647102841296984, 76.370061263759084, 74.441010732590939, 56.035357788227657, 81.394942735939296, 89.027590868455064, 86.528007023741054, 82.707242092215111, 72.130377988847755, 64.054177001937376, 61.704896076692563, 80.872756438292072, 65.378108089895207, 87.654281674184958, 84.490611151516475, 90.894481809504541, 82.069171344572581, 64.02889618560441, 84.65039434215673, 74.937633313243524, 87.581595892930295, 76.008075023626049, 62.784290752797197, 78.957706501407316, 69.632914895866122, 72.226753434985653, 71.013389124234465, 75.622531081905748, 74.145760243768251, 97.201153809808858, 89.493837916800416, 61.261930441247316, 91.515103569381068, 64.654586159962889, 76.751322366752646, 89.184340201053544, 79.302084644559883, 93.032787923150622, 85.856070271508571, 89.242965572224904, 64.127093553487413, 62.889312089071559, 77.784923589396982, 60.976641083344816, 70.465413605045796, 78.304634886006127, 88.336936052111653, 76.681080789237356, 86.139006560207633, 88.180384406472839, 71.733712871950345, 80.546561602555499, 63.293142763216082, 87.350959942187188, 72.573801254415386, 78.820792635371944, 76.146126210200464, 80.954101792649595, 65.449999001718112, 70.809141107688831, 60.1746608313371, 81.550390817760672, 71.177131492629741, 68.327504640961962, 68.026774492827144, 79.918404229912795, 74.764979525271286, 72.64237821110585, 90.138611979611028, 78.291817442067412, 83.081383700136328, 62.199146529056989, 88.951733827166379, 88.846547909989951, 62.496638713561566, 66.996068200960508, 73.552760881258919, 82.444912953877918, 76.074625483285146, 86.627485784754285, 63.075507305795995, 76.024566283367392, 98.735790317536072, 83.67394474938628, 71.597135977951282, 79.48911238202642, 67.906395687378307, 67.472632627708009, 60.713293957319372, 60.219359000264063, 73.867849551394343, 91.232676099048632, 67.034595065699008, 58.621161219349545, 70.402457819492142, 70.739650528230428, 81.821629827581262, 72.378977319338418, 65.081237601497079, 80.407152716726856, 79.005336841138856, 76.746541243804472, 74.945274791535866, 64.425904835642626, 79.613737217019491, 70.851191582789824, 73.402530251140448, 64.178384416852069, 72.36269790223939, 75.956055127565904, 71.543965829542188, 78.058710838204703, 89.750227591224473, 68.940600387147867, 78.713138571346562, 75.37355764849589, 75.28294273598388, 54.799871321793368, 60.191376589560264, 83.081297771939589, 83.080582132309431, 67.864012338515266, 83.071980868405689, 77.792986244429144, 86.220058538880281, 86.928435504569052, 66.889727037030738, 66.554976920069336, 78.731711952794313, 56.70947709909877, 56.988943306876848, 68.713683897602621, 76.282195185677438, 67.526030509362172, 73.928652675319853, 85.641803106602595, 62.495692785295667, 66.48516687175109, 93.62871087792378, 70.764438425644855, 67.28352126777618, 75.19130124371388, 88.68878124023955, 89.768856957267971, 68.88814011046604, 69.065546803441777, 96.784964610340268, 62.91692592266461, 71.6871741401024, 79.552602733789513, 70.317108516868728, 89.356441501269259, 81.442735575126207, 78.695634118299239], [82.713935385576008, 89.690215239092367, 71.736408056692625, 89.114179802757533, 75.549651438725519, 74.721188003845469, 78.645217516329396, 82.714219826001539, 77.324048096749038, 59.622355465563317, 69.361564606289292, 91.077054555611625, 84.261896010033126, 89.812171728849293, 74.444672759351889, 87.383656690918315, 77.236089554270691, 89.785324812957327, 77.053511148569925, 75.334329060778543, 71.768240396698474, 99.865051953502785, 89.982396878196752, 79.006637927063196, 80.263785089097567, 84.986220559394482, 77.162080845828484, 85.011595693881176, 93.458913858656061, 85.556589237059271, 83.740226777211731, 83.123211665839619, 75.529127780572935, 67.242063313400848, 82.100154533026142, 93.578753441607731, 76.25381307286176, 87.217856934151158, 86.55113620353157, 93.134281388515049, 66.872439133001095, 77.660228781391652, 71.965583046562998, 74.587070359714843, 76.099693506364986, 99.428491988492141, 95.243623367223933, 96.275025072585279, 97.404831015053944, 77.360812687557782, 94.335988243500381, 81.86517535460257, 73.680398164056243, 70.4534964309901, 94.641721448743681, 73.431127213061032, 100.0, 72.879599416434587, 84.842752073782862, 95.549900782424942, 89.369786978062123, 64.535197597967269, 78.593109048031835, 93.089192267635681, 95.570994929887988, 83.959623832523775, 96.201011472422778, 82.084319623584847, 67.63718314774863, 78.104038827459419, 68.831966481131317, 82.419676709730311, 73.926206431085404, 79.690442619896544, 98.787703914016134, 78.651540300436864], [74.296208551678561, 80.653923077270875, 83.853560487690984, 77.977367505245567, 67.916374853512892, 79.435112014858007, 63.088536179595692, 84.558821598979378, 82.309200815983445, 82.847896504832221, 93.633082773007118, 76.076402904375755, 94.018390440259964, 73.951305894220923, 85.97843122337629, 82.105674224361934, 86.14758154824294, 74.407607163541783, 78.860897725751229, 81.848385844930888, 90.517530572217566, 72.07111903442275, 74.529381133861307, 78.643926183421087, 77.693701001484243, 80.164664398405478, 80.686603767577807, 81.542952426897102, 61.729812281155247, 86.166980222409308, 77.501656585798045, 83.290553402002772, 89.949455572735843, 62.854150364324468, 60.701123914493571, 69.744322968260335, 87.027025230725258, 78.954316323756373, 80.132716734476872, 68.488033589903168, 81.933879870853843, 83.474655856994389, 73.985864186702386, 83.463804569862205, 70.048177845730393, 68.90368882799541, 82.521018501490758, 95.215619547164266, 88.771146855006933, 83.393104834529041, 74.209300351214452, 94.511554983130381, 74.592052083511092, 64.892190789488254, 77.006672615836663, 54.467768231833112, 81.942535820280256, 73.145084331915086, 82.469120288465533], [94.234627170205783, 61.804875665911027, 88.919359415063781, 61.334095911245036, 75.607128908457682, 67.060531793688526, 73.370337023813832, 78.975020795490238, 69.935176235080093, 93.531267123301873, 84.065271232295231, 83.029899005752256, 84.671017085138502, 93.379617874645376, 73.739544981214493, 83.873341690470397, 69.012794203125068, 88.495620826876063, 81.336659388834946, 83.88802932397607, 65.174838076875901, 74.578778445124897, 92.342585246763207, 84.262048118897297, 88.837348214140093, 82.608270942188625, 69.839370216192037, 70.49211666448042, 65.740567177822555, 74.000462256863827, 92.775780294386408, 67.232406064732629, 70.650406769769418, 57.618472452892931, 79.200022463095394, 68.886789648573895, 68.872320560545703, 75.306170995233586, 62.857523327381237, 73.43839347677644, 83.582990552754836, 89.423189147813204, 80.794152256220613, 76.853764198683152, 71.797974387198536, 85.818334428860496, 75.887999439479998, 81.156297234290136, 77.699668213124511, 70.475326499141815, 77.189104955924719, 61.004503251349028, 67.860400289241824], [86.947434803187576, 84.863500265223053, 76.641314322423966, 84.428208001034392, 77.862399332780953, 97.763188221612936, 87.601942291863494, 70.594231464014996, 80.890148732660592, 84.651705358887824, 73.394257776760412, 59.860501753179271, 71.724622043999744, 88.571287011262285, 78.607057090786441, 95.417481076008357, 74.784375358700089, 93.816391847624814, 68.478793506865316, 80.859686070380405, 75.121150280111394, 80.047701888840052, 73.678105912181977, 84.333026051558917, 82.798084689051606, 78.809752426154418, 85.744116833525993, 86.25270489279832, 86.925161069895111, 72.992534461088468, 79.627540833684819, 81.031141202968442, 79.861293858739799, 86.053204194204497, 79.933078239549474, 88.851096172825166, 61.722980590839747, 93.329980972236612, 75.718618854510666, 96.346052691061573, 80.859424824559582, 82.808297181777192, 75.701427235685387, 77.467265935883304, 87.506756786165994, 60.234604655380878, 89.532094436061641, 80.370049199212119, 78.051004333001771, 93.2648071661297, 85.165146256760494, 85.585309270492999, 77.963165894045943, 92.375161019142382, 92.672775795694591, 87.634532901853007, 70.468599353142082, 77.994945190968267, 85.093360930307114, 94.756796865511532, 100.0, 80.027038992623588, 88.334538062996543], [66.041557224033582, 83.829136196591662, 84.345656162859868, 86.515158963563394, 85.929879209965648, 75.838026220880622, 82.156623683165321, 83.542619361841645, 73.214700073387689, 68.696472491213598, 80.005809520160909, 66.70869117419484, 83.607976419811038, 71.090457980059398, 80.276127023931281, 86.05959587888654, 84.693377211435234, 77.266268196752975, 89.910299609851435, 89.685330656697658, 83.689974604714919, 65.402648757304732, 80.324716157053672, 91.314889888605535, 72.737137403591845, 92.335071416870861, 74.478794451197189, 68.333470829065746, 90.995425036956433, 88.113735243989737, 82.249281250262754, 73.567733623284994, 87.165739284199589, 79.863194423546176, 85.181354130273917, 96.737814344993438, 70.936379588171789, 84.0958941715582, 85.099160207574727, 83.71071222177757, 85.955750314337521, 79.0454117684735, 77.287377803694852, 64.268124730861459, 88.021036763799003, 85.968548216282898, 83.370015835500794, 68.91896384359481, 79.361680975804461], [85.240963660074712, 60.124381176234067, 95.063474966256393, 76.411898320601267, 92.58255542646323, 80.135136314588948, 76.104658866994782, 81.640387805646057, 88.29805623773413, 73.376132574677143, 83.822906215260033, 92.149870060092724, 96.07577369816228, 87.753490477685233, 91.636028247698718, 80.139979450938242, 81.911213331760493, 96.047170639686769, 88.876172685662866, 75.529096209151916, 64.008461536317412, 76.439937035798394, 95.533112738641051, 84.059014184893783, 76.256494459961729, 84.890562280104305, 81.262950134657757, 97.869355578802157, 87.400581490706259, 81.727979472190299, 73.681418719227153, 98.684210302373984, 95.995563479055974, 82.755873472105137, 74.359116150847399, 93.879965581387353, 94.055413548447291, 92.298335397612263, 81.84028098603892, 83.324687399230555, 90.108135230895471, 84.961779211054434, 78.412591107845827, 87.249293347027034], [90.847180375965337, 76.810503973518053, 88.698284690208823, 94.165693360489684, 83.040646267477115, 89.007925084016478, 83.062126463632509, 90.199634501038076, 95.426585599407389, 89.051206936135173, 94.186409651694419, 81.176574416996061, 70.02488859483887, 82.001939729811255, 77.728917241324609, 85.776658223768692, 90.265552842754772, 69.678741991969559, 89.772674591580653, 68.765115266520809, 80.982225752866754, 67.58940562044603, 68.215663733047833, 87.577627237002659, 91.357199131796889, 82.355945783684248, 92.714960077442527, 90.992379047753161, 83.452791821626548, 79.965755454692783, 82.381138385787295, 95.376976079773826, 80.40096314258362, 55.196809300473589, 77.95094128209027, 73.270826682573897, 78.82513967493388, 90.394735445844418, 82.047677126145317, 71.043119184120386], [94.630440012506085, 93.779759780929766, 92.160155089751115, 93.887487883606582, 91.559351986222168, 81.729154979103086, 96.389290893457897, 92.976244397192744, 65.740220303537811, 88.263184979803597, 86.128471743758865, 78.725603855573638, 84.073914931939797, 64.933467302685045, 72.133353286310964, 89.16808296424162, 86.405113771825043, 72.555383955258463, 81.920955418413399, 78.332086542607584, 86.548743168293541, 72.435063630520375, 83.132523002037331, 76.477155119663877, 82.306431106850852, 86.790884106290562, 93.051486599824401, 78.756905251871089, 92.882475759021872, 77.081825890391528, 89.278402474278124], [80.261675164362799, 82.024924375549773, 94.483593505885338, 95.696626249195347, 81.989945277262251, 91.408243168907802, 67.463006885771094, 89.284408859684177, 65.729077211034479, 79.679673518196324, 82.46771463751351, 89.677993199547515, 89.085393324015683, 92.064935404888274, 86.440504182221787, 86.538345010414844, 88.579500580032501, 63.011263772762874, 87.753642884802659, 96.034827192693001, 83.277596310670205, 88.262622947949993, 78.481994845960273, 85.055562495478199, 87.36174805402193, 98.955416918226376, 75.607643908290612, 67.411980230616024, 79.517465418624823, 74.651024067455992, 92.729800585338353, 79.65237046854341, 91.969287205430234, 80.799503594810091, 89.339864780276798, 88.378783297106025], [92.904752707656684, 87.864251995853849, 84.753515278210898, 89.588017189000723, 98.75913891323556, 79.052644948236278, 75.189836751665908, 85.900425597654433, 86.611889822723114, 66.601735382472583, 91.50130629175456, 96.860908510041725, 79.531113502687504, 76.911494544745921, 77.232560306182677, 76.243141663547135, 80.274977984204924, 88.575733822665029, 81.084552173386115, 89.538334410804069, 100.0], [89.892510952685853, 83.733268435528174, 89.680566405034995, 84.649834488700165, 88.505969062989493, 94.935381770405229, 90.518252420342264, 89.98859327053556, 95.544585467505698, 92.239420353572299, 77.641730011507974, 86.954250819862622, 89.373190255120946, 82.087899602114632, 93.315455398728545, 94.10936218900197, 94.705074840825048, 74.721974208645577, 94.33021099446492, 78.795582228999024, 86.352404579377819, 90.323482643163715]], 'level': array([ 0.03499078,  0.        ,  0.        ,  0.        ,  0.        ,\n",
      "        0.        ,  0.        ,  0.        ,  0.        ,  0.        ,\n",
      "        0.        ,  0.        ,  0.        ,  0.        ,  0.        ,\n",
      "        0.        ,  0.        ,  0.        ,  0.        ,  0.        ,\n",
      "        0.        ,  0.        ,  0.        ,  0.        ,  0.        ,\n",
      "        0.07129183,  0.        ,  0.        ,  0.        ,  0.15283455,\n",
      "        0.        ,  0.        ,  0.        ,  0.15514508,  0.        ,\n",
      "        0.        ,  0.        ,  0.1640268 ,  0.        ,  0.        ,\n",
      "        0.        ,  0.        ,  0.        ,  0.        ,  0.        ,\n",
      "        0.        ,  0.        ,  0.        ,  0.        ,  0.        ,\n",
      "        0.        ,  0.        ,  0.        ,  0.        ,  0.        ,\n",
      "        0.        ,  0.        ,  0.20757128,  0.        ,  0.        ,\n",
      "        0.        ,  0.        ,  0.        ,  0.        ,  0.        ,\n",
      "        0.        ,  0.        ,  0.        ,  0.        ,  0.        ,\n",
      "        0.        ,  0.19535189,  0.        ,  0.        ,  0.        ,\n",
      "        0.        ,  0.        ,  0.        ,  0.        ,  0.        ,\n",
      "        0.22036149,  0.        ,  0.        ,  0.        ,  0.        ,\n",
      "        0.14711225,  0.        ,  0.        ,  0.03599246,  0.        ,\n",
      "        0.        ,  0.        ,  0.        ,  0.        ,  0.        ,\n",
      "        0.        ,  0.        ,  0.        ,  0.        ,  0.        ]), 'credits': u'\\n\\t\\t\\t3 Credits\\n\\t\\t', 'num': u'424', 'stu_taken': [[207, 282, 334, 337, 425, 439, 735, 919, 1716, 1961, 2187, 2316, 2476, 2825, 3531, 3578, 3795, 3879, 4159, 4653, 4982, 5201, 5461, 5492, 5928, 6339, 6378, 6898, 7166, 7401, 7508, 7750, 7912, 7944, 8034, 8672, 8797, 8898, 10168, 10288, 10475, 10514, 10647, 11014, 11208, 11471, 11620, 12103, 12128, 12909, 13260, 13644, 13666, 13812, 13852, 14108, 14525, 14655, 14950, 15081, 15649, 16122, 16248, 17211, 17327, 17378, 17968, 18497, 18524, 18564, 18618, 19215, 19234, 19318, 19471, 20125, 20185, 20876, 20912, 21092, 21357, 21418, 21516, 22073, 22490, 22530, 22554, 22819, 22996, 23192, 23388, 24271, 24335, 24756, 24795, 24809, 25213, 26194, 26468, 26751, 27347, 27509, 27629, 28101, 28195, 28713, 29021, 29614, 29682, 29774, 30120, 30703, 30709, 31235, 31455, 31507, 31998, 32060, 32061, 32208, 32322, 32336, 32833, 32923, 33154, 33762, 33841, 34040, 34192, 34203, 34427, 34531, 34558, 34580, 34686, 34787, 34939, 34972, 35205, 35266, 35578, 35759, 35917, 36128, 36521, 36826, 36965, 37080, 37119, 37233, 37394, 37686, 37713, 37752, 37792, 38314, 38702, 38844, 39216, 39463, 39794, 39803, 39817, 40031, 40258, 40776, 40888, 40941, 40976, 41090, 41326, 41547, 41620, 41679, 41703, 41785, 42009, 42036, 42461, 42475, 42854, 43099, 43680, 43760, 43888, 44658, 44696, 45043, 45213, 45541, 45619, 45636, 46242, 46341, 46417, 46418, 46440, 46471, 46629, 46901, 47314, 47517, 47691, 47941, 48490, 48701, 48820, 49012, 49412, 49535, 49558, 49699, 49893], [430, 431, 1754, 3301, 4687, 5182, 5462, 6387, 6403, 6778, 8488, 9102, 9466, 9763, 9853, 10630, 11647, 12238, 12596, 13607, 13964, 13985, 14011, 14433, 15155, 16503, 16820, 18186, 18213, 18461, 18569, 18720, 18761, 19844, 20139, 20955, 21667, 21874, 23157, 23190, 24044, 24892, 25149, 25256, 25303, 25554, 27773, 29797, 30250, 30425, 30767, 31261, 31544, 31569, 32123, 32438, 33011, 33070, 33365, 34877, 35573, 36508, 36524, 37153, 37602, 37643, 38026, 39813, 40488, 42458, 42737, 43403, 43587, 44822, 46044, 47054], [1369, 1451, 1473, 1611, 1869, 2016, 2202, 5994, 6016, 6152, 7453, 7525, 8864, 9035, 9859, 10234, 10948, 11159, 11326, 11468, 12813, 12855, 13456, 15307, 15723, 16152, 16465, 16606, 17312, 17737, 18889, 19682, 19708, 20440, 20782, 22681, 22971, 22989, 24047, 24430, 28892, 31539, 33662, 34456, 35155, 35563, 36244, 36463, 37683, 39163, 40855, 40983, 42400, 43323, 43729, 45188, 45578, 45915, 46950], [1279, 2201, 2253, 5974, 7138, 7194, 7195, 7432, 7951, 8204, 8305, 8480, 10269, 12372, 12410, 13125, 13725, 14661, 14835, 15533, 17244, 18546, 18762, 19028, 19079, 21741, 22184, 22459, 23833, 23968, 24680, 25358, 25402, 28047, 29192, 29668, 30351, 31615, 32234, 32284, 33282, 35401, 37163, 37919, 40805, 41345, 42556, 44157, 44651, 45513, 46578, 47039, 47749], [59, 67, 893, 1317, 2026, 2354, 2659, 3359, 6251, 6654, 7632, 7743, 8170, 8297, 8612, 8908, 9786, 11717, 12699, 13189, 13656, 13995, 16491, 17713, 18361, 18964, 19391, 19743, 20056, 21020, 21044, 21555, 25221, 25580, 26803, 28070, 29592, 31795, 33295, 35332, 35732, 35852, 36588, 36758, 37452, 38655, 39060, 39251, 39759, 40051, 40712, 41247, 42897, 43538, 44346, 44381, 45158, 45888, 46356, 47726, 48274, 48339, 49216], [903, 2059, 2273, 2284, 2697, 2970, 4169, 4738, 5931, 7110, 10571, 11500, 12543, 12812, 14334, 16686, 16964, 19237, 19827, 20223, 22305, 22829, 22968, 24865, 25425, 26176, 27032, 28712, 28812, 29669, 30397, 31922, 33106, 34738, 39019, 41605, 42060, 42735, 43407, 43769, 44237, 45192, 45719, 46063, 46671, 46697, 47723, 47948, 49998], [467, 1715, 3995, 4128, 5112, 6130, 6538, 7862, 9121, 10219, 10851, 10978, 11062, 13288, 14146, 15686, 15883, 16467, 17477, 18190, 20720, 21070, 21621, 22779, 23457, 26254, 27192, 27550, 30006, 30879, 31409, 31728, 33352, 33907, 34905, 36119, 39380, 39632, 40561, 41302, 41678, 41875, 44175, 47962], [1044, 1722, 1992, 2981, 3599, 3615, 3818, 4109, 6093, 8026, 8428, 13485, 15636, 15722, 15741, 19352, 19382, 20013, 21520, 23445, 23668, 23830, 25004, 25899, 30309, 30504, 30571, 33370, 33961, 35166, 35823, 36269, 37744, 43311, 43314, 43932, 44560, 46496, 46910, 48225], [451, 1543, 2708, 3169, 8456, 9019, 12689, 12824, 16094, 18696, 19138, 20074, 20722, 21068, 21681, 21934, 22220, 22755, 23743, 27868, 28819, 29067, 33507, 34235, 34545, 37054, 38435, 43034, 44523, 47313, 48862], [1404, 1439, 2132, 2830, 4545, 5004, 6842, 7116, 9052, 9086, 12606, 12829, 14398, 15446, 19571, 21679, 21993, 24121, 25280, 25815, 26356, 27427, 28608, 28788, 29063, 30084, 30281, 31320, 34022, 35350, 36438, 43982, 43999, 45307, 46670, 47386], [1403, 5421, 5499, 9996, 12715, 13043, 13065, 13271, 17718, 18385, 18732, 22071, 22997, 23634, 27866, 31887, 32205, 38303, 38338, 46386, 46536], [127, 2122, 3772, 3912, 4217, 7622, 10281, 10715, 16213, 19333, 21328, 22784, 23303, 24524, 24952, 32215, 33276, 33601, 38824, 39959, 42274, 49737]], 'prerequisite': u'\\nPrerequisite: KOR\\xa0120; KOR\\xa0121; ASIA\\xa0100; ASIA\\xa0102; ASIA 83; ASIA 4; CMLIT 4; 5th Semester standing\\t\\t\\t\\n', 'sub': u'Korean (KOR)'}, u'KOR425': {'prereq_courses': [u'KOR120', u'KOR121', u'ASIA100', u'ASIA102', u'ASIA004', u'CMLIT004'], 'ordinal': [['B+', 'B', 'B+', 'D', 'D', 'D', 'C+', 'D', 'C', 'B-', 'D', 'B-', 'D', 'F', 'D', 'C', 'D', 'B+', 'D', 'F', 'B-', 'D', 'C', 'C', 'C+', 'B+', 'D', 'D', 'D', 'B', 'F', 'A', 'D', 'C+', 'D', 'B', 'D', 'D', 'C', 'B+', 'B', 'B-', 'B-', 'C', 'D', 'C+', 'B-', 'D', 'F', 'B', 'F', 'A-', 'D', 'D', 'D', 'D', 'D', 'F', 'B+', 'B+', 'F', 'C', 'B', 'C+', 'D', 'F', 'B', 'C', 'B+', 'F', 'D', 'C+', 'C+', 'C+', 'D', 'B', 'B-', 'D', 'B', 'D', 'D', 'D', 'B-', 'B', 'D', 'B+', 'B', 'F', 'A', 'C+', 'B+', 'B-', 'C+', 'F', 'D', 'C+', 'C', 'F', 'C+', 'D', 'D', 'C', 'B+', 'B-', 'B', 'D', 'C', 'D', 'D', 'F', 'A-', 'C+', 'F', 'F', 'D', 'D', 'F', 'B', 'C', 'D', 'F', 'D', 'D', 'D', 'A-', 'F', 'D', 'A', 'C', 'A', 'D', 'D', 'B', 'C', 'B-', 'F', 'F', 'D', 'C', 'F', 'B-', 'B+', 'D', 'F', 'A-', 'B+', 'F', 'C', 'D', 'B-', 'F', 'F', 'F', 'C', 'D', 'C+', 'D', 'B', 'D', 'D', 'C', 'D', 'D', 'C+', 'C+', 'C+', 'B+', 'D', 'C+', 'F', 'D', 'D', 'B-', 'B', 'B-', 'D', 'A-', 'F', 'C+', 'C+', 'D', 'C+', 'A', 'D', 'D', 'D', 'C+', 'B', 'D'], ['A-', 'A', 'C', 'B-', 'A-', 'B', 'C', 'D', 'A', 'B-', 'B-', 'C+', 'B-', 'D', 'A', 'C+', 'B', 'A', 'C', 'A', 'B-', 'A', 'B-', 'A', 'D', 'C+', 'A-', 'D', 'A-', 'B', 'F', 'A-', 'A', 'A', 'A', 'C', 'B-', 'F', 'B', 'D', 'A', 'B-', 'B', 'A-', 'A', 'B', 'C+', 'A', 'A-', 'A', 'A-', 'A', 'F', 'C+', 'A', 'A-'], ['C+', 'D', 'B', 'C+', 'C+', 'F', 'D', 'C+', 'B+', 'D', 'F', 'D', 'C+', 'D', 'C+', 'A-', 'D', 'C', 'D', 'F', 'F', 'C+', 'F', 'F', 'A-', 'B', 'D', 'B+', 'D', 'B-', 'C'], ['A', 'B-', 'B+', 'D', 'D', 'C+', 'B-', 'A-', 'C+', 'F', 'B+', 'F', 'B+', 'D', 'B+', 'C+', 'B-', 'C', 'C', 'B', 'C+', 'B', 'B-', 'C+', 'A-', 'B', 'A-', 'C+', 'B', 'B+', 'D', 'F', 'D', 'C+', 'B', 'A-', 'A-', 'B-', 'C+', 'B+', 'B', 'D', 'F', 'C', 'A-', 'B+', 'A-'], ['C', 'C+', 'F', 'B+', 'D', 'B+', 'C+', 'D', 'D', 'B+', 'B-', 'A-', 'C+', 'B-', 'D', 'A', 'F', 'C', 'F', 'D', 'C', 'A', 'A-', 'F', 'A', 'F', 'B+', 'F', 'C', 'A', 'C+', 'B', 'F', 'C+', 'D', 'A-', 'F', 'B-', 'C+', 'A-', 'D', 'D', 'D', 'B+', 'F', 'C+', 'C+', 'A-', 'C+', 'D', 'A-', 'B-'], ['C+', 'C+', 'D', 'B', 'D', 'B+', 'B+', 'F', 'B-', 'B', 'F', 'B+', 'F', 'C+', 'B', 'B+', 'C+', 'B+', 'F', 'B', 'A-', 'A', 'B+', 'C+', 'C', 'A', 'D', 'B', 'D', 'C+', 'C', 'D', 'B', 'D', 'A', 'D', 'B+', 'A-', 'B', 'C', 'D', 'D', 'A-', 'D', 'D', 'A', 'B', 'D', 'F'], ['B+', 'D', 'D', 'F', 'F', 'A', 'D', 'D', 'D', 'B+', 'A-', 'B', 'D', 'C+', 'C+', 'B-', 'B-', 'C', 'C', 'C', 'F', 'B', 'B', 'B+', 'D', 'B', 'C', 'F', 'D', 'D', 'D', 'D', 'A-', 'A-', 'D', 'A-', 'F', 'D', 'B', 'A-', 'F', 'C', 'B', 'B', 'B-', 'C', 'A'], ['D', 'B', 'C+', 'B', 'A', 'C+', 'A', 'A', 'A-', 'A-', 'A', 'C+', 'C', 'B+', 'B+', 'C', 'B+', 'A', 'A', 'B+', 'D', 'D', 'A-', 'D', 'B', 'C', 'D', 'C+', 'B-', 'B', 'B-', 'D', 'B+', 'A', 'F', 'B-', 'A-', 'C+', 'B-', 'B+', 'B', 'D', 'A-', 'B+', 'C', 'A', 'A', 'D', 'C+', 'B+', 'B', 'A', 'A', 'B+', 'B+'], ['B', 'A-', 'A', 'D', 'D', 'A', 'B+', 'C+', 'B-', 'C', 'B', 'B+', 'B', 'D', 'A-', 'C+', 'D', 'A', 'C', 'A', 'C', 'B-', 'B-', 'A', 'B', 'C', 'D', 'C+', 'B+', 'B+', 'A', 'D', 'A', 'D', 'B-', 'D', 'D', 'B', 'B', 'B', 'C', 'B+', 'A', 'A-', 'D', 'C', 'B+', 'C+', 'B', 'B', 'B', 'B+', 'A-', 'C', 'C+'], ['D', 'A-', 'A', 'B+', 'B-', 'A-', 'B', 'C', 'B', 'C+', 'B+', 'C+', 'D', 'F', 'C+', 'A-', 'C+', 'C', 'D', 'A', 'A-', 'B+', 'B+', 'B+', 'D', 'A', 'F', 'B', 'B+', 'B-', 'A', 'A', 'B-', 'C+', 'D', 'B', 'C', 'F', 'B-', 'A', 'C+', 'A-', 'B', 'D', 'B', 'B-', 'A-', 'B', 'A', 'F', 'A', 'B', 'C+', 'C+', 'D'], ['A', 'F', 'C+', 'F', 'B', 'A-', 'A-', 'B-', 'F', 'A', 'B', 'C+', 'D', 'D', 'D', 'A', 'A', 'D', 'B', 'D', 'C+', 'D', 'B-', 'A', 'D', 'D', 'D', 'B-', 'B+', 'B', 'C', 'B-', 'C+', 'A', 'F', 'F', 'C+', 'A-', 'C+', 'C', 'D', 'D', 'B+', 'C+', 'B-', 'C', 'A'], ['A-', 'F', 'F', 'B', 'A', 'B+', 'A', 'C', 'A', 'B-', 'D', 'D', 'C+', 'B-', 'B+', 'C+', 'A', 'F', 'B', 'A-', 'F', 'B', 'A-', 'A', 'B+', 'B-', 'A', 'A', 'A-', 'D', 'B+', 'C+', 'D', 'A', 'B+', 'A', 'D', 'C', 'C+', 'A-', 'B', 'B', 'B+', 'C', 'A', 'B+']], 'major': u'KOR', 'description': u'\\n\\t\\t\\t\\tExploration of Korean cinema from the early twentieth century to the present, with an emphasis on its global/local dynamics. This course offers an introductory overview of Korean cinema. As we trace its history from the colonial period to the current \"Korean wave,\" we will also engage with film criticism, the trans/national contexts of film productions, the particular aesthetics of selected auteurs/genres, and local/global receptions of Korean cinema. Our discussion of formal elements and key issues featured in these films;modernity, colonialism, division, nation, class, gender, identity, tradition, ideology, desire, violence, and migration, among others;will be informed by readings of secondary sources and theoretical works, as well as literary materials produced during the same period. Throughout our analyses, we will seek to contextualize the cinematic texts within moments of major shifts not only in modern Korean history, but also in the transnational film industry and screen culture. In pursuing a broad and detailed perspective of Korean cinema, this course will ultimately enrich, and simultaneously complicate, our understanding of Korea, cinema, and the world. Instruction and all materials will be in English. No preliminary knowledge of Korean history or language is required for taking this course.\\n\\t\\t\\t', 'title': u'KOR 425: Global Korean Cinema', 'grade': [[75.312209579878925, 69.003470202249602, 76.781616928075607, 47.999450799714808, 56.568268453886404, 50.009699389086784, 61.561067193193978, 52.81177142353188, 57.789949778261217, 64.876401326840778, 52.55570075898941, 67.525060733457735, 47.815928194745368, 46.463955346786925, 56.486009501740966, 58.359102371938008, 55.721530258081295, 74.317421274634839, 55.593521260832802, 38.814248267227001, 66.069168628784681, 52.99079141044313, 60.236886433854679, 58.782435339142161, 63.576031502221731, 74.088085431070724, 57.126072453325271, 55.332017576408418, 47.454699783694849, 71.506372613081552, 41.79047481909911, 86.132512424988334, 49.523504418951426, 62.989479234579584, 47.480648068014787, 70.931570967692309, 49.097203863849856, 51.484955737567859, 60.310839023537753, 75.055373383710133, 69.586790382533351, 66.399801560431868, 66.436906691945026, 59.296834324847538, 54.768415947667137, 62.619039606258795, 66.090023577549346, 52.744767008115758, 47.176010148233495, 70.067722949947651, 44.554473934412826, 79.274676124951029, 47.81060703232086, 49.176604662639676, 50.363942768542579, 47.561135268415782, 49.911811448435138, 45.85863900037242, 73.639486810576983, 74.280517450159067, 39.859602177457575, 59.314720153490939, 69.228375145548043, 62.692681266511208, 48.497620900910185, 41.944902537814166, 68.040732361507253, 60.66042008238248, 73.958901879635405, 40.065578592877301, 52.940707257603883, 61.229211437610374, 62.959336238578153, 61.850014735705642, 54.237089648220547, 69.083969686403108, 67.376558242479462, 47.397782886186199, 71.169892946233674, 56.594476836859599, 47.880095945113453, 54.746328098621802, 65.053419215489626, 71.499701365506112, 53.776583260680631, 75.948416894626845, 67.666340365114436, 41.479261159463796, 92.389632367535455, 61.947880560035529, 76.439295746065838, 66.246267041572068, 63.911516384532341, 42.00299046669042, 53.260704607961706, 64.567462767936604, 57.620642166948464, 45.465169978834233, 64.061706421557005, 53.705690435502376, 55.658788326030219, 57.710640143111966, 74.058261781670183, 67.448470472960025, 72.871915467345687, 54.898117201780479, 58.255678728232333, 52.980398192887648, 56.894578950353093, 38.557350462492387, 78.235434766245433, 62.955659307662692, 37.665123217599536, 44.7281908858522, 52.604047054994062, 53.008656147161901, 33.349431162856909, 70.6049087500094, 58.423935083529564, 49.91660821480577, 41.833140674303912, 55.016441571690578, 57.19378680726502, 52.766861924381224, 80.543815803850393, 36.540357001835694, 54.160716034864407, 83.704182813791533, 58.750191443337251, 82.327392412168081, 53.711952726653642, 56.588165114940239, 69.559579498623393, 59.939673443879236, 66.905203349901882, 44.71678546322309, 37.896099305502219, 51.273955208050523, 60.547106446455579, 45.103952095326925, 66.164515709081556, 75.749886283546047, 52.880163666488563, 42.323099558314624, 78.508117870786336, 75.001762384265064, 45.734227939239815, 60.353462540247051, 49.273741970213464, 66.952058761875065, 39.047237160730894, 38.124678569712728, 35.343778190563754, 59.436009066867889, 51.761250402219602, 63.284303516999671, 50.8340956295635, 71.790900609660738, 51.919031349727454, 53.182133077451809, 57.576915688877371, 48.239928491272224, 54.690174296660444, 63.369135943635179, 64.172095535772485, 64.541589237726257, 75.113077060882418, 57.354747923788793, 64.448680426122209, 40.932167738338151, 52.715047506717262, 50.454324350370413, 66.857534969077818, 68.000660775180293, 65.624403529721647, 49.782884329502224, 78.809699733401985, 30.997100498211662, 63.104667149959056, 63.711749573062406, 54.83409660945334, 62.758221519679005, 86.796926508505422, 54.518022257885292, 54.632674013095958, 52.089757873661668, 61.316119234889598, 70.967185274292845, 54.833338603318502], [77.577613468554858, 88.315517810123865, 59.134361665191818, 67.084893192564039, 76.87741436819762, 73.273707333738528, 57.601648528578373, 49.291392992038965, 81.798756261823641, 65.831804853603629, 66.940473532419958, 64.304272810416364, 66.119951021787642, 54.852290441752693, 83.302592206930242, 64.345014414367512, 69.643822469105913, 81.977759583503044, 59.671431018310059, 83.481127807637009, 65.517749862043573, 88.80272833514401, 67.439814941988601, 88.463381870970096, 57.2522476689442, 63.376199355305651, 76.981765669254216, 56.224699821225002, 79.277158187900369, 71.043310753918831, 37.298330826819004, 77.235453692308226, 92.253171538424027, 87.15878106020601, 85.187879866134637, 60.353323055021491, 67.66453504476128, 41.739288633578994, 69.568283948515486, 52.505533792293001, 89.026315011880627, 64.627262834277062, 71.066303131604855, 79.782252930651651, 84.165359782565218, 69.831966994977606, 64.407301305882541, 83.835409195382709, 79.636858722641463, 85.118592471836976, 81.363545895011129, 89.549543435467712, 42.683468529247214, 61.408175545977251, 86.869163017825997, 76.920076520465059], [64.323876077049221, 50.168514247693331, 69.948856335727783, 60.95310847805144, 62.037441918778022, 45.633325002195136, 56.68600272722901, 63.308671741657051, 76.823153253730865, 49.824919168564939, 44.053753305506291, 54.506165179734232, 61.855611231384714, 50.559707999615398, 61.567980600488561, 78.432805167751141, 55.727192270042778, 58.83230117071264, 57.114802205319478, 47.292338191509536, 46.642822975102277, 62.526528166699613, 47.209857043585188, 46.500109652908542, 77.072125319080484, 72.467004275910099, 51.577594739166621, 74.317741778425955, 56.438349258226395, 66.854340543915399, 58.446362859461367], [85.284686433338635, 67.646916453309998, 75.133977374297814, 49.989225823588491, 50.352092617616847, 64.319142622352516, 64.934985976610037, 79.157479865629, 63.593865777046908, 42.723779833421823, 73.612223224182202, 41.225513682829565, 75.31486397666599, 53.545032911343625, 73.602344372853523, 62.41389502391398, 65.109552065052014, 57.549121773185362, 59.24502050515715, 68.267046609760456, 61.1379156524279, 69.910041191245668, 66.56722650551518, 63.950785675550925, 76.826278827606941, 70.6310635453613, 78.90496421850456, 63.920640552161579, 73.161187346675888, 76.431830113652524, 56.215418896763403, 43.736164340092948, 52.185961242224643, 63.144593205062506, 71.597604303349087, 79.383253708435575, 77.520045628084162, 66.310388534076992, 63.559555591828818, 74.29795747613997, 68.664400137879966, 47.658187311177954, 43.460893445628855, 58.094285116340849, 77.30968466519937, 74.004566397063371, 76.991017006202171], [59.710830256266775, 61.131314602809169, 46.870806706766871, 73.901311858215081, 54.31343668060633, 73.844519591359472, 61.178246696569381, 56.765624142221519, 48.754089749812259, 74.741077162501426, 67.17865877845685, 80.009224104335914, 61.71045538033659, 65.482052886538469, 57.423522962270866, 82.451727383021904, 46.698920287125631, 59.093792702171967, 44.776610414624486, 49.690849109477689, 58.848185391472917, 84.557756118998157, 79.288413491596785, 44.18174538991385, 81.935873068769808, 45.04675930445152, 75.663045179815811, 45.424367962332276, 59.719420142219313, 85.595336038376587, 64.197119965499255, 69.404806093675404, 46.826071112939459, 63.406420771849213, 49.850961154491628, 77.787707620787003, 46.264256446435375, 65.581529651107203, 62.186046275277498, 78.810546075425492, 51.8947527778178, 48.661469599676593, 50.327139174577994, 75.890275452563742, 47.032004672534242, 60.939448152820006, 60.898184184558389, 79.625323158167362, 63.09623173921949, 55.065634749017221, 78.961308587764364, 66.647373692543226], [61.445672984680776, 61.154262312477805, 49.601629817122252, 70.789938013300983, 54.214167965932432, 76.688691613196255, 74.722932021285999, 44.748446766961905, 66.583855551631657, 70.123092938864588, 40.69078683425991, 75.775528896453949, 45.471852199084474, 64.284701020454875, 69.712656603030439, 76.290882391510294, 62.549183249066253, 74.119276716770969, 46.932963125432693, 71.913773582591716, 80.357113798483908, 86.744296416076935, 74.027182569252091, 61.302984221793942, 59.855666130444249, 84.472055361523246, 53.649440728938139, 72.799359618876665, 53.634215094963658, 62.431322163660042, 58.992668430365292, 50.419901084601094, 70.559900558233736, 57.159726450815498, 85.211252001826054, 56.241979911631248, 75.611599082283604, 78.319494882588998, 72.231479556596582, 60.690512369338101, 52.078461280085108, 52.425798692972336, 80.780355948177615, 47.770952992401575, 53.419615487474118, 84.328271273378746, 68.68164092862834, 52.66002646755279, 43.605158565556223], [76.039881185429351, 47.388788302197476, 52.687442402318439, 45.103913559394243, 42.679932761234696, 84.89286105817034, 52.099038884513128, 54.994793131671784, 54.638867903574472, 74.65257843667473, 79.830240757458157, 67.996375080959908, 57.47426701701486, 62.780537073496781, 64.331936407208886, 66.491797981881746, 65.705660063732964, 58.226353984173372, 57.830434562521461, 58.806962733175851, 45.089724847333379, 71.894993506661862, 70.135542393306281, 74.432303586000202, 56.006095761375128, 70.67423825063463, 58.917619086588566, 43.159767421229951, 53.640483964015651, 48.733866797069183, 47.943801925042592, 53.780722051775832, 77.08232167317118, 77.068690064315007, 53.397124346293815, 76.934165091065609, 45.486573325833234, 53.70279984145985, 70.524485325463488, 78.325161345945389, 43.459593560658568, 57.510616257319811, 71.502896005949097, 70.641560728701478, 66.121436212262878, 59.76549905255154, 84.00131392458033], [48.744743385675669, 68.331960679346622, 61.308626108180263, 72.910920549768974, 84.323939954857181, 64.332680057806741, 90.11216716654053, 81.892398354656464, 79.055561304561422, 80.845473156116725, 81.682320651870128, 63.312774331379451, 59.903568508640646, 76.347891452620217, 76.63374666177431, 58.674677375766962, 76.716048861036214, 86.636092420637127, 85.452464898330788, 75.625852395725147, 48.584265018801418, 49.848220851510469, 77.008109411067338, 56.954792200216389, 68.701822827892272, 57.948318657525157, 55.428866111461737, 62.099446649888222, 67.585055409261955, 71.312390605583033, 64.699998922546101, 52.74920986402514, 76.425841007728295, 89.425643703689076, 46.675008040442194, 67.587799829647068, 77.233817185957804, 62.718516622829, 66.673228392808568, 75.944122544748367, 71.613148436721602, 47.695582643560087, 77.180738907356343, 75.060541103336448, 60.541883706658496, 85.849299254965246, 82.375511465458203, 47.414059065719101, 61.761022214125973, 74.758259667330407, 71.059410561905651, 91.725213340666272, 82.061549876038782, 75.892579115519268, 76.696112988671331], [71.245898502649737, 80.908788784359572, 82.368262461068582, 54.756413352454217, 47.848194893428392, 85.935198186520552, 76.612484725637273, 62.133639115408499, 67.642315932982584, 59.142777901698416, 73.078234785002252, 73.339102960238449, 72.953620164838583, 50.666406542114629, 80.452244979563474, 63.876115229994376, 54.607734480282566, 86.590148211317086, 59.075830928139773, 82.239747189430375, 58.131176252890612, 66.604064895008037, 66.040423172747992, 81.659594475155231, 72.968224115977563, 59.506620839065128, 47.818221476913742, 62.305749802280694, 75.880122816281883, 76.507516366964566, 91.22193311420898, 55.692110353842963, 90.805774316783129, 50.86489091934483, 67.245482125088657, 51.305167274503169, 50.355012924114817, 70.089758495850575, 69.212670742492875, 69.741921139759071, 59.361415943197706, 74.921806445647817, 82.061627781738252, 79.212585513539068, 54.899794778261011, 59.900006376573067, 73.980482573167549, 64.357778998876086, 69.654120509851111, 68.946639783081309, 71.777925824661111, 76.632116603373547, 81.159450127934818, 58.491716114306023, 61.678964143740558], [55.164708712484426, 80.927089493554348, 86.959117410433777, 74.976243490949571, 66.141185394741981, 79.266881482044411, 71.958592595023134, 59.835522712786805, 69.167846435109084, 63.337276239603291, 73.799935939385549, 62.893143820002791, 55.518719598241887, 44.744198232681946, 64.404057328557968, 77.637939688440895, 63.822287159787507, 60.154290214688423, 51.802273006724754, 87.013440983445449, 80.663400326902718, 73.741906860053746, 76.495522846427988, 75.871279101181486, 55.0850629821092, 84.717963887921158, 45.323734081166364, 71.16407180711694, 74.640992859196771, 66.726904113545928, 86.107637923289587, 82.312093107866161, 65.226326057791439, 61.357035629572387, 55.586215003305995, 70.396673281210397, 59.010701978886729, 42.601110179495954, 67.63247695881202, 86.654184721548276, 61.603918069199217, 79.038110958156679, 69.424421043499109, 54.022090017284299, 70.178697824752007, 66.733908764688024, 78.925135421998789, 70.053177817020369, 93.046197656323173, 47.103093545250502, 89.432192056430381, 70.326422775141467, 63.482651569349571, 64.090778539890749, 49.210854346609572], [86.462229830109123, 46.751792609361125, 63.554231528279267, 44.814394606649373, 70.478873513603602, 80.97383972786173, 78.571594240307135, 66.160775041483433, 44.918515899223706, 86.444339666795528, 71.574926805702319, 63.452121437740225, 55.379178837984163, 55.774272832693313, 54.545037102284169, 81.752541990450084, 93.238184515079482, 53.196283867508221, 70.817086569820475, 51.504970925345859, 62.084574996742603, 52.378115739279949, 65.063491780464105, 85.953655564803512, 49.075443037845886, 51.328453247360251, 48.020743189512004, 65.849652261925257, 75.443443965084967, 68.572754852728892, 60.668761072564124, 65.042832792823404, 63.302507883201983, 83.159350489065616, 46.324058800187743, 45.72795473083918, 63.433603668424091, 76.949318945158822, 64.219898065045243, 57.934243589613374, 57.171602582583262, 50.261154733522538, 76.58838079231495, 64.374790732609171, 65.032488427070007, 60.649963840814671, 82.53167900584188], [79.868332546869411, 42.943206865748621, 47.085572085599757, 69.403827633221212, 84.582732857935994, 74.646733553046502, 82.049019449692182, 59.134328597867281, 82.88730395018446, 65.665385574219854, 51.585727327762662, 56.309026418448816, 61.25659266488087, 67.471325634260467, 75.975829946406776, 60.927497601318024, 81.554326982953725, 35.169747666432066, 68.421597337036587, 78.280361341291353, 46.936459947492281, 73.19641236077355, 80.240135751289728, 89.249761826309651, 74.019851729370316, 66.381227186770857, 85.360148271486324, 81.553783246574909, 79.033849942986791, 53.707554702177219, 74.453798055555936, 61.075307916837964, 57.043237454858279, 89.879337356913084, 76.26386978294957, 88.462879023896093, 56.244264249888964, 58.673039497660504, 64.069631567422476, 77.353048986628195, 71.192970414311404, 71.603513049083588, 75.526366088221025, 59.457329844571994, 83.08877106083591, 74.381771060222476]], 'level': array([ 0.11955587,  0.        ,  0.        ,  0.        ,  0.        ,\n",
      "        0.        ,  0.        ,  0.        ,  0.        ,  0.        ,\n",
      "        0.        ,  0.        ,  0.        ,  0.        ,  0.        ,\n",
      "        0.        ,  0.        ,  0.        ,  0.        ,  0.        ,\n",
      "        0.        ,  0.        ,  0.        ,  0.        ,  0.        ,\n",
      "        0.17897019,  0.        ,  0.        ,  0.        ,  0.39914619,\n",
      "        0.        ,  0.        ,  0.        ,  0.18240564,  0.        ,\n",
      "        0.        ,  0.        ,  0.25641044,  0.        ,  0.        ,\n",
      "        0.        ,  0.        ,  0.        ,  0.        ,  0.        ,\n",
      "        0.        ,  0.        ,  0.        ,  0.        ,  0.        ,\n",
      "        0.        ,  0.        ,  0.        ,  0.        ,  0.        ,\n",
      "        0.        ,  0.        ,  0.16946208,  0.        ,  0.        ,\n",
      "        0.        ,  0.        ,  0.        ,  0.        ,  0.        ,\n",
      "        0.        ,  0.        ,  0.        ,  0.        ,  0.        ,\n",
      "        0.        ,  0.27699178,  0.        ,  0.        ,  0.        ,\n",
      "        0.        ,  0.        ,  0.        ,  0.        ,  0.        ,\n",
      "        0.03566869,  0.        ,  0.        ,  0.        ,  0.        ,\n",
      "        0.09892658,  0.        ,  0.        ,  0.20774626,  0.        ,\n",
      "        0.        ,  0.        ,  0.        ,  0.        ,  0.        ,\n",
      "        0.        ,  0.        ,  0.        ,  0.        ,  0.        ]), 'credits': u'\\n\\t\\t\\t3 Credits\\n\\t\\t', 'num': u'425', 'stu_taken': [[425, 430, 735, 919, 1716, 1814, 1961, 2271, 2825, 3301, 3531, 3578, 3879, 4159, 4942, 4982, 5201, 5461, 5462, 5492, 6072, 6378, 6430, 6898, 7401, 7508, 7750, 7944, 8034, 8797, 9102, 9373, 9763, 10168, 10288, 10475, 10514, 10647, 11014, 11471, 12103, 12238, 12394, 13644, 13666, 13812, 13852, 13985, 14108, 14525, 14525, 14655, 14950, 15081, 15253, 15649, 16484, 17211, 17327, 17968, 18213, 18497, 18558, 18618, 18720, 19215, 19234, 19318, 19471, 20125, 20139, 20159, 20185, 20912, 21418, 21516, 22554, 22819, 22996, 23190, 23192, 23388, 24056, 24271, 24575, 24795, 24809, 24892, 25014, 25213, 25554, 26194, 26468, 26751, 27347, 27509, 27629, 27988, 28101, 28713, 29021, 29614, 29774, 30250, 30703, 30709, 30767, 31386, 31455, 31507, 31541, 31687, 31768, 31998, 32060, 32208, 32418, 33021, 33154, 33762, 33841, 34040, 34203, 34427, 34558, 34686, 34877, 35205, 35266, 35578, 35759, 35917, 36412, 36826, 37048, 37080, 37119, 37233, 37394, 37686, 37713, 37752, 38549, 38702, 39215, 39216, 39217, 39463, 39794, 39803, 40031, 40258, 40776, 40829, 40976, 41090, 41326, 41547, 41679, 41701, 41703, 41785, 42854, 43099, 43680, 43850, 43888, 44658, 44696, 45213, 45541, 45619, 45636, 46341, 46418, 46440, 46826, 46901, 47314, 47517, 47691, 47941, 48701, 49012, 49535, 49558, 49699, 49853, 49893], [207, 337, 3814, 6339, 6387, 6423, 7166, 7806, 7912, 11208, 11620, 12128, 13412, 14430, 16122, 16248, 17378, 18524, 18564, 20955, 21091, 22073, 22490, 22530, 23535, 25713, 29797, 31532, 31889, 32322, 32451, 32833, 33011, 34192, 34531, 34787, 34827, 34910, 34939, 36501, 36521, 38005, 38026, 38314, 38844, 39586, 40888, 41620, 42009, 42036, 42475, 43000, 44952, 45022, 46044, 46417], [410, 3276, 5303, 7593, 8059, 8461, 9628, 11729, 12584, 15019, 15626, 18097, 19828, 23941, 24651, 25966, 26951, 27731, 28030, 29132, 29878, 32506, 35671, 37769, 40583, 40585, 41693, 45043, 47368, 48726, 49091], [612, 1264, 2590, 5133, 5856, 6894, 7559, 7563, 7568, 10173, 11848, 12218, 12844, 13209, 14235, 16380, 16713, 16861, 17152, 21640, 22675, 23187, 24360, 25631, 29888, 29976, 30602, 31225, 32250, 33319, 34424, 34772, 36840, 37229, 38220, 39441, 39598, 40837, 41168, 41552, 41646, 41661, 43520, 45766, 46223, 47310, 48694], [151, 312, 1145, 1543, 2436, 2529, 5903, 6222, 7751, 9274, 10117, 10232, 10579, 10757, 11859, 12074, 14398, 14796, 16720, 17657, 20221, 21301, 22912, 23557, 23735, 29165, 29333, 29778, 29863, 29903, 32162, 34054, 34344, 35210, 35693, 36439, 38139, 38395, 38663, 38789, 39811, 41932, 41958, 42065, 42594, 43688, 45192, 45644, 45774, 47136, 47716, 49927], [356, 966, 1101, 1902, 2796, 3606, 4429, 5200, 5430, 7305, 8029, 8381, 8545, 9233, 9940, 10573, 10625, 11746, 12054, 12196, 13954, 15699, 18523, 19146, 20894, 28567, 32094, 32311, 32898, 33446, 34643, 34709, 35555, 35630, 36383, 37019, 37872, 38909, 39792, 40129, 40392, 40841, 43402, 44545, 46536, 48275, 48450, 49033, 49394], [290, 691, 925, 1689, 2211, 3413, 5485, 5609, 6289, 8026, 8456, 9503, 9799, 10820, 11152, 11880, 12556, 13670, 14103, 14890, 17142, 21125, 22263, 22812, 25335, 28066, 29120, 29520, 29581, 30209, 30482, 31272, 32559, 33045, 34851, 36511, 36796, 39363, 40055, 40600, 41334, 42491, 42774, 48246, 48427, 49279, 49744], [380, 1651, 1854, 2756, 3557, 6814, 8386, 8713, 10942, 11723, 12245, 12275, 12746, 13585, 15888, 16367, 17435, 17887, 18190, 19121, 19377, 21850, 22193, 22384, 23064, 23562, 23626, 25751, 26375, 26490, 26703, 27396, 27794, 28248, 29880, 29933, 30824, 34009, 34704, 36154, 36607, 36824, 37835, 37930, 38059, 38502, 39495, 39557, 43392, 43841, 45149, 45472, 46021, 48209, 49778], [723, 1023, 1579, 3641, 3807, 4432, 5072, 6689, 9211, 9298, 10380, 11475, 11482, 11929, 13927, 14137, 14750, 15615, 15842, 16611, 17073, 18652, 19871, 21235, 21961, 23718, 24086, 24579, 26157, 27314, 29587, 33097, 33167, 33506, 34125, 36277, 36450, 36874, 37401, 37488, 37836, 38750, 39698, 40625, 41217, 41258, 43274, 44716, 46396, 46921, 47289, 48093, 48162, 48455, 49434], [176, 1974, 3191, 4464, 4957, 5668, 5813, 6028, 6720, 7227, 8511, 9353, 10521, 11412, 11602, 11638, 11733, 11759, 12096, 12229, 12376, 12911, 14175, 14213, 15558, 16136, 16247, 16369, 17579, 19205, 19918, 20415, 20542, 23316, 24704, 25532, 26247, 29509, 31389, 31467, 32820, 34506, 34747, 35649, 41194, 41750, 42210, 42523, 43939, 44863, 46957, 47011, 47081, 47328, 49648], [913, 1494, 2440, 2709, 2918, 3316, 4297, 4797, 5058, 5516, 6648, 6755, 7098, 8006, 9738, 13075, 13826, 14405, 15298, 15323, 15412, 16246, 16296, 17655, 20452, 23955, 26566, 27093, 27462, 27599, 28718, 28808, 32420, 33292, 36816, 37385, 38085, 38419, 39353, 39668, 40661, 40860, 41566, 44268, 44513, 45896, 49132], [453, 1315, 4093, 4857, 5612, 6974, 10880, 13280, 13327, 14647, 16000, 16336, 17236, 17881, 19241, 19923, 20258, 21713, 22649, 22825, 22970, 23803, 24488, 26618, 29160, 29441, 29623, 30212, 32035, 32502, 33641, 34159, 34522, 34844, 38092, 38368, 39097, 39197, 40965, 41538, 42118, 42222, 42244, 44654, 48339, 49037]], 'prerequisite': u'\\nPrerequisite: KOR\\xa0120; KOR\\xa0121; ASIA\\xa0100; ASIA\\xa0102; ASIA 83; ASIA 4; CMLIT 4; 5th Semester standing\\t\\t\\t\\n', 'sub': u'Korean (KOR)'}, u'KOR099': {'prereq_courses': [], 'ordinal': [['B', 'D', 'D', 'D', 'D', 'C+', 'F', 'B+', 'C', 'C', 'C+', 'F', 'D', 'C', 'C', 'F', 'C+', 'F', 'D', 'F', 'C+', 'F', 'B-', 'F', 'B-', 'C', 'B-', 'A-', 'D', 'B+', 'B+', 'F', 'F', 'B', 'B', 'F', 'C+', 'F', 'B-', 'C+', 'B+', 'F', 'D', 'F', 'F', 'B-', 'A-', 'C+', 'B-', 'F', 'C', 'C+', 'D', 'B+', 'D', 'F', 'F', 'C', 'F', 'C', 'F', 'F', 'F', 'D', 'F', 'A-', 'F', 'F', 'F', 'F', 'C+', 'D'], ['C', 'C+', 'B-', 'B+', 'B-', 'A-', 'D', 'B-', 'C+', 'C+', 'A-', 'D', 'A-', 'C', 'B+', 'D', 'A-', 'A-', 'B', 'C+', 'A', 'C+', 'D', 'A-', 'B', 'B+', 'C', 'B-', 'C+', 'A-', 'B', 'C', 'C+', 'A', 'C', 'B', 'B+', 'C', 'B+', 'B+', 'C+', 'C+', 'D', 'B', 'A-', 'A-', 'A', 'D', 'B', 'B+', 'A-', 'A-', 'B', 'D', 'A', 'B', 'B', 'B', 'A', 'A', 'B', 'C', 'B+', 'A-', 'B-', 'B', 'A', 'C', 'A-', 'A', 'C+', 'F', 'B+', 'A-', 'C', 'D', 'B', 'A', 'B+', 'A-', 'C+', 'B', 'A-', 'B', 'B+', 'C', 'A-', 'A', 'A-', 'B', 'D', 'B+', 'C+', 'B+', 'C', 'A', 'A-', 'D', 'B+', 'B+', 'D', 'B', 'A', 'B-', 'A', 'D', 'A-', 'B', 'B', 'D', 'C', 'C', 'A', 'B', 'B', 'A', 'B+', 'B', 'B', 'B+', 'B', 'A', 'C+', 'B+', 'B+'], ['D', 'B+', 'C+', 'C', 'F', 'A', 'B', 'B', 'C+', 'B', 'B', 'B'], ['B+', 'B', 'A-', 'B-', 'F', 'B-', 'B-', 'D', 'D', 'B-', 'B-', 'D'], ['B+', 'B', 'D', 'F', 'C', 'D', 'F', 'F', 'D', 'F', 'C+', 'C+', 'C', 'B+'], ['D', 'B+', 'F', 'C+', 'A', 'C+', 'F', 'D', 'B', 'C+', 'F', 'D', 'B', 'B', 'A-', 'A-'], ['D', 'C', 'B', 'B-', 'B', 'B+', 'C+', 'D', 'B-', 'A-', 'F', 'B-', 'B', 'B', 'A', 'D', 'D', 'B-', 'D', 'C', 'D', 'C+', 'A-', 'D', 'A-', 'F', 'A-', 'C', 'D', 'B-', 'A-', 'A-', 'D', 'D', 'C+', 'B+', 'B-', 'D', 'A'], ['B+', 'C+', 'D', 'D', 'D', 'D', 'C+', 'B-', 'A', 'D', 'B-', 'B+', 'D', 'D', 'D', 'F', 'F', 'F', 'C', 'D', 'C+', 'C+', 'B+', 'A-', 'B', 'B', 'B-', 'C', 'B', 'A-', 'C+', 'D', 'C', 'C+', 'D', 'B+', 'D', 'B-', 'B+', 'C', 'B-', 'D', 'B', 'A-', 'A', 'D', 'C+', 'D'], ['B+', 'B', 'B-', 'A', 'D', 'A-', 'C+', 'B-', 'B', 'A', 'D', 'A', 'B', 'B', 'B-', 'A', 'C+', 'C+', 'B+', 'B-', 'C+', 'C+', 'C+', 'C+', 'C', 'C', 'A-', 'B', 'F', 'B+', 'F', 'D', 'D', 'B+', 'D', 'D', 'D', 'A', 'A', 'A', 'B', 'C+', 'C+', 'D', 'C', 'B', 'A', 'A-', 'B-', 'B-', 'F', 'A', 'C', 'F', 'B-'], ['D', 'B-', 'C', 'F', 'B', 'C+', 'B-', 'A', 'C+', 'D', 'C+', 'C+', 'D', 'A', 'C+', 'C+', 'F', 'F', 'A-', 'B-', 'C', 'B+', 'A', 'D', 'B', 'C', 'B+', 'B-', 'D', 'A-', 'B+', 'C+', 'B-', 'F', 'F', 'B', 'B-', 'C', 'B+', 'D', 'D', 'C', 'A-', 'A', 'B-', 'F', 'D', 'D', 'B', 'B+', 'A', 'C', 'C+', 'D', 'B-', 'C', 'C', 'B+', 'D', 'C+', 'A', 'D', 'A', 'C+', 'D', 'D', 'A', 'B', 'B-', 'B+', 'B+', 'B-', 'B', 'D', 'D', 'C+', 'B+', 'F', 'D'], ['D', 'B+', 'B+', 'B', 'D', 'A', 'B-', 'A-', 'F', 'A-', 'B', 'B-', 'D', 'B', 'B+', 'D', 'B+', 'A-', 'C+', 'C+', 'D', 'B-', 'A', 'A-', 'C+', 'A', 'C+', 'C+', 'D', 'B+', 'C+', 'D', 'B', 'A-', 'A', 'F', 'F', 'F', 'C', 'B-', 'D', 'C+', 'C', 'D', 'D', 'B-', 'B+', 'B', 'D', 'C', 'C+', 'A-', 'A-', 'A-', 'B+', 'F', 'C', 'B-', 'C', 'C+', 'C', 'A', 'B+', 'B-', 'B', 'D', 'B+', 'B-', 'A', 'F', 'D'], ['A-', 'A', 'B-', 'C', 'B', 'D', 'C+', 'C', 'C', 'A-', 'A-', 'B', 'B-', 'D', 'D', 'B-', 'B+', 'A-', 'A-', 'C', 'B+', 'A-', 'A-', 'B', 'B+', 'C', 'D', 'A', 'F', 'D', 'C', 'B-', 'A', 'B-', 'D', 'A-', 'A', 'A-', 'D', 'B', 'C+', 'D', 'C+', 'C', 'D', 'A', 'D', 'D', 'A-', 'A-', 'B+', 'C', 'C', 'F', 'A-', 'B-', 'C', 'A-', 'A', 'A-', 'A-', 'C+', 'D', 'B-', 'B-', 'B-', 'B-', 'C+', 'C+', 'D', 'B+', 'C+', 'B-', 'C+', 'D', 'D', 'C+', 'B-', 'B', 'F', 'B+', 'C+', 'A-', 'B+', 'B-', 'D', 'D', 'B+', 'B+', 'B-', 'C', 'C']], 'major': u'KOR', 'description': u'\\n\\t\\t\\t\\tCourses offered in foreign countries by individual or group instruction.\\n\\t\\t\\t', 'title': u'KOR 99: Foreign Studies', 'grade': [[65.503657976556582, 39.193138308401743, 38.294268646072979, 43.758793588382545, 46.131640985880907, 56.619336815486953, 34.009620455717219, 67.911689641738008, 52.520251263768301, 51.460020630712989, 54.641048475758524, 33.949536281327809, 44.910650648661765, 51.264840770548979, 47.743799529403837, 30.354791896794829, 54.224835706914419, 31.008266320912842, 38.393086142552029, 34.692615551833647, 57.178176650020809, 28.182211030128162, 57.352420703774051, 31.139279371252254, 58.911113052774624, 48.731062698944484, 58.955542380697068, 72.850295372900604, 38.149771211579626, 66.588328029678792, 65.615172321392635, 36.70770442314226, 34.155604425185508, 61.496865142363887, 65.484066479475842, 26.979349899699862, 55.257376336623075, 30.535110220788802, 58.308864516367763, 55.071142581660226, 68.308738262743631, 33.504621994033791, 42.334905033741329, 31.317312826748367, 32.522213519549773, 60.41815730118487, 71.977790026612169, 53.238229929354397, 57.43305406010554, 35.457050878431069, 50.009116199025804, 56.674964614132726, 45.997955150001758, 66.405175910700891, 39.027418847010011, 26.628527506893196, 26.847999893979786, 51.763645784673685, 36.600051728995176, 50.145024278601312, 25.84846157785703, 31.094535077166345, 32.065513239915319, 42.091023087667672, 30.595822185635157, 73.066949789633711, 34.736118540146549, 35.573539782646804, 33.165234637381111, 33.381380739364218, 54.896637617959797, 38.902428932846171], [49.510148619981379, 55.77960066963756, 59.514800990345996, 70.038342785178486, 58.762835950153622, 73.771031520257452, 45.828510538748155, 57.188223476656141, 53.202347879245139, 52.614220955785854, 73.491132164108549, 42.582474029140883, 73.755168831827348, 47.829913839636006, 66.447437560269648, 41.535646017753628, 71.587263931087236, 74.280226921419384, 63.947398175954561, 56.796535123805747, 84.711912687195138, 54.385668456134916, 45.122462726784256, 74.371157502838543, 62.515236491991502, 66.428298327994654, 51.181385360050925, 61.128041907192319, 54.183715557420221, 75.095484952835193, 64.568484255721032, 48.727640525651381, 54.20098128021511, 80.62857545602759, 51.350613844966389, 65.182601398828893, 68.954787993996547, 49.951584115035693, 70.094237287861972, 67.973854788492602, 54.297177117375561, 52.679081821792096, 42.042311200923315, 62.495132990550353, 74.102918980363825, 74.028737025031006, 76.001753833707824, 37.856758468218437, 64.888322025311865, 68.933232010654763, 71.915462752134346, 73.396236459214023, 61.633080268400086, 44.530366969337088, 75.711318965136826, 64.011990951126336, 62.18154796745408, 64.506550790197252, 75.545058515440871, 78.062306396285081, 62.528137819112359, 49.10482679514547, 68.46996148623596, 73.680613129474807, 59.00720198848299, 64.93791140932656, 80.401385089431528, 48.95451728209472, 73.795226770013329, 79.825276372798115, 55.069216671202824, 34.959013099750855, 70.801709401797325, 71.970024138180506, 50.216158573510526, 42.139339798302061, 63.999514923135351, 85.687749216376432, 65.630299245663778, 75.223663639627887, 54.045218475778313, 63.447949208689536, 71.716696140117904, 63.305610555288453, 69.648827829978714, 47.115383608745844, 71.595060818873023, 82.490721939347893, 71.329766978782843, 64.363736268127923, 39.849087820840005, 68.457062036438941, 55.93320104777829, 68.875765693835106, 47.075976830565466, 79.143425400581052, 72.167720397637865, 45.776801596616998, 67.472344582017413, 70.680283153711173, 40.11666742063391, 61.855073440755582, 78.472900524378915, 58.861057698939746, 77.722847589423466, 37.916763611367543, 73.355728187834671, 65.283312903163292, 64.875107110223453, 44.151943348677904, 48.347508442968454, 49.636848215034533, 79.844680911472452, 65.363990880028396, 65.393858387221542, 83.494137115157216, 65.805911052492192, 64.045110965981749, 63.830216318365409, 70.228719349199181, 63.080330794472836, 75.47416238002512, 56.279974432628407, 66.274695112045663, 69.877779226377527], [45.302214967817591, 66.813705330418443, 53.882932312733701, 48.507840317945607, 37.160467226954893, 79.215731994283544, 63.027243603544477, 65.023415017595582, 56.264439004147029, 65.211536593599931, 63.742998373351853, 64.344726688860149], [65.995457564449907, 64.249863097473437, 72.848820252209961, 58.405186309163795, 29.02988843570181, 60.486766216576285, 59.871909609408391, 46.095970594395432, 43.788498480389322, 57.763148115179838, 59.499075080714114, 44.223284788015974], [67.84490342814307, 62.17541346794939, 45.363060558282555, 33.988390196799116, 48.379475795339971, 40.47125221030042, 31.315869169866385, 35.431867049143669, 40.607233159132925, 36.247782656932905, 52.815814201810774, 54.911846684949758, 48.30285091666871, 67.656971729105152], [40.113190042185934, 66.040273281747304, 36.813892949950954, 56.885641670718243, 76.621537919768343, 52.768594992991368, 30.596437473277089, 38.416692249487092, 62.763787963626029, 54.962762318624534, 30.431654726761032, 38.938618377443234, 62.417204423804797, 63.095704069073619, 72.711606183171625, 74.563656244769803], [37.495362508024115, 51.60625182522346, 63.473049699086502, 60.134680149778461, 61.694546182581334, 70.215170074049681, 55.588102014614428, 44.027139404546169, 60.160881570347925, 71.769786812417209, 34.897593026441612, 57.910110117111159, 62.115703535102121, 62.213971249828283, 79.320848884669545, 41.434445248123858, 38.152714672762208, 57.687919642988497, 40.28266030193123, 52.266014528875971, 45.655765028442474, 54.876631462229817, 72.031138714587215, 43.469373695005842, 75.239918915496645, 36.345430497632321, 72.443945327139133, 47.505093074390089, 44.073440565439107, 59.154295846875158, 74.983208612257414, 73.551024378824167, 42.875532207147408, 39.493135466961995, 56.240432506195873, 69.314622975932167, 60.29694263175265, 43.362631624405473, 77.863206221985521], [68.528514041516445, 53.880977899599905, 46.720813043208338, 44.783538958546146, 38.692212677044282, 45.823390464456445, 53.034664520883204, 57.400380557122411, 85.334623985168562, 43.041652542178063, 59.104825383983929, 68.594575519395931, 39.89547705966163, 38.07408407346982, 41.144003289293899, 35.07678768530603, 28.03790853028071, 35.330659792192201, 49.127608296343595, 40.646283407635984, 54.371724465227146, 54.49231199989881, 69.729258536828326, 74.95859037782941, 64.504287972885962, 62.919303683262115, 57.342295278511102, 52.492430629817491, 62.904990868834822, 71.021693205656589, 54.214251117516014, 43.179078575525388, 52.378028228805775, 53.163206603549007, 44.82022273968866, 68.170212654061757, 37.779645841360143, 61.391767572407971, 67.835488289733448, 47.047120478568793, 57.512732680569364, 46.685236011813629, 64.713958302320279, 74.336967922559651, 79.928852586515447, 42.300588844273648, 53.430206769897367, 43.279271413243556], [67.124964447806718, 63.952496497725534, 60.380532879865626, 78.463648272958395, 40.90699426508916, 74.984703006154575, 55.35439668554767, 60.460130370588296, 65.37228988018154, 77.004496860055156, 45.48557221275157, 80.303139576320476, 65.185710387293042, 62.61756119675573, 57.301342506842879, 75.972746127119535, 54.281460897578981, 53.965671085087763, 67.260121989226633, 59.906625813659865, 54.835288079088343, 56.413055175466894, 53.215993219984405, 55.969505400526955, 49.008593916738704, 52.532133522806291, 72.668408667799739, 65.2068588680754, 30.142228982260193, 68.824869535815779, 26.750506345679099, 41.24522812031632, 40.639226782339492, 70.720493138990491, 39.746754780744588, 42.75833970611118, 43.265170140958695, 78.618252783535468, 86.518303757051498, 78.01336868488265, 62.281367357251426, 56.260748181075279, 54.277075156033682, 46.935042935074129, 51.768269325785077, 62.638144939152362, 79.721211317846951, 72.682989626291572, 58.610729797264369, 59.671651746212518, 37.265594596697596, 76.569323880372039, 47.242401330548887, 36.586382891985281, 59.285361372819033], [43.510233913720292, 60.710072707279672, 49.609492975095762, 28.201033120077224, 65.372057569204301, 53.908367202168087, 59.12500917758279, 84.573064087249136, 53.450464527154473, 46.239418153590698, 55.820674278782057, 54.739646496698093, 44.752446343612817, 75.746099221970809, 56.205342286190053, 52.781900683556792, 37.40157698071949, 35.262832109385499, 71.039054101212258, 57.510907030238286, 48.686561967138545, 70.498822661357792, 88.229302563525266, 40.124819237993847, 61.756249186393731, 50.746887583038522, 66.644778803332429, 60.675005059021125, 42.995435682820158, 72.278874469336685, 68.861714987860282, 53.586321827105785, 60.219574563964237, 34.880520984670234, 27.008475377168821, 61.439147472081011, 57.284621228656604, 51.510771191849059, 70.210032879363879, 45.774614529197571, 46.486034109974504, 49.610967701062073, 72.619025187400268, 86.511386846396135, 57.74029499601393, 37.028787844500442, 40.552388683665583, 40.125870020056048, 63.830607227036339, 69.739387796095173, 77.6138616335233, 47.462325218616705, 53.45356855775735, 38.640349581512758, 57.813664349491056, 48.818000034736883, 51.10981685821011, 66.59367821579059, 40.40495766089709, 56.37840153536149, 81.633936541431325, 45.580867105889588, 84.547209487276646, 54.005629385957498, 41.412945359570621, 45.708996798616333, 76.205786780905854, 61.435352591277258, 57.501079821204371, 66.816639026634263, 65.715028217676291, 58.007693648493166, 65.399712978254925, 44.915875937292363, 42.880126399029642, 56.042160054185416, 70.810732263255517, 32.255901648391763, 43.853603484463321], [46.723641425384052, 68.141177554922407, 67.894335188236894, 63.06460437942475, 43.491546506385184, 77.768042644247018, 61.224504689677275, 73.273889830789457, 37.153296703240521, 72.104200701198025, 62.930285734528283, 59.370365233612745, 38.981334374154535, 65.214013877084724, 68.293608704564207, 46.472893448455707, 68.270385605983876, 71.833901948886123, 54.614276166648324, 55.059558977216881, 41.612234614470339, 61.064726405364055, 76.629859726933631, 75.402211252960683, 53.957904851022917, 75.975326707276096, 53.185321482557377, 52.782021414876944, 42.588371303526863, 70.9868969754706, 53.144390820329257, 46.970197493707779, 62.506770464890472, 71.992065668608006, 83.297634976412354, 29.501520365564875, 34.344684104754045, 36.599582406988311, 48.779546491708544, 61.381898420544822, 42.107693443675124, 54.548366445345422, 48.533016941663341, 37.479712676436641, 45.45955181315464, 61.396114098900235, 70.447484883101623, 65.582611489828963, 39.055465905480936, 48.251154847815485, 54.624324768134983, 75.309568984620583, 71.276713576374334, 75.192405124842566, 68.165933045622538, 36.811951495632584, 48.478738778635133, 59.208927811611112, 50.890390598956273, 52.770950732263501, 52.155070649973403, 81.236656515734708, 67.365768494931373, 59.557885911997587, 65.212802372297503, 42.492881115993242, 69.725449947940504, 57.615185756167484, 80.700287087496946, 27.60122601077617, 46.029989972556919], [74.279788896934349, 76.986991625862117, 58.557667193966964, 48.569228298765069, 62.238740100918868, 39.523078459001773, 53.594771545095185, 48.272333987438131, 52.155657925419561, 73.009049302215331, 71.443147742242303, 62.655570497615351, 58.545860523436367, 43.621385931207648, 42.311235733916959, 60.279137300427209, 68.092485709149983, 73.685642528076883, 71.233335154106854, 47.285160327875332, 66.997631938910089, 71.135308613031754, 73.066137494778872, 63.837063839598059, 67.326987157133971, 52.513121370430795, 38.440077748371174, 78.116220660571784, 37.339556861609765, 41.303490718187113, 49.104783714535579, 60.302840562363201, 77.202333646072958, 60.031431928187587, 42.466857708900655, 72.544000878578316, 77.471553393370655, 71.701897484162913, 45.330242405909118, 61.987133272449299, 54.110264593524846, 41.733081708336549, 55.272385656149417, 48.051321432566944, 43.272619379407359, 82.811554094018291, 40.021676496358879, 45.790525826982886, 72.944088461178396, 72.536010744447339, 65.735658003770837, 48.504372598552841, 49.739162230221567, 33.093464841371144, 71.017681831012851, 60.435717667980967, 47.954329157052065, 72.443380215359298, 90.123065787321934, 72.04082623245209, 74.959499826428583, 54.375779894904106, 43.071902830084845, 59.472123658467957, 59.979770592214578, 58.945323804749606, 60.802366837852858, 55.761719724617407, 57.097189078053468, 38.416855601991323, 68.178230460822093, 53.470503299787566, 59.917446658646931, 56.76262802793768, 39.56622343045175, 38.695709982152252, 52.674752788693425, 59.573455129033313, 62.637444392056871, 36.421943007428915, 67.631848673008733, 52.853507014899506, 73.981363127536497, 69.029568535552059, 59.178376660104789, 45.994668314218487, 43.013306864976187, 65.638320479642346, 70.061474334250462, 59.142136895425509, 49.751476109135275, 51.141727307107196]], 'level': array([ 0.29165627,  0.        ,  0.        ,  0.        ,  0.        ,\n",
      "        0.        ,  0.        ,  0.        ,  0.        ,  0.        ,\n",
      "        0.        ,  0.        ,  0.        ,  0.        ,  0.        ,\n",
      "        0.        ,  0.        ,  0.        ,  0.        ,  0.        ,\n",
      "        0.        ,  0.        ,  0.        ,  0.        ,  0.        ,\n",
      "        0.35081623,  0.        ,  0.        ,  0.        ,  0.18375727,\n",
      "        0.        ,  0.        ,  0.        ,  0.20774457,  0.        ,\n",
      "        0.        ,  0.        ,  0.05653725,  0.        ,  0.        ,\n",
      "        0.        ,  0.        ,  0.        ,  0.        ,  0.        ,\n",
      "        0.        ,  0.        ,  0.        ,  0.        ,  0.        ,\n",
      "        0.        ,  0.        ,  0.        ,  0.        ,  0.        ,\n",
      "        0.        ,  0.        ,  0.56352906,  0.        ,  0.        ,\n",
      "        0.        ,  0.        ,  0.        ,  0.        ,  0.        ,\n",
      "        0.        ,  0.        ,  0.        ,  0.        ,  0.        ,\n",
      "        0.        ,  0.22969196,  0.        ,  0.        ,  0.        ,\n",
      "        0.        ,  0.        ,  0.        ,  0.        ,  0.        ,\n",
      "        0.2175033 ,  0.        ,  0.        ,  0.        ,  0.        ,\n",
      "        0.06852764,  0.        ,  0.        ,  0.13994716,  0.        ,\n",
      "        0.        ,  0.        ,  0.        ,  0.        ,  0.        ,\n",
      "        0.        ,  0.        ,  0.        ,  0.        ,  0.        ]), 'credits': u'\\n\\t\\t\\t1-12 Credits/Maximum of 12\\n\\t\\t', 'num': u'99', 'stu_taken': [[207, 425, 1716, 1961, 3879, 4982, 5201, 5461, 6378, 7944, 11014, 11471, 12128, 13644, 13985, 14108, 14950, 15649, 16248, 17211, 17968, 18213, 18618, 19318, 20125, 21418, 21516, 22554, 22819, 22996, 23192, 24795, 24892, 25188, 26468, 26751, 28713, 29021, 29614, 30703, 32322, 32833, 33011, 33841, 34427, 34558, 35205, 35917, 36826, 37119, 37233, 37686, 37752, 38314, 38702, 39794, 39803, 40976, 41326, 41679, 41703, 42854, 43680, 43888, 45636, 47314, 47517, 47691, 47941, 49012, 49558, 49699], [154, 337, 430, 735, 919, 2825, 3301, 3531, 3578, 4159, 5462, 5492, 6339, 6387, 6898, 7166, 7401, 7750, 7912, 8034, 8797, 9102, 9763, 10168, 10288, 10475, 10514, 10647, 11208, 11620, 12103, 12238, 13666, 13812, 13852, 14525, 14655, 15081, 16122, 17327, 17378, 18497, 18524, 18564, 19215, 19234, 19471, 19685, 20139, 20185, 20912, 20955, 22073, 22490, 22530, 23190, 23388, 24271, 24809, 25213, 25554, 25754, 26194, 27347, 27509, 27629, 28101, 29774, 29797, 30709, 30767, 31085, 31455, 31507, 31998, 32060, 32208, 33154, 33762, 34192, 34203, 34531, 34686, 34787, 34877, 34939, 35266, 35578, 35759, 36521, 37080, 37394, 37713, 38026, 38844, 39216, 39463, 40031, 40258, 40776, 40888, 41090, 41547, 41620, 41785, 42009, 42036, 42475, 43099, 44658, 44696, 45043, 45213, 45541, 45619, 46044, 46341, 46417, 46418, 46440, 46901, 48701, 49349, 49535, 49893], [2899, 7508, 11453, 18018, 18697, 18720, 28525, 28863, 30250, 32061, 34040, 44693], [1321, 6048, 7559, 12571, 15970, 17962, 18255, 22102, 22292, 27272, 35990, 41902], [1584, 10256, 10469, 12729, 18064, 20542, 25024, 26457, 39141, 40010, 41928, 43893, 46998, 47561], [9513, 11791, 13289, 14781, 14915, 14964, 16506, 22529, 23562, 28593, 32595, 35715, 42181, 43322, 46386, 46439], [1344, 7266, 8952, 9000, 11479, 11953, 12275, 12494, 13481, 15075, 16931, 21958, 23221, 24340, 25435, 26122, 26202, 27178, 28197, 29389, 30415, 32130, 34084, 35028, 35232, 35642, 37663, 38124, 38408, 39223, 40128, 40244, 41510, 42641, 43305, 43419, 43523, 46332, 49385], [228, 273, 3231, 3506, 5948, 6587, 6670, 8671, 10573, 10730, 10750, 12362, 12615, 12724, 13872, 14088, 15705, 17536, 18709, 19822, 20025, 20347, 20500, 21800, 21986, 23633, 24552, 24969, 25880, 26363, 28323, 31178, 31443, 31533, 31808, 32341, 33073, 33910, 35013, 37089, 38604, 40299, 40300, 40460, 43154, 44750, 45170, 48931], [2820, 5261, 5964, 7022, 7658, 10669, 10878, 11178, 12467, 13022, 13229, 13697, 14113, 15505, 16270, 16672, 17745, 17992, 18457, 19361, 19629, 19827, 20144, 20492, 20522, 20562, 22465, 24171, 27963, 28414, 28625, 28706, 29484, 30166, 30456, 31665, 31966, 32403, 33106, 34134, 34675, 35634, 38087, 38116, 38416, 40427, 41245, 41487, 41567, 41666, 45051, 45969, 47009, 48568, 49070], [1076, 1936, 2774, 2801, 4372, 5062, 5418, 6638, 6932, 8756, 9064, 9551, 10414, 11654, 11693, 12312, 12468, 12525, 13591, 14060, 14502, 15088, 15815, 16793, 17317, 17673, 18097, 18713, 20389, 20761, 20803, 21417, 21484, 21908, 22026, 23928, 24099, 24429, 25066, 25126, 25152, 25208, 25608, 26602, 27312, 27403, 29154, 29314, 30295, 30427, 30798, 31080, 31339, 31766, 32742, 32791, 33114, 33307, 33776, 34104, 35513, 35692, 36872, 37872, 38569, 39406, 41144, 42976, 43087, 43822, 46292, 46773, 47011, 47281, 47520, 48463, 48465, 48723, 49659], [248, 574, 1306, 1580, 3481, 3605, 3855, 3933, 4968, 6129, 6283, 7938, 10204, 10742, 11305, 12047, 13691, 13807, 13946, 14982, 15521, 15712, 16039, 17160, 17957, 19289, 19600, 20451, 20530, 20606, 20908, 22701, 23061, 23228, 23635, 24481, 26485, 26898, 26953, 27358, 29293, 29455, 30039, 30159, 34433, 34684, 34848, 35761, 36474, 36696, 38453, 38490, 39109, 39471, 39535, 40084, 42905, 44094, 44691, 45472, 45725, 45832, 46620, 46783, 47692, 47712, 47754, 47808, 48802, 49213, 49827], [1884, 2277, 2388, 2645, 3045, 3492, 4340, 6265, 6572, 7015, 7290, 7298, 7414, 7723, 8149, 8199, 8262, 9065, 9228, 9585, 9697, 9979, 10276, 10657, 11572, 11886, 12461, 12575, 13608, 13793, 13811, 14905, 15052, 15108, 16440, 16483, 16964, 17006, 17274, 17318, 17884, 17901, 18434, 20724, 21715, 23293, 24031, 24169, 24466, 24476, 25097, 26498, 27097, 27133, 28486, 28856, 29083, 29369, 29976, 30066, 30321, 30527, 32256, 32803, 33265, 34239, 34424, 34529, 35384, 35540, 36619, 36949, 37818, 38236, 38772, 39398, 39926, 40232, 40354, 41078, 42106, 42723, 43182, 45253, 46903, 47227, 47432, 47444, 48033, 48143, 48651, 48830]], 'prerequisite': '', 'sub': u'Korean (KOR)'}, u'KOR494H': {'prereq_courses': [], 'ordinal': [['B', 'F', 'D', 'A-', 'D', 'D', 'C', 'D', 'B', 'F', 'C', 'B', 'F', 'C', 'F', 'B', 'F', 'B-', 'C+', 'B', 'D', 'F', 'D', 'C', 'D', 'F', 'D', 'D', 'B', 'F', 'F', 'C', 'F', 'D', 'C+', 'B+', 'F', 'B+', 'F', 'B', 'D', 'B-', 'D', 'C', 'D', 'D', 'C', 'C+', 'D', 'D', 'A', 'F', 'D', 'D', 'F', 'B-', 'B+', 'C+', 'D', 'F', 'D', 'C+', 'B', 'D', 'B-', 'D', 'D', 'B+', 'B', 'F', 'C', 'D', 'C+', 'C+', 'F', 'B', 'F', 'F', 'D', 'B-', 'C', 'F', 'D', 'B-', 'B-', 'C+', 'F', 'F', 'A-', 'F', 'D', 'C+', 'D', 'B+', 'B-', 'B', 'D', 'B-', 'D', 'A-', 'D', 'D', 'B-'], ['C+', 'C', 'A', 'A', 'A-', 'C+', 'C+', 'A-', 'B', 'C', 'D', 'D', 'A', 'B+', 'D', 'A', 'B', 'A', 'A', 'D', 'A', 'A-', 'D', 'D', 'C', 'A', 'A-', 'B', 'D', 'A-', 'A-', 'B', 'B-', 'B', 'A', 'B+', 'B-', 'C+', 'A', 'B-', 'B+', 'A-', 'D', 'D', 'C+', 'C+', 'B+', 'A', 'C+', 'B', 'C+', 'A', 'B+', 'B', 'C+', 'C+', 'A', 'A-', 'C', 'B+', 'B', 'A', 'D', 'D', 'A-', 'D', 'B', 'A', 'D', 'B', 'A-', 'C+', 'C', 'A', 'A', 'D', 'D', 'A-', 'B+', 'A-', 'F', 'C', 'A', 'A', 'B-', 'B+', 'A', 'C', 'A-', 'B-', 'D', 'C+', 'A', 'B+', 'A', 'A-', 'C+', 'B', 'C', 'A', 'C+', 'B', 'A', 'B-', 'D', 'C', 'C'], ['D', 'D', 'C+', 'B', 'F', 'B+', 'B-', 'C', 'F', 'B+', 'C', 'F', 'D', 'D', 'C+', 'A-', 'D', 'F', 'B', 'B', 'B', 'B+', 'D', 'C', 'B-', 'D'], ['D', 'B-', 'F', 'F', 'B', 'D', 'A-', 'B', 'B', 'C', 'B-', 'F', 'B-', 'A', 'C+', 'C', 'C+', 'F', 'C'], ['B', 'D', 'D', 'F', 'F', 'A-', 'B+', 'D', 'D', 'B-', 'B', 'D', 'D', 'B', 'C', 'B+', 'B+', 'F', 'B-', 'C+', 'C+', 'F', 'F', 'A', 'A', 'B-', 'B-', 'D', 'B+', 'D', 'C+', 'B', 'B-', 'B', 'D'], ['B', 'C+', 'D', 'A', 'F', 'B-', 'C+', 'A-', 'D', 'D', 'D', 'D', 'F', 'A-', 'B-', 'A', 'F', 'B+', 'D', 'D', 'B-', 'A-', 'A', 'A', 'B', 'F', 'A-', 'F', 'F', 'A', 'D', 'D', 'B-', 'C+', 'A', 'B', 'D', 'D'], ['F', 'C+', 'C', 'D', 'B+', 'B+', 'C+', 'A-', 'A-', 'B', 'A-', 'C+', 'F', 'B-', 'C', 'B-', 'B+', 'F', 'B+', 'B-', 'D', 'C+', 'D', 'A', 'C', 'A', 'C+', 'B-', 'B+', 'B', 'D', 'C+', 'B', 'F', 'B+', 'D', 'D', 'C+', 'F', 'C+', 'A-', 'B', 'B', 'C', 'D', 'C', 'D', 'D', 'B-'], ['C', 'A-', 'C+', 'A-', 'B+', 'B-', 'A', 'D', 'C', 'F', 'B+', 'B+', 'B-', 'B', 'B', 'C', 'B', 'B+', 'C', 'D', 'C+', 'F', 'C', 'B-', 'D', 'B+', 'B+', 'A-', 'B+', 'D', 'D', 'B', 'A', 'F', 'B', 'B', 'F', 'F', 'D', 'A', 'C+', 'B-', 'B', 'C+', 'A', 'D', 'D', 'B', 'B-', 'C', 'D', 'D', 'D', 'A-', 'D', 'B', 'A-', 'B-', 'F', 'C', 'A', 'C', 'B+', 'B-', 'D', 'C', 'D', 'B'], ['F', 'B+', 'B+', 'A', 'C', 'B+', 'C+', 'B+', 'B+', 'A-', 'C+', 'B', 'F', 'B-', 'B+', 'B-', 'F', 'F', 'C+', 'A', 'F', 'B-', 'B-', 'A-', 'B-', 'C+', 'A-', 'B', 'C+', 'B-', 'A', 'C', 'C+', 'B-', 'D', 'A', 'D', 'A-', 'B+', 'C', 'D', 'C', 'C+', 'A-', 'C+', 'D', 'D', 'B+', 'A-', 'B+', 'D', 'C+', 'B-', 'B+', 'C+', 'D', 'A'], ['B', 'D', 'F', 'B+', 'B', 'C', 'B-', 'D', 'B-', 'D', 'C+', 'A', 'C', 'C+', 'A', 'A', 'B+', 'C+', 'B', 'A', 'A-', 'A', 'D', 'A', 'B+', 'D', 'B-', 'B+', 'B+', 'F', 'A-', 'D', 'A', 'D', 'B', 'A', 'B', 'B-', 'C+', 'A-', 'D', 'B+', 'B', 'B-', 'B-', 'B-', 'A-', 'B-', 'C', 'C', 'B-', 'D', 'C+', 'C', 'B', 'D', 'A', 'A', 'D', 'C', 'A-', 'A', 'D', 'B+', 'A', 'D', 'B', 'A-', 'D', 'B+', 'B+', 'C', 'D'], ['B-', 'B', 'B+', 'C+', 'D', 'B+', 'D', 'B-', 'C', 'B+', 'D', 'B+', 'D', 'D', 'F', 'B', 'B-', 'D', 'B-', 'C+', 'A-', 'D', 'C+', 'D', 'B+', 'B', 'B-', 'B', 'A-', 'B', 'A-', 'B', 'D', 'B', 'C', 'A', 'C', 'B-', 'B-', 'A-', 'B+', 'B', 'A', 'A-', 'C+', 'A-', 'C+', 'C', 'C+', 'B', 'D', 'B', 'B-', 'B-', 'B+', 'C+', 'D', 'A-', 'B-', 'A', 'C', 'B-', 'C', 'B', 'A', 'B-', 'D', 'A-', 'A-', 'D', 'B+', 'D', 'D', 'A-', 'C', 'C+', 'F'], ['D', 'B-', 'A-', 'A', 'D', 'D', 'A-', 'B', 'B-', 'A', 'A-', 'B', 'D', 'A-', 'B-', 'D', 'D', 'D', 'B-', 'A', 'B-', 'C+', 'A', 'B+', 'D', 'A', 'C', 'B+', 'B+', 'C', 'B+', 'C', 'D', 'F', 'B', 'B+', 'C', 'A-', 'D', 'A-', 'B', 'A', 'D', 'C+', 'D', 'D', 'B+', 'A-', 'C', 'D', 'B-', 'C+', 'A-', 'D', 'D', 'D', 'B+', 'B+', 'C', 'B', 'D', 'B+', 'A', 'D', 'A-', 'A', 'F', 'A-', 'B', 'B+', 'C', 'F', 'B', 'B-', 'B+', 'A-', 'B-', 'B-', 'B', 'C+', 'A-', 'C', 'B+', 'D', 'B+', 'A', 'B', 'A']], 'major': u'KOR', 'description': u'\\n\\t\\t\\t\\tSupervised student activities on research projects identified on an individual or small-group basis.\\n\\t\\t\\t', 'title': u'KOR 494H: Research Project', 'grade': [[47.303616516556495, 17.911100416760732, 29.97721180041496, 57.767177146533122, 27.279569227254758, 29.796839313991786, 36.712224146503438, 25.943979161747155, 50.103394552057345, 20.674488884616068, 36.44538686155088, 51.582742820919748, 23.277822412537809, 36.368293169630505, 25.241727174802541, 48.336981324647994, 23.348507056810099, 45.126884424339565, 41.252398389106446, 47.331649436978211, 30.592021519647066, 23.898228727042124, 28.420621615828363, 34.757413780401066, 26.428025597968091, 19.212937913361191, 26.472412052047094, 32.58027521120129, 48.13718736853901, 22.178505022744847, 23.703947732932534, 37.081089992501504, 19.479135895838645, 26.250737546415493, 42.014265130909166, 52.075530230946462, 19.784194346755342, 52.17152139767024, 23.662426768531596, 49.705414180661364, 26.199549965325581, 44.368952217679301, 32.879564685911525, 36.905644243314732, 31.509294078892875, 30.767561539215777, 34.29527537921814, 38.216439234873519, 27.868144884665995, 31.033093825922037, 66.517819427983326, 23.566545618782797, 32.583841991039655, 31.95285861708388, 25.376136293191969, 47.030707565043222, 52.083844638022292, 42.475739790151209, 26.570153318844813, 16.942222747494533, 31.917284696340236, 38.138683033539131, 49.169557047886691, 29.479936786892736, 43.625907857633436, 31.285542522755915, 31.936977419242506, 54.448054431839211, 51.485258519379471, 25.201119780165151, 36.872779463720285, 28.143015815809296, 40.428551501806119, 38.79494235886591, 19.5523777792231, 50.717444323058579, 23.802377713061162, 19.8632199335275, 30.355208232213794, 45.92829931991934, 35.131485236705707, 20.166288431190267, 27.952133330925861, 45.710562032449978, 46.380467833860337, 39.406561636376722, 24.127109443746797, 23.26264187869625, 63.026716606838072, 20.877557570369472, 29.303444098470148, 41.076128271130656, 28.355215922188542, 52.638272835168841, 43.28879819289925, 47.975027931345622, 30.140167060918987, 43.33109306173526, 28.576577986816439, 57.8986188162243, 34.013957535132953, 29.812155991037482, 43.009907885119041], [42.480959428286177, 36.080612936081664, 67.308269714228544, 70.425295742845051, 61.770063294647301, 41.407563533184678, 41.829014147669241, 61.122111080235321, 50.621082587368782, 35.618736052206842, 34.057885472056469, 32.089076549379691, 65.568517680858562, 56.307125738368605, 31.344663214561884, 80.219827430292085, 51.686120182407301, 71.706491710862693, 66.694627451180693, 32.24330777043626, 66.411477904642908, 62.03643770105176, 26.001362408078027, 29.315257765533236, 35.643910166278978, 67.907924795264137, 58.748865487962476, 48.665707180663837, 30.921771842638819, 61.813603072142065, 61.786097704891155, 47.271389283492645, 44.466174389319832, 51.255815154804765, 64.321373458611149, 57.1879639262485, 44.389135270087486, 37.948169856692935, 68.17058469431322, 44.659208906924924, 53.675932048314124, 63.51000174335438, 34.005077332069099, 32.624080215100825, 41.710210164138388, 41.738335391615571, 54.407195317036241, 67.740356409298215, 41.417408593363696, 49.988386559557767, 38.813564214483584, 74.917041970407325, 57.578292283872642, 48.393629873679842, 38.801274794317031, 39.622488123156351, 68.373883427369407, 63.557465727237542, 34.768363938775359, 54.003160366715989, 51.1624999233767, 68.997134624693174, 32.62578529412842, 33.357498242860245, 62.544053059425067, 29.984211728585404, 51.737633296652696, 71.513230768957214, 33.026416873764376, 47.787532156267559, 61.395001072377909, 39.937237392093536, 34.242011385554768, 75.521742198125125, 74.666586070174944, 33.508745971464236, 30.010286343055714, 58.048543905416281, 54.897194176041296, 58.31979965521986, 20.320356715167513, 35.342242594970749, 75.447952758178516, 65.552344217163437, 45.531077978331048, 53.730729519344798, 65.805272833447845, 37.233884756395305, 59.089410716808089, 46.267722351568139, 26.647570220406912, 40.900021877054563, 71.159287273177711, 54.579292991211823, 68.065052091053744, 58.228124041512388, 41.107143262168663, 47.759292265096001, 34.2773797967522, 70.208351291148801, 38.294826721999506, 49.491906164239801, 65.276247752500083, 45.353489852038265, 30.725409248712687, 36.775930061823708, 37.107809180290083], [29.03433270145268, 32.642226045003838, 38.624192856568435, 51.384664908704046, 25.198845768234367, 52.466448308965994, 45.189272707656407, 34.957769764077746, 20.825593637500617, 51.897544606109903, 36.439412749845907, 25.456727818841056, 27.034348687990821, 33.036279024219773, 38.469830443024918, 59.536982159370709, 29.136596241385231, 24.894485339793029, 51.214071740890979, 51.04831854010429, 47.565297539408022, 53.010075999722176, 26.949064004810165, 36.534526562385388, 44.255692127596539, 30.031560079145621], [28.651493943280311, 45.829013464029742, 24.645928792335283, 25.748400426764146, 50.345616432181259, 33.143907499566474, 62.756102836555563, 48.946943225899261, 49.739075536027734, 37.329342430801212, 45.11698485002448, 21.156597335208261, 42.997695156071117, 72.319366778580758, 38.794371383436584, 35.083677735059062, 38.045861157934738, 22.583449347168909, 36.761729904163218], [47.17731641234225, 32.500501870562289, 32.081276269062634, 22.607948399023282, 25.435879979908471, 60.073287799635899, 57.080249128322777, 29.0036373364713, 32.976705412319049, 43.745448831686922, 47.950889094791222, 28.377267824863782, 32.112084238307197, 49.681280318823724, 36.698947980910859, 55.114230297481235, 52.993664032304707, 18.357319153974856, 43.21174801276608, 40.405870970083512, 42.230977868242185, 23.816264426218002, 20.961211280411963, 69.701691774785331, 69.648348587743541, 43.605305841464883, 45.54957271636188, 26.365360064387382, 56.162275408669984, 30.842691224318109, 39.757530593340348, 49.244483240950345, 45.761321083897514, 47.345446891494724, 33.276687454864138], [48.81587441065804, 41.401359417222785, 32.479354775371121, 69.784387193633052, 25.38679829165239, 45.024954762666006, 38.458218480532786, 58.509724382977389, 26.498189326333922, 32.410159833126954, 26.510516703469261, 27.534844683782865, 24.60127318760328, 58.999850005736157, 42.664009933137109, 76.88880713234208, 23.978664235201485, 54.005140860973668, 27.457256885298865, 32.081197075940182, 44.898314422552801, 57.894324900710892, 76.033345586147604, 67.849997612827707, 49.491423007103378, 23.053252066148577, 61.357435952706176, 24.520557801737404, 16.96794157650595, 63.979224342665617, 27.381518234805334, 28.073045389702205, 43.723540818356796, 39.973963557116782, 66.009907146864805, 49.56206999193568, 28.715797635742803, 32.497055343298072], [23.886240246441524, 39.012963943056874, 35.764354355199814, 28.682528277843499, 53.680715458236008, 52.378017782345424, 38.289272081965009, 58.446797483365685, 61.898505354224518, 48.149439357745536, 59.120004066181998, 39.625718116626921, 20.835638533532183, 46.939587694927127, 35.947592873881725, 44.877541442172671, 54.20382978173852, 23.109433445642406, 52.244908344027444, 42.751426898010173, 31.144506457695115, 38.108853046874934, 32.828622827892687, 75.031623076569943, 36.585277799937437, 72.047935699319822, 39.747674461340516, 43.209976204800149, 51.994446117339962, 49.262022059406704, 33.382749114273949, 41.316013125145297, 47.30609926256416, 20.165363986821454, 54.742544060460411, 32.720774874845951, 27.047329497206523, 38.877692406891903, 18.130390290720381, 40.221374293740034, 60.721842262778935, 48.195055841182786, 47.81483991461792, 37.318465684776051, 33.28182207246423, 37.198113958342802, 27.957669883384884, 27.258277581145023, 45.593345479973188], [37.557079425056692, 60.895283502232481, 41.304877843313243, 59.165722726911696, 56.573323247812482, 42.620149628952056, 69.274307117761325, 27.397530385329837, 35.500900402870307, 25.494866681903261, 54.218918230552248, 54.326697116982061, 43.875383733679513, 51.249263591191941, 47.126588891027218, 37.433525017628369, 51.603698259504107, 53.80928449845522, 36.949313415206419, 31.825194926140199, 42.120957171824756, 24.083941187060759, 34.61247791342732, 45.530814976826065, 27.925890444043706, 57.517056815383881, 53.142323918601953, 61.960923586775564, 55.993090490971639, 30.875952402764323, 31.581053508477524, 49.500608741420365, 69.719812487981883, 24.413638662522608, 49.0940083759468, 48.615210881641651, 22.704557846314323, 19.960879685284365, 26.124485157237398, 66.0229592061483, 41.87650346958192, 45.389800169790782, 48.209366876453231, 39.624030787002965, 71.522759877461638, 26.648459418954317, 33.489447515280524, 49.04028744291351, 45.991413388352029, 34.573077396390147, 31.575353234373043, 33.244321173344957, 27.729476492512688, 60.452607939212612, 33.276016474621734, 47.135407576712048, 61.350675944008529, 43.783244295434578, 20.857841255505985, 34.315530859348428, 64.749788684568699, 36.903873514574343, 56.267401340598433, 45.439890223770909, 32.017253878942824, 34.858015065151271, 31.186595570111486, 48.949149677565828], [19.436400985901589, 56.608089288354677, 55.729219569563448, 64.949946500767268, 34.980203517386869, 52.7765710878503, 41.002621334713012, 51.905486394195535, 54.349677107817449, 59.25181333331588, 40.878860357760665, 50.193724464282539, 25.35778171151513, 46.103288869339245, 56.219106449739634, 43.181202933863489, 22.971462760569437, 20.312754938714285, 42.18411191340418, 73.157364827167456, 25.842852879845967, 43.886035901319495, 44.664522288584237, 63.8564513589399, 45.101234383819616, 42.408801417294114, 59.457562869778343, 49.121615250343197, 37.788114455471501, 46.13641956219822, 72.691805102182784, 36.4589218106358, 40.823611654767539, 43.448452772596504, 27.555355071556747, 78.31078391795748, 26.889541772951986, 60.964796900984283, 52.681305653604063, 35.994135602714557, 33.613299472815832, 36.117433506681344, 41.826683599610718, 60.167879430005314, 40.625098675868706, 30.930190139520626, 32.913966557813232, 52.045497172856358, 63.010689530362406, 55.393009699973597, 29.645699322991291, 40.713321758859543, 43.91983687012776, 53.308848248079613, 40.614530480591533, 32.588669156811356, 76.160489773695744], [49.35648445537182, 30.171373068958857, 24.271328538308854, 51.906846347067834, 50.485293843359912, 35.634836779439027, 44.197582105994684, 30.087891585379761, 44.780462151044581, 27.431456121394287, 38.94263394162266, 66.23996832758931, 36.860224434211162, 37.981859868054222, 64.744015546818162, 90.290606182993358, 54.128095790285158, 39.676472665635551, 47.83109681891878, 66.362971602299922, 61.745352278937538, 86.828614458028184, 30.388404138846859, 72.086169223133183, 56.399625041383437, 33.736315695766137, 47.04791527670718, 51.977790890180863, 51.940309082396688, 20.282452564773745, 58.768434475298982, 31.744307436431878, 72.716188799082843, 29.656917116044966, 48.995029322748493, 67.11071400545498, 51.725906945188882, 44.543612667634818, 39.598513687135323, 62.73335934365285, 28.414541618933757, 56.475421629077047, 47.138884112252896, 43.527905257298507, 46.281230510850712, 43.071156960562881, 58.821140798441583, 46.43112684581844, 34.585456673318333, 36.317639320604243, 45.816361412706478, 29.888909559625532, 40.841648726646234, 34.246697362620758, 51.600200555620944, 31.869553395768584, 75.115204728079974, 69.671187549448689, 33.040509262433737, 37.341173704148126, 60.103927277052463, 65.073542727539376, 32.02671935279335, 56.696645962226455, 67.853536379627542, 32.385336839249646, 50.93150119146258, 57.595981396719672, 30.167037672592912, 52.3648251600655, 56.80793945470942, 35.556209719795802, 29.264713832816046], [45.106434155626793, 51.690525384521756, 55.935219880244901, 40.227625965750654, 28.355453386727092, 55.534266386328724, 28.553569194915035, 46.571374290019065, 36.917028201133114, 57.333851329843611, 34.177001775595542, 55.818935697762342, 28.41235527272163, 34.061695174805948, 21.634379048880714, 48.325601496133856, 45.068932678181639, 26.284599524436342, 46.983519008871774, 41.170385849757295, 63.456978393169351, 28.5280242804624, 39.909243573724332, 30.08328790893513, 53.754590942171845, 47.945113052207901, 46.223101027590594, 48.568439911520052, 62.777167300823386, 50.890256851011273, 57.82496185154374, 48.526421257614793, 32.689134499282915, 49.581125117284955, 35.296694670192224, 65.780924678897122, 37.364992091496973, 45.960349862799518, 42.583202341066027, 63.34295595938606, 53.035224101048364, 51.297518555535945, 69.576305010022296, 59.92160173692357, 38.126957615590541, 63.656415408171483, 38.229692387551758, 37.042397717723283, 38.32028493450315, 49.902169297111456, 26.368387246311464, 48.338796920178808, 43.610527576398717, 46.008709046816691, 54.018617965982649, 39.609248362547575, 31.546135892866108, 62.704770270251373, 45.45201131638558, 83.302655694825418, 36.399515633061831, 46.699593175089063, 36.77176933619517, 49.153054534345046, 67.10969469616964, 46.067252140203045, 26.250645933132351, 62.208945117367385, 57.936210183869186, 31.243856110390826, 55.391797733958327, 28.043195563314537, 28.085292736841016, 63.843925527232159, 36.584107429201879, 39.583064486099175, 24.89973525242036], [27.754547880627499, 45.200709740879383, 63.52326308197884, 77.694465123743043, 27.441693765828301, 29.070780280454489, 61.429141730488844, 49.652305216982064, 44.081085208337775, 64.156717766096946, 58.282983744924707, 50.111015214208706, 28.398328330813349, 60.574357289781723, 44.768807390631146, 30.178734359017401, 31.53098295366658, 33.036263653829636, 45.653518043762354, 65.155541356279528, 45.455780225268114, 42.112342984553088, 78.516662736531103, 53.611606935380443, 33.970679699952569, 65.09438892014218, 35.041932323812937, 52.16040673386091, 55.493836170859211, 35.947768123705529, 56.789123509339014, 36.958470838032767, 33.939481746142782, 25.893045790643821, 49.992293532026679, 53.173541364264665, 35.626327690093611, 59.287688776375212, 33.097718005357542, 61.46482741120095, 50.293526319323789, 67.309382116339776, 33.348478990632856, 40.173265119326182, 31.090580756373594, 26.223349287581541, 54.77935431419948, 62.933126024560202, 34.422656542495815, 33.908434625060238, 43.980147626370162, 39.596083612117305, 59.216024753761111, 30.800072450278382, 33.181911302133628, 28.948263966204944, 53.06567157955444, 51.748624903161442, 37.350754177105337, 48.808086407204968, 28.609817135573063, 54.00350000912303, 76.011845487691716, 28.548263508156708, 58.649778257929356, 71.659567814536331, 25.247197826392419, 58.512057422651687, 51.078059798914012, 55.585539048403355, 34.830495782886899, 24.861349197263984, 48.483224785184333, 42.57405054906237, 55.380863798366505, 60.797125353525637, 45.099277496440102, 43.831633872107354, 47.666381620982065, 37.790030835444689, 60.18602667116798, 34.851171464084047, 54.144985764686673, 29.85259473490234, 53.559476405656781, 68.208277848390082, 50.012813875072901, 77.796735422419815]], 'level': array([ 0.11781017,  0.        ,  0.        ,  0.        ,  0.        ,\n",
      "        0.        ,  0.        ,  0.        ,  0.        ,  0.        ,\n",
      "        0.        ,  0.        ,  0.        ,  0.        ,  0.        ,\n",
      "        0.        ,  0.        ,  0.        ,  0.        ,  0.        ,\n",
      "        0.        ,  0.        ,  0.        ,  0.        ,  0.        ,\n",
      "        0.1391184 ,  0.        ,  0.        ,  0.        ,  0.19467976,\n",
      "        0.        ,  0.        ,  0.        ,  0.17598554,  0.        ,\n",
      "        0.        ,  0.        ,  0.25423496,  0.        ,  0.        ,\n",
      "        0.        ,  0.        ,  0.        ,  0.        ,  0.        ,\n",
      "        0.        ,  0.        ,  0.        ,  0.        ,  0.        ,\n",
      "        0.        ,  0.        ,  0.        ,  0.        ,  0.        ,\n",
      "        0.        ,  0.        ,  0.03720398,  0.        ,  0.        ,\n",
      "        0.        ,  0.        ,  0.        ,  0.        ,  0.        ,\n",
      "        0.        ,  0.        ,  0.        ,  0.        ,  0.        ,\n",
      "        0.        ,  0.29774074,  0.        ,  0.        ,  0.        ,\n",
      "        0.        ,  0.        ,  0.        ,  0.        ,  0.        ,\n",
      "        0.43695394,  0.        ,  0.        ,  0.        ,  0.        ,\n",
      "        0.4329218 ,  0.        ,  0.        ,  0.62563655,  0.        ,\n",
      "        0.        ,  0.        ,  0.        ,  0.        ,  0.        ,\n",
      "        0.        ,  0.        ,  0.        ,  0.        ,  0.        ]), 'credits': u'\\n\\t\\t\\t1-12 Credits/Maximum of 12\\n\\t\\t', 'num': u'494H', 'stu_taken': [[425, 430, 1716, 1961, 2825, 3301, 3531, 3879, 5201, 5492, 6387, 6898, 7166, 7750, 9763, 10288, 10475, 10647, 11014, 11208, 11471, 12103, 12238, 13644, 13666, 13812, 13985, 14108, 14655, 15649, 15830, 16122, 17327, 17378, 17968, 18497, 18564, 18618, 18720, 20125, 20185, 21418, 21516, 22073, 22819, 24271, 24795, 24809, 25213, 25554, 26194, 26468, 26751, 28713, 29021, 29774, 30492, 30703, 31455, 32060, 33256, 33841, 34203, 34427, 34558, 34686, 34877, 35205, 35917, 36826, 37119, 37233, 37686, 37752, 38702, 39216, 40258, 40776, 40888, 41585, 41620, 41679, 41703, 41785, 42036, 43099, 43521, 43680, 43888, 44658, 45213, 45541, 45636, 46044, 46341, 46417, 46901, 47314, 47517, 47691, 47941, 49558, 49699], [207, 337, 735, 919, 3578, 4159, 4766, 4982, 5461, 5462, 5506, 6339, 6378, 7401, 7912, 7944, 8034, 8797, 9102, 9391, 10168, 10514, 11311, 11620, 12128, 13852, 14525, 14950, 15081, 16248, 17211, 18177, 18213, 18524, 18974, 19215, 19234, 19318, 19471, 19756, 20139, 20912, 20955, 22490, 22530, 22554, 22996, 23190, 23192, 23388, 27347, 27509, 27629, 28101, 29614, 29797, 30709, 30767, 31507, 31547, 31998, 32208, 32322, 32833, 33154, 33762, 34040, 34531, 34787, 34939, 35266, 35578, 35657, 35759, 36521, 37080, 37148, 37317, 37394, 37713, 38025, 38026, 38314, 38844, 39463, 39794, 39803, 40031, 40976, 41090, 41229, 41326, 41547, 42009, 42475, 42854, 44696, 45043, 45619, 46418, 46440, 46447, 48701, 49012, 49093, 49535, 49893], [1076, 4039, 5120, 5908, 7384, 7508, 8627, 9539, 16911, 17453, 17646, 19222, 20370, 21766, 24892, 24892, 26772, 29381, 30250, 30766, 33011, 34192, 43329, 46131, 48163, 49447], [258, 2799, 5469, 7670, 9342, 9567, 12426, 13498, 14223, 18634, 20324, 24465, 30295, 33356, 38587, 39602, 39627, 43870, 48112], [25, 115, 4366, 5429, 6337, 8558, 10079, 10316, 12603, 15384, 16963, 18460, 18690, 21357, 21780, 22849, 26422, 26496, 31480, 31796, 33872, 34408, 34672, 34774, 35414, 36313, 37134, 37347, 38443, 39635, 41644, 44793, 47125, 47319, 49050], [1084, 3999, 8975, 9027, 11643, 12180, 14901, 15340, 15573, 15586, 16772, 18368, 18822, 20923, 24841, 27966, 30002, 30776, 31701, 32205, 33391, 34045, 34739, 34958, 35993, 36637, 36806, 37359, 38093, 39191, 39592, 42539, 42876, 43232, 48495, 48815, 49016, 49820], [1404, 1687, 5327, 6634, 7997, 8755, 9211, 9630, 11351, 11363, 13564, 15084, 15788, 16358, 18074, 18939, 19342, 19709, 21181, 23204, 23454, 23577, 24025, 24213, 24295, 24769, 25736, 25763, 26347, 27816, 28467, 29178, 29946, 30496, 31516, 31785, 32759, 33894, 34584, 35081, 36508, 37051, 38526, 39198, 39870, 44286, 46018, 46083, 49666], [206, 784, 928, 939, 1074, 1093, 1578, 2128, 2208, 6022, 7024, 7117, 7396, 7698, 7917, 9320, 12548, 12912, 13792, 14732, 16920, 17469, 17944, 18692, 18724, 20535, 22776, 24094, 24133, 26521, 27540, 29161, 29662, 29963, 31067, 31542, 31911, 31953, 32125, 33261, 33849, 34451, 35295, 35655, 35724, 36141, 37853, 38653, 38903, 39908, 40486, 40718, 40903, 41137, 42088, 42757, 43071, 44423, 44553, 44916, 45050, 45730, 45746, 46006, 46039, 46129, 47381, 49773], [250, 605, 1520, 4440, 4814, 4903, 5655, 5692, 5920, 6124, 9738, 12207, 12276, 14930, 15106, 17758, 18390, 18540, 19100, 20167, 20515, 20810, 20843, 21529, 22088, 23118, 23237, 23532, 24339, 24452, 28120, 29081, 31446, 31514, 31613, 34453, 35845, 37861, 38987, 39722, 39771, 42796, 42977, 43065, 43197, 44466, 46169, 46625, 46876, 48507, 48936, 49067, 49353, 49546, 49548, 49601, 49982], [715, 727, 1147, 2293, 3156, 4776, 6321, 6481, 6605, 7740, 7801, 8253, 9312, 9616, 10925, 11791, 12425, 13195, 13986, 15263, 15542, 15754, 15790, 16071, 17464, 18257, 18795, 19025, 20534, 20823, 21263, 21546, 22314, 23209, 23635, 24112, 24317, 27016, 27185, 27674, 29316, 29427, 30005, 30050, 30376, 31599, 32516, 32917, 33266, 33990, 34282, 35046, 38535, 39099, 41211, 41567, 41792, 42473, 43325, 43508, 43637, 44443, 44491, 44665, 45163, 45534, 45919, 46138, 46228, 46665, 46870, 47107, 48798], [1319, 1396, 1667, 2150, 2903, 3679, 3679, 3764, 3800, 4293, 4479, 4983, 5118, 5387, 6704, 7143, 7212, 7551, 8810, 8921, 9237, 9253, 9644, 9728, 10326, 11959, 12200, 12681, 12977, 13667, 14461, 14560, 14779, 15003, 16235, 17680, 17755, 18274, 18802, 18932, 19711, 19951, 20729, 20885, 21228, 23872, 23889, 24221, 24800, 25055, 25298, 26486, 28425, 29113, 29165, 29765, 30041, 30957, 32625, 34164, 35090, 35789, 37366, 37963, 39907, 43445, 43540, 43764, 43827, 44735, 45967, 45982, 46661, 47460, 49123, 49223, 49469], [201, 1145, 1295, 1312, 1681, 2181, 2682, 3678, 3990, 4087, 4266, 5065, 5224, 5233, 5456, 5795, 6142, 6475, 6830, 6889, 7006, 7367, 8314, 8328, 8945, 9040, 9313, 9484, 12674, 13251, 13349, 14250, 15029, 15408, 16165, 18235, 18796, 19428, 19589, 20143, 20334, 20567, 20654, 21403, 21407, 22982, 23387, 24944, 24989, 25157, 25411, 25891, 27174, 27402, 28233, 28387, 28786, 29609, 30505, 31779, 31933, 32193, 32357, 32904, 32929, 32952, 33114, 33837, 34857, 35544, 36547, 37102, 37753, 37938, 39453, 40036, 40303, 40358, 42279, 42474, 43537, 43784, 43909, 44009, 45984, 46363, 47325, 47402]], 'prerequisite': '', 'sub': u'Korean (KOR)'}, u'KOR121': {'prereq_courses': [], 'ordinal': [['D', 'C', 'C+', 'D', 'D', 'B', 'C', 'C', 'D', 'D', 'C', 'F', 'D', 'D', 'C+', 'B+', 'B', 'D', 'A-', 'C+', 'B-', 'F', 'B-', 'C+', 'C+', 'F', 'D', 'F', 'D', 'F', 'B', 'D', 'D', 'D', 'D', 'D', 'D', 'B-', 'C', 'B', 'B+', 'A-', 'A-', 'C+', 'B-', 'F', 'C', 'C+', 'F', 'D', 'F', 'A-', 'B-', 'C+', 'A', 'C+', 'C+', 'D', 'F', 'D', 'F', 'D', 'B', 'A', 'C+', 'C', 'F', 'D', 'F', 'A', 'B+', 'F', 'B+', 'F', 'D', 'B-', 'F', 'A', 'B', 'D', 'F', 'F', 'F', 'D', 'A-', 'B-', 'D', 'C+', 'A-', 'D', 'D', 'D', 'D', 'D', 'D', 'D', 'C', 'D', 'F', 'F', 'F', 'A-', 'D', 'C', 'F', 'C', 'B', 'D', 'D', 'C', 'A', 'B+', 'B', 'D', 'D', 'B+', 'A', 'B-', 'A', 'A-', 'A-', 'C', 'B+', 'F', 'C+', 'C+', 'F', 'B+', 'B', 'B', 'A-', 'D', 'B+', 'A-', 'D', 'B-', 'D', 'C+', 'C+', 'B', 'B', 'C', 'D', 'D', 'B+', 'D', 'F', 'F', 'D', 'C+', 'A', 'C', 'A', 'C', 'D', 'B', 'B', 'F', 'D', 'D', 'D', 'C', 'D', 'D', 'F', 'C+', 'F', 'D', 'C+', 'B+', 'F', 'C', 'A-', 'A', 'C', 'D', 'A-', 'F', 'F', 'A', 'F', 'D', 'C+', 'F', 'B+', 'B', 'D', 'D', 'C+', 'D', 'C', 'B', 'F', 'B-', 'C+', 'C', 'B+', 'C+', 'C', 'D', 'D', 'D', 'D', 'B+', 'F', 'C', 'D', 'B+', 'D', 'C', 'B', 'C', 'D', 'B-', 'F', 'D', 'F', 'F', 'F', 'B', 'C', 'B-', 'C+', 'F', 'D', 'F', 'B-', 'C', 'F', 'B-', 'C+', 'C+', 'B-', 'F', 'F', 'D', 'F', 'C+', 'D', 'A-', 'D', 'A', 'B+', 'F', 'F', 'F', 'D', 'D', 'B+'], ['D', 'C', 'B+', 'A-', 'B-', 'D', 'D', 'A-', 'D', 'B', 'F', 'A', 'B-', 'C', 'B+', 'D', 'A', 'A', 'D', 'C', 'D', 'F', 'A', 'D', 'D', 'D', 'C', 'F', 'C+', 'C+', 'C+', 'C', 'B+', 'B-', 'D', 'F', 'B+', 'B-', 'C+', 'A', 'A', 'D', 'F', 'A-', 'C+', 'F', 'D', 'C+', 'D', 'D', 'A', 'C+', 'D', 'C+', 'B', 'C+', 'A', 'A', 'B-', 'A-', 'B', 'C+', 'B-', 'B-', 'A-', 'C', 'C', 'D', 'D', 'C', 'B', 'C', 'D', 'B-', 'F', 'A', 'B', 'D', 'A', 'B-', 'A', 'C+', 'C+', 'B-', 'D'], ['C+', 'F', 'B', 'B-', 'D', 'F', 'C+', 'B+', 'A-', 'C', 'C', 'A-', 'B-', 'B+', 'D', 'D', 'C', 'B-', 'B', 'C', 'C+', 'B-', 'B+', 'C+', 'B+', 'A-', 'C', 'D', 'F', 'B-', 'A-', 'B', 'D', 'B-', 'B', 'B+', 'C+', 'F', 'B', 'B-', 'D', 'A-', 'D', 'B', 'B+', 'C', 'D', 'C+', 'C', 'A', 'B', 'A-', 'D', 'B', 'D', 'A-', 'A', 'D', 'C+', 'B-', 'B+', 'B-', 'D', 'F', 'D', 'C+', 'D', 'D', 'B', 'B-', 'C+', 'A-', 'B', 'B-', 'D', 'D'], ['A-', 'D', 'D', 'B+', 'A', 'C', 'C+', 'A-', 'C', 'A-', 'D', 'C', 'B', 'C', 'A', 'F', 'A', 'A-', 'F', 'F', 'F', 'F', 'B', 'A-', 'C', 'B', 'C', 'C+', 'D', 'A-', 'A', 'D', 'A', 'B+', 'D', 'B', 'B-', 'A-', 'F', 'D', 'D', 'B+', 'A-', 'A-', 'D', 'B-', 'D', 'B'], ['B-', 'A-', 'F', 'B', 'B', 'A', 'B-', 'C+', 'B+', 'A', 'A', 'C', 'F', 'A', 'D', 'F', 'A', 'A', 'C+', 'B-', 'D', 'B+', 'B-', 'C+', 'D', 'A-', 'C', 'B', 'C', 'D', 'B-', 'C', 'F', 'B-', 'D', 'B', 'D', 'D', 'A-', 'C+', 'F', 'A', 'C+', 'D', 'A', 'C', 'A-', 'C+', 'B-', 'B+', 'C', 'D'], ['D', 'A', 'B+', 'A-', 'A', 'B', 'C+', 'C+', 'C+', 'D', 'B-', 'A', 'A', 'B+', 'B', 'C+', 'C+', 'B+', 'A', 'A', 'A', 'C', 'B', 'F', 'D', 'C+', 'A-', 'B', 'D', 'B-', 'A', 'B', 'C', 'A', 'C+', 'D', 'D', 'B', 'A-', 'D', 'A', 'C+', 'A-', 'B+', 'D'], ['C+', 'D', 'B', 'B+', 'B+', 'B-', 'D', 'B-', 'C', 'A-', 'B+', 'F', 'F', 'C+', 'B', 'A-', 'B+', 'C+', 'B', 'D', 'D', 'D', 'C+', 'D', 'C', 'B+', 'A-', 'B-', 'D', 'B', 'D', 'A-', 'C', 'C', 'B', 'A', 'C+', 'A-', 'C+', 'B', 'B-'], ['B+', 'B-', 'C+', 'A', 'B+', 'C', 'B-', 'C+', 'F', 'F', 'C+', 'A-', 'B', 'B-', 'B', 'A-', 'B', 'B', 'D', 'C', 'C', 'B+', 'B+', 'A-', 'A-', 'A', 'B+', 'D', 'B', 'B-', 'B-', 'B-', 'B-', 'B-'], ['A-', 'A', 'A-', 'A-', 'A', 'B', 'B+', 'D', 'B-', 'B-', 'D', 'C', 'A-', 'A-'], ['D', 'A', 'A', 'C+', 'B-', 'D', 'B-', 'A', 'A', 'A-', 'A-'], ['C', 'A-', 'A', 'D', 'C', 'B-'], ['F', 'B', 'D', 'A', 'A-', 'C+', 'A', 'B', 'A-']], 'major': u'KOR', 'description': u'\\n\\t\\t\\t\\tSurvey of contemporary Korean popular culture in various forms, including pop music, film, TV drama, advertising, comics, and literature. What do we mark as \\xbfKorean-style\\xbf? Are the images of Korea(ns) changing with the worldwide spread of Korean popular culture known as the Korean Wave (Hallyu)? This course provides critical approaches to cultural flows from South Korea. We will employ theoretical concepts and critical vocabularies from cultural studies to deepen and sharpen our analysis of the cultural representation of Korea in relation to questions such as class, gender, ethnicity, and body politics. Using diverse texts from literature, film, TV dramas, comics, and pop music, we will examine the social codes, cultural values, and economic realities that influence Korean society, including the Korean diasporic population around the world. In directing our attention to various ways in which Korean culture is transmitted and presented in different media, we will also inquire into historical and social issues rooted in the division of Korea, as well as the international dispersion of Koreans since the colonial period. Through intellectual exercises in boundary crossing, we will ultimately develop our ability to explore the cross-cultural production of trans/national identities in the age of globalization. Instruction and all materials will be in English. No preliminary knowledge of Korean history or language is required for taking this course.\\n\\t\\t\\t', 'title': u'KOR 121: Korean Popular Culture', 'grade': [[71.382462809288555, 74.634773743273826, 79.564408816592987, 69.002908855569487, 68.009551492581878, 81.846367700033028, 74.076273539235189, 76.227204064543173, 73.217716197411562, 66.643570734357823, 74.883729395130871, 62.789149667669243, 69.270296721155859, 72.455532064391249, 76.895390344776757, 85.601361299111005, 84.35455600665496, 68.560681769913003, 89.729653930001859, 77.540791378794495, 80.733617049340154, 64.427916264972964, 81.531857248598413, 78.995486441073368, 79.386238625154022, 63.371870362299752, 67.601953905020011, 50.509129071332751, 71.514351463032682, 52.535353885101308, 84.100725239459393, 69.051335244360644, 67.724457945028561, 68.590606644454624, 68.477411717008735, 65.719161894788783, 72.790468560205952, 81.185960818269265, 75.115935861735835, 84.091912198030755, 84.484717915070988, 89.678988380014317, 86.674342648966515, 78.340925357533038, 79.864026603741237, 63.121625341640851, 76.718782464403674, 78.734855945924849, 60.213122509460938, 73.92118876179704, 65.382483855124818, 90.129889516442873, 81.309701665290234, 78.109342677726644, 92.4115308882036, 77.804185999014067, 77.404932105552348, 72.20351136748026, 56.066716611279773, 68.06985236192736, 64.181728853178228, 67.780084245018386, 84.484300169090915, 91.07636136281468, 78.102306920662684, 75.579908703781783, 61.872737393895918, 70.497276251866296, 61.494604658676309, 93.073048495719974, 86.409084025630392, 64.797433512541375, 85.423513274986632, 55.022706138807195, 71.687190931710347, 80.700447320680041, 62.265211700980963, 95.254392172942829, 82.928482125584409, 71.628893270403026, 60.769912486020949, 63.195408942995925, 62.076125693739726, 73.784047880712706, 86.532471225852376, 80.030216263639105, 68.381461054745671, 77.573680784312387, 88.070839654750628, 72.837251541646381, 66.768404579422352, 66.28423627227879, 72.992240540650997, 69.697918990693736, 68.635809042245882, 70.584246307648186, 76.440679641349945, 73.084579462697988, 63.127297515139389, 61.789686883052411, 63.114900252394513, 88.774531166779724, 71.960178297290128, 74.312151082054839, 61.862029502592094, 75.661864331947186, 81.95410997980818, 73.91955232894513, 68.383284223770175, 75.121630199194215, 93.456487326149485, 86.250033497192121, 82.961128479678507, 69.525092895625349, 65.496813120226719, 86.082226495434426, 91.420814465028315, 80.721504847319508, 91.366141308322597, 90.154125828998545, 87.311505761729109, 75.980914448432955, 85.103039022120981, 59.447149483037521, 78.281875486774993, 79.793034272446718, 58.47036871447655, 84.795873826285302, 82.196560568272886, 82.75745239246919, 90.305855643003525, 68.595752865143822, 86.041333277990404, 88.710523722079586, 73.019519144446036, 80.730384566489406, 73.040778590525704, 79.716810541315027, 79.458354484970357, 83.744383857072918, 81.802698645180541, 75.936646492640364, 67.955394557545716, 71.184852582142554, 84.495684257931174, 73.220652686756509, 56.662816164870044, 58.336563676805099, 67.82242342418489, 77.937434211182293, 91.471754740945073, 75.289994737076356, 90.92865497051919, 74.593403921208917, 71.888349935342873, 81.865779683288281, 83.508267572306778, 58.522604327166619, 65.805091690721184, 68.875890298806496, 66.620381699528011, 76.309064975846098, 70.770394715617471, 68.815010598445923, 58.811251941342036, 78.511777634828988, 62.088641161869909, 68.531403385952089, 78.429003209481337, 84.767440862307453, 63.031823771717711, 76.42921315818802, 87.754866935879178, 91.038907037060468, 74.676996169913338, 67.755153503450245, 88.13871231372346, 64.421575088681791, 48.279267344141118, 93.158465250312815, 61.670823906719988, 66.882925802759161, 77.820021694475287, 60.96249833565156, 85.103809500914068, 82.562381550397163, 66.110177018147127, 66.272473032315077, 77.070353274210206, 69.238819657173238, 75.569647512354948, 84.228663973503188, 65.30321945470962, 81.698239135288063, 78.64549035381205, 75.720824621312815, 86.351163786337025, 77.768776932674328, 76.431312281034096, 65.831811661307796, 67.220111230979114, 72.745522868530898, 66.172781653177481, 84.975458831378731, 62.807939456781433, 76.283999853641916, 71.329778227625923, 86.375891088168302, 68.311360752435974, 76.608558229822634, 82.719765938199245, 76.281485905487912, 72.76608316834789, 80.354217438891041, 52.563174137905463, 72.745769128754546, 64.163592097398819, 64.346344177382392, 51.561288077824642, 82.866309002593326, 75.241894593697921, 81.629667205067008, 77.666797823418406, 60.888262464510532, 66.57927283808182, 59.685874653449503, 80.478617466928597, 75.89816369543307, 63.752533298386624, 79.877615244383122, 78.530165212449205, 77.363376262968728, 80.398801055918838, 65.321339541992089, 61.011841852607574, 66.747618392414125, 64.17510323713546, 78.576952074540898, 67.390877057636843, 87.798211122940799, 66.387447506621584, 91.11606374191679, 84.866179188134083, 60.581442755184035, 64.863700713179625, 51.685533268004882, 71.404147708829328, 66.015772308385905, 85.569592087082], [68.102228265399404, 75.2680475651416, 84.556214498697244, 87.071086807564996, 80.47688661143917, 66.366763075059751, 70.029787415646666, 86.975899357044412, 66.178909921152766, 83.275131334901445, 65.001844755195805, 91.026476682162127, 81.146000154789277, 74.036427693294655, 85.154722357518537, 68.030911457123693, 91.919457312833629, 93.705615747404636, 69.918613967279086, 76.393509345886415, 69.011328681303851, 62.081975020752289, 99.849406957778712, 73.387536989753727, 65.775909809632253, 69.572621781176764, 74.456336446997028, 55.030813180408366, 79.095543188189083, 79.633325580914473, 77.729678485490936, 75.509603305250835, 85.778706222929245, 80.792532359032663, 70.152806342754218, 53.348028128572423, 86.129930613937262, 80.088425755750762, 77.24151338029408, 90.58661937065628, 97.031455930543089, 69.637097343235197, 65.220489215107165, 86.805719856184638, 77.399837371030927, 63.533527995960334, 67.82244750309674, 78.985414205757692, 71.078147922788006, 72.568148852117616, 92.288360849741764, 78.094726798060236, 73.362956553062162, 78.327565879576639, 82.861485876935944, 79.440480261435184, 98.197441250705779, 95.973040436235095, 80.15675106111253, 88.745414468616573, 82.845925575055489, 79.345491247247551, 80.452733264546737, 81.446911054103921, 87.203246503758066, 75.555358793641915, 75.709727557771373, 66.549043623535255, 71.001511597993954, 74.25423889255886, 83.403391170034496, 75.347793978518141, 69.773463320932024, 80.629598247321951, 63.508645362042692, 98.472962930306437, 83.943104096890238, 69.037912683946161, 90.84514458145965, 81.021636850640434, 96.366420246105633, 77.508405844914947, 76.7542445189912, 80.41362737469467, 71.087603539764501], [78.039678627221136, 52.030542679812505, 82.175374576358223, 81.220696159901905, 69.143936057853622, 61.37116129569192, 77.942295434183137, 84.740570393759171, 88.891577785947177, 75.52138812518379, 74.901814912706527, 87.183301810922231, 80.812668792953204, 86.291009614961297, 73.973301477883766, 67.368603484296372, 74.42694600266519, 80.131011142844315, 84.423937993908311, 74.954854968203449, 79.564623229230165, 80.626254514512823, 86.520468202137934, 78.964125805587074, 86.32556915556296, 89.397586119270699, 76.710397155012672, 71.838915653075304, 62.71043048809468, 79.924617980382308, 86.881135983897792, 83.668759623834333, 68.685581154567018, 81.592296142096188, 83.922609495137237, 84.882277523946243, 79.514681211378303, 62.085814745026994, 83.394643823504438, 80.154466840178003, 71.567052875177765, 89.124381035394023, 72.031526974480542, 83.201962215246994, 85.269188015800125, 74.300554165496791, 65.382908048584071, 79.800001462137075, 76.43019033133605, 92.991166909776723, 82.863108765114518, 86.891633364724157, 72.938147076175738, 81.736465021751144, 71.781719310273289, 87.645822006408963, 91.40498431332918, 68.609137581274453, 78.992780525226337, 81.063203807460837, 85.304452272947756, 81.258083987231302, 73.853923030687625, 63.340833867328591, 73.628350780141687, 79.473763113329696, 71.502248835478596, 73.138598915825369, 83.978306434763468, 79.887737258684623, 77.267815441669228, 88.442961566162893, 82.316264324468563, 81.646591183704714, 66.220285125948919, 66.61933887763459], [88.484713483049077, 73.782025034258055, 72.321596331898974, 85.504029570575028, 93.456054064629626, 74.297549320749553, 79.413065995612882, 89.356865524108031, 75.870996471952324, 88.627509463905497, 70.814844596382642, 76.155706224495702, 81.789364921503022, 75.787263622838083, 93.344023031360663, 57.15594222771567, 91.909145524631271, 89.97517256213888, 61.316069817887012, 65.112289365317807, 56.185594186568757, 62.387809435118577, 83.405802281848906, 87.142900650750093, 75.768687835640264, 83.863081321779177, 74.370142496476106, 77.531673033239798, 70.928920873799044, 88.884644792572729, 91.192690921673858, 65.804817335036489, 91.808664443574017, 86.462332656987513, 70.626950651779097, 82.059837812127725, 80.960700725430456, 90.205254495408226, 52.568709354688671, 70.662582628821269, 70.457227408816536, 84.564357786246873, 87.459256961368396, 87.909841442367949, 72.264842196504802, 80.280993537018745, 67.970340520073918, 83.370446087493093], [81.531983737393006, 87.756006767510328, 60.296205623415766, 84.236705215145321, 82.440832635609368, 91.03923432957157, 80.574747570705668, 79.816091360458813, 85.331806011096091, 95.804344747161736, 92.746873875565342, 75.262398578502001, 62.961784271089037, 93.838148957021801, 71.311125493134185, 60.413070878848096, 91.612306342779874, 94.034686175663126, 79.345763112993424, 81.152127214300876, 70.700683235307622, 85.207397830250969, 79.924367896280231, 78.075941613705751, 72.266946627454246, 86.761326119615134, 75.069406043083205, 83.189893849746809, 73.977589367911364, 70.288634237642498, 80.165792012544472, 75.115426100643546, 61.082928721054067, 79.901985513144297, 70.626364073789162, 83.550334242832008, 67.288168264320916, 70.71860983171274, 88.653235992292849, 76.896631961042658, 65.024199120115199, 94.175789178269937, 77.854649204976369, 71.16554379922033, 95.520538264700022, 75.318467758906181, 86.877491733275576, 79.270675486892301, 80.953343170967315, 85.914555939186442, 75.580154250291713, 70.680427914817244], [73.46200574191721, 94.627844748415825, 85.858746524506387, 87.216961466199095, 92.120946806089293, 84.214431470081934, 79.82880186421454, 78.696930023906361, 79.731346947226086, 66.514761797045423, 80.749600389908323, 90.933779899037503, 96.170604831689872, 85.545827529340883, 83.058693344089662, 79.783816169040563, 79.464966158120703, 85.09398246661604, 90.626782097611851, 90.567993251179132, 91.496440699685465, 76.022288334736913, 83.512243609178284, 58.026721658397861, 66.251688456904461, 78.021067669081987, 89.884419122830394, 82.576353574464605, 68.182370982161018, 80.504517807352755, 91.474645302987128, 83.287028445558306, 76.246327958045342, 92.840588345613426, 77.859776391565646, 69.818910475436851, 71.06886904835676, 83.244240126617726, 89.791530411414854, 69.165535047977059, 93.422291429785673, 78.018517449443664, 89.064821233518245, 85.004968967328594, 70.314267407776398], [76.770591738607649, 66.301135209827379, 82.819239275693064, 86.379586355133924, 85.475948702949168, 80.8331363740744, 71.675481386608055, 81.668883820775307, 76.318578128484731, 89.222410789175441, 84.956419961714232, 64.39310024966278, 63.069621158648047, 78.743844090280888, 83.308173149619137, 88.897285843036414, 85.641924151610354, 77.300230556628918, 82.943278035099326, 65.674686201103412, 68.653078849500986, 69.457033288855058, 78.953942160908724, 72.665317314237583, 74.961081068263866, 86.053265206615009, 90.428954185409665, 80.242119646357551, 66.145949478369502, 83.488069892343105, 65.711489461599157, 87.07277599175201, 74.258300472983564, 75.286231108223888, 82.839448317958926, 94.09078882964593, 79.202005529171586, 88.862726023198306, 77.60878883825923, 82.894610730511801, 81.348429388606007], [85.130367383636184, 81.275423152168543, 79.760026723044646, 94.138372342391904, 85.719879690662097, 76.193829113054633, 80.892564067215673, 77.328303439840042, 63.31487704325491, 62.589318497796988, 77.144525552341648, 87.72919421972118, 82.979603607949031, 80.246674442570153, 82.345372199224684, 88.190038715248093, 83.401964147123834, 82.772318233265935, 73.277978273048447, 75.469031566917351, 75.061969270976832, 84.882310706576661, 85.623334623122091, 89.541219298526599, 87.834619516403649, 93.09455600768392, 84.872916811044803, 68.908968505087344, 83.523651122296656, 80.840912958194636, 81.699053347511608, 80.765180550710852, 80.615487877217447, 81.525109897123528], [89.824780162701643, 95.675128087729391, 88.072335475662868, 89.264526774022031, 97.535491590165577, 84.058974492953766, 84.546017809895361, 67.910934751167346, 81.089959652360974, 81.161314912779886, 71.574582439610722, 76.561355155905602, 89.188731784622078, 89.916789937898997], [69.285652278055892, 91.815446727502476, 99.801022736488804, 78.239146085308192, 80.326944272513629, 72.233610125702725, 80.286129979159199, 90.509406119292677, 92.947669987747332, 86.561259329660373, 89.697789381194426], [74.527611035227068, 87.640359431313726, 100.0, 73.372533381385892, 75.711686046693217, 80.120855830398696], [59.630522112558971, 82.299238809127289, 71.284796799439874, 95.302773677691633, 88.075808296574749, 78.800542439223804, 94.04663500572282, 82.490115340327264, 89.045022994245144]], 'level': array([ 0.13828155,  0.        ,  0.        ,  0.        ,  0.        ,\n",
      "        0.        ,  0.        ,  0.        ,  0.        ,  0.        ,\n",
      "        0.        ,  0.        ,  0.        ,  0.        ,  0.        ,\n",
      "        0.        ,  0.        ,  0.        ,  0.        ,  0.        ,\n",
      "        0.        ,  0.        ,  0.        ,  0.        ,  0.        ,\n",
      "        0.09193035,  0.        ,  0.        ,  0.        ,  0.177139  ,\n",
      "        0.        ,  0.        ,  0.        ,  0.19784574,  0.        ,\n",
      "        0.        ,  0.        ,  0.00393605,  0.        ,  0.        ,\n",
      "        0.        ,  0.        ,  0.        ,  0.        ,  0.        ,\n",
      "        0.        ,  0.        ,  0.        ,  0.        ,  0.        ,\n",
      "        0.        ,  0.        ,  0.        ,  0.        ,  0.        ,\n",
      "        0.        ,  0.        ,  0.12092258,  0.        ,  0.        ,\n",
      "        0.        ,  0.        ,  0.        ,  0.        ,  0.        ,\n",
      "        0.        ,  0.        ,  0.        ,  0.        ,  0.        ,\n",
      "        0.        ,  0.29453942,  0.        ,  0.        ,  0.        ,\n",
      "        0.        ,  0.        ,  0.        ,  0.        ,  0.        ,\n",
      "        0.18595783,  0.        ,  0.        ,  0.        ,  0.        ,\n",
      "        0.11795204,  0.        ,  0.        ,  0.09935021,  0.        ,\n",
      "        0.        ,  0.        ,  0.        ,  0.        ,  0.        ,\n",
      "        0.        ,  0.        ,  0.        ,  0.        ,  0.        ]), 'credits': u'\\n\\t\\t\\t3 Credits\\n\\t\\t', 'num': u'121', 'stu_taken': [[207, 337, 425, 430, 735, 919, 1190, 1716, 1961, 2394, 2412, 2825, 2917, 3301, 3325, 3531, 3578, 3783, 3879, 4159, 4982, 5001, 5201, 5404, 5461, 5462, 5492, 5563, 5719, 5719, 6378, 6387, 6668, 6898, 7166, 7401, 7672, 7750, 7912, 7944, 8034, 8378, 8797, 9190, 9571, 9763, 9893, 10168, 10287, 10288, 10296, 10475, 10647, 10809, 11014, 11208, 11471, 11620, 11713, 12103, 12128, 12238, 12506, 12953, 13419, 13644, 13666, 13759, 13812, 13852, 13985, 14108, 14525, 14950, 15081, 15529, 15649, 15815, 15938, 16122, 16248, 17189, 17211, 17327, 17378, 17419, 17968, 18213, 18415, 18497, 18524, 18564, 18618, 19215, 19234, 19318, 19471, 19800, 20125, 20185, 20827, 20912, 20955, 21418, 21516, 22073, 22490, 22530, 22554, 22819, 22996, 23134, 23190, 23388, 24271, 24795, 24809, 24922, 25213, 25442, 25554, 26194, 26468, 26751, 27347, 27509, 27629, 28054, 28101, 28206, 28713, 29021, 29573, 29614, 29774, 29797, 30212, 30250, 30703, 30709, 30767, 30895, 30987, 31455, 31507, 31688, 31998, 32060, 32208, 32322, 32700, 32833, 32973, 33011, 33762, 33841, 34192, 34203, 34304, 34427, 34438, 34531, 34558, 34686, 34787, 34877, 34939, 35205, 35266, 35290, 35562, 35578, 35759, 35917, 36521, 36585, 36826, 37080, 37119, 37233, 37364, 37394, 37539, 37642, 37652, 37686, 37713, 37752, 38026, 38275, 38314, 38697, 38702, 38798, 38844, 39216, 39463, 39794, 39803, 40031, 40252, 40258, 40262, 40776, 40888, 40976, 41090, 41326, 41332, 41547, 41620, 41679, 41703, 41785, 42009, 42036, 42350, 42475, 42854, 43099, 43680, 43888, 44580, 44658, 44668, 44696, 45093, 45213, 45541, 45619, 45636, 46044, 46341, 46417, 46418, 46440, 46901, 47314, 47517, 47691, 48177, 48430, 48701, 49012, 49308, 49535, 49558, 49699, 49893], [203, 435, 656, 705, 959, 2174, 6048, 6339, 6487, 6723, 6761, 7508, 7543, 7586, 9102, 9407, 9595, 10514, 10970, 11065, 13517, 14135, 14655, 14734, 16391, 16718, 17079, 17215, 17395, 17417, 17738, 18109, 18720, 19077, 19224, 19517, 20139, 22563, 22890, 22946, 23192, 23784, 24514, 24892, 26099, 26338, 26372, 26914, 27717, 27793, 28204, 31110, 31147, 31370, 31517, 33008, 33154, 34040, 34633, 35206, 35378, 35900, 36174, 36743, 36962, 37996, 38357, 38433, 40332, 40713, 41155, 42445, 42501, 44242, 45073, 45325, 45524, 47114, 47231, 47457, 47941, 48290, 48327, 49834, 49907], [235, 485, 2178, 2204, 2682, 2803, 3448, 3640, 3735, 5246, 5577, 5806, 6067, 6619, 6766, 7138, 7167, 7641, 7666, 9411, 9623, 9640, 11244, 11576, 11593, 13008, 13407, 13543, 14683, 16219, 16703, 19175, 19386, 19697, 21177, 21551, 22280, 22545, 22791, 22797, 23246, 24245, 24600, 25473, 26029, 26426, 26695, 26854, 27111, 29386, 29412, 29602, 29786, 30374, 31063, 33950, 33957, 34677, 35078, 35257, 36296, 37070, 38230, 39587, 39876, 40199, 40737, 41084, 41707, 42561, 42623, 45043, 45060, 46801, 48809, 49192], [1390, 2906, 3747, 5083, 6871, 7625, 8457, 8491, 8606, 10417, 11305, 11315, 11841, 15028, 15871, 16689, 17617, 18125, 18161, 19163, 21072, 21074, 21259, 21873, 22093, 22379, 25557, 25739, 25843, 26279, 28311, 28838, 32244, 33508, 38536, 40714, 40844, 43071, 43517, 44697, 46237, 46402, 47240, 47582, 48527, 48573, 48609, 49225], [443, 786, 3119, 3444, 5093, 5607, 8275, 8725, 8779, 8818, 9157, 9305, 11123, 12536, 13371, 14647, 15155, 16662, 17259, 18097, 19144, 19161, 20584, 20960, 22192, 23597, 24020, 24064, 25308, 28504, 29204, 31515, 33570, 33874, 34206, 34335, 34585, 35017, 35435, 36067, 36956, 37046, 39706, 42813, 44063, 44385, 44638, 45264, 47794, 48070, 48786, 49393], [1409, 4432, 6622, 7882, 7954, 9075, 9626, 14047, 16469, 16495, 17755, 18467, 18550, 18708, 21266, 22022, 22828, 22974, 23900, 24507, 27023, 27059, 27233, 27668, 28488, 30005, 31168, 32655, 32791, 33043, 33077, 33341, 33948, 34138, 35139, 35951, 35981, 37176, 37463, 40523, 42582, 44011, 46837, 48746, 48910], [940, 3333, 3343, 3496, 6749, 7988, 8123, 12946, 13234, 13277, 13486, 13682, 14974, 16448, 17227, 17646, 17936, 23048, 23369, 23565, 25586, 26398, 27100, 28099, 29399, 31053, 31470, 31736, 31841, 33719, 33747, 35452, 37192, 37363, 38201, 39444, 39973, 40808, 44751, 46800, 48664], [497, 3501, 3743, 6611, 8784, 9221, 13085, 13158, 17695, 18399, 19160, 20651, 21043, 21171, 23503, 23770, 28071, 29427, 31881, 32333, 32546, 36366, 36529, 40858, 40902, 41020, 41249, 41586, 43610, 44689, 45695, 46250, 49042, 49433], [5190, 10834, 13426, 21745, 22919, 24162, 27512, 28563, 28642, 29241, 31716, 40886, 44640, 48448], [432, 1722, 13874, 15096, 16334, 23304, 24237, 30763, 43034, 43241, 45712], [132, 11800, 11884, 30670, 33842, 39450], [1606, 1868, 6837, 7296, 20829, 26354, 30774, 37998, 38301]], 'prerequisite': '', 'sub': u'Korean (KOR)'}, u'KOR120': {'prereq_courses': [], 'ordinal': [['A', 'A', 'C+', 'B+', 'B', 'A', 'F', 'B', 'B+', 'C', 'D', 'A', 'C+', 'B-', 'A-', 'B', 'F', 'A-', 'F', 'B', 'B-', 'A', 'B+', 'B-', 'D', 'F', 'B-', 'F', 'C+', 'D', 'F', 'B', 'B+', 'C', 'B+', 'C', 'F', 'C', 'B-', 'A', 'A', 'C', 'C+', 'D', 'D', 'B+', 'D', 'B', 'B+', 'C', 'B+', 'F', 'C+', 'A', 'B', 'C+', 'C', 'D', 'C+', 'B', 'D', 'B-', 'D', 'C+', 'A', 'C+', 'D', 'A', 'A', 'A', 'B-', 'C', 'C', 'B', 'B-', 'F', 'D', 'D', 'F', 'F', 'D', 'C', 'B', 'A', 'A', 'B', 'D', 'B', 'D', 'D', 'B+', 'D', 'D', 'B+', 'B+', 'F', 'A', 'B-', 'C', 'B+', 'A-', 'D', 'B+', 'D', 'B', 'B', 'D', 'C+', 'B-', 'D', 'B-', 'A-', 'C', 'A', 'B-', 'B-', 'B-', 'C', 'D', 'B+', 'D', 'A-', 'F', 'B+', 'C+', 'D', 'B+', 'A', 'C', 'B', 'F', 'A', 'C', 'C+', 'F', 'B', 'F', 'C+', 'A-', 'A', 'D', 'F', 'F', 'A-', 'B+', 'A-', 'B-', 'C', 'F', 'B-', 'D', 'D', 'B+', 'F', 'C', 'D', 'D', 'D', 'F', 'A-', 'B-', 'C+', 'D', 'D', 'D', 'C+', 'B+', 'C', 'D', 'D', 'D', 'F', 'B+', 'C', 'B-', 'C', 'C+', 'D', 'C', 'D', 'B-', 'A', 'A', 'B', 'F', 'C', 'B+', 'D', 'F', 'A', 'B+', 'B+', 'D', 'B-', 'C+', 'A', 'F', 'D', 'D', 'D', 'B-', 'F', 'D', 'F', 'B', 'F', 'B-', 'B-', 'F', 'C+', 'D', 'C+', 'B', 'F', 'F', 'F', 'B-', 'B-', 'F', 'D', 'D', 'B-', 'C', 'A', 'F', 'D', 'C+', 'B', 'B', 'B+', 'D', 'C', 'F', 'C+', 'D', 'D', 'D', 'F', 'C+', 'A', 'C+', 'F', 'C', 'D', 'B-', 'C+', 'B-', 'C+', 'A', 'A', 'B-', 'C', 'D', 'A-', 'B-', 'B+'], ['A', 'A', 'A', 'B-', 'D', 'D', 'C', 'B', 'B+', 'C', 'A', 'B+', 'B', 'A', 'D', 'D', 'B-', 'F', 'F', 'B+', 'D', 'C+', 'A-', 'C', 'D', 'D', 'F', 'B+', 'D', 'B+', 'B', 'A', 'D', 'B-', 'B-', 'B-', 'B', 'F', 'F', 'D', 'D', 'A', 'A', 'B-', 'A', 'A', 'C', 'B-', 'B-', 'A', 'F', 'D', 'C', 'A', 'D', 'F', 'C+', 'B', 'B', 'A', 'A', 'A', 'A', 'B-', 'A', 'D', 'B', 'B', 'F', 'C+', 'A', 'F', 'B-'], ['C', 'B+', 'D', 'B-', 'B+', 'A', 'D', 'B', 'D', 'B', 'C', 'D', 'C', 'B', 'A', 'A', 'A-', 'A', 'B-', 'B', 'D', 'A', 'A', 'C+', 'A', 'A', 'B-', 'C+', 'C', 'B+', 'F', 'C+', 'D', 'B', 'C', 'C', 'B-', 'C+', 'C', 'A', 'D', 'A', 'B', 'B-', 'C+', 'A', 'B+', 'F', 'D', 'D'], ['B', 'C', 'A', 'C+', 'F', 'A', 'A-', 'D', 'C+', 'C+', 'B-', 'B', 'D', 'A-', 'B', 'D', 'A', 'C+', 'D', 'B-', 'D', 'C', 'B-', 'A', 'D', 'A', 'A', 'A', 'B-', 'A', 'C', 'A', 'D', 'B', 'D'], ['A', 'A', 'B+', 'C+', 'C+', 'C', 'B', 'B+', 'D', 'F', 'B+', 'D', 'B-', 'B', 'A', 'F', 'D', 'D', 'D', 'B', 'B', 'B', 'F', 'A', 'D', 'B+', 'A', 'B+', 'B-', 'A-', 'A', 'C+'], ['A', 'B', 'D', 'B-', 'B+', 'D', 'B', 'D', 'D', 'A', 'B-', 'A', 'D', 'C', 'B+', 'D', 'A', 'C', 'C+', 'A', 'A-', 'B', 'B', 'B-', 'A-', 'D', 'D', 'B-'], ['A', 'A', 'A', 'B+', 'D', 'A-', 'B-', 'C', 'B+', 'C', 'C+', 'D', 'D', 'A', 'A', 'A', 'A-', 'D', 'B+'], ['C', 'A', 'B-', 'C', 'D'], ['C+', 'A', 'C'], ['B', 'A', 'A', 'D', 'B'], ['D', 'B+'], ['B+', 'A-', 'D']], 'major': u'KOR', 'description': u'\\n\\t\\t\\t\\tSurvey of Korean culture and society in historical contexts; exploration from antiquity to the contemporary period through diverse media. This course is designed as a multi-disciplinary introduction to Korean society. In surveying Korean culture from antiquity to the present, we will examine a wide range of primary sources from the past, including archaeological relics, written records, and works of art; as well as contemporary materials by Korean authors, directors, and other cultural producers, together with scholarly commentaries about these materials. Instruction and all materials will be in English. No preliminary knowledge of Korean history or language is required for taking this course. In the first part of the course that covers the origins of Korean \\xbftradition,\\xbf we will observe the formation and development of social relations, popular beliefs, and systems of thought that have shaped the Korean way of life. Our historical analysis of these texts will also locate their resonances and ramifications in modern Korea, particularly in cultural representations. In the second part of the course, we will discuss Korea\\xbfs transformation through its encounter with the West, its modern experiences and national struggle under colonial rule, social upheavals after liberation, and the Korean War. Finally, by tracing the enduring impacts of the unresolved past on contemporary society, we will look at Korea today in terms of economic development and crisis, the democracy movement and its limitations, relations with North Korea and with the US, and sociocultural diversification in the age of globalization. By situating these topics within the broader contexts of East Asia and the world, we will seek to gain a richer and more nuanced view of Korea on the global map. The overall goal of this course is to develop students\\xbf abilities to engage in cross-cultural understanding. Through a comprehensive study of Korean materials from a variety of genres and media, students will not only learn about and from Korean history and culture, but also enhance their skills in reading closely, thinking critically, and writing effectively. In exploring Korean culture as a space of complex formations and dynamic interactions, students will be trained to question, analyze, and appreciate different modes of cultural production in their specific political and social contexts.\\n\\t\\t\\t', 'title': u'KOR 120: Introduction to Korean Culture', 'grade': [[100.0, 100.0, 97.611742881073255, 99.550712161906063, 99.190937688421556, 100.0, 93.923949924048941, 99.230822605567766, 99.611612655305578, 97.387537609681104, 96.508526362040186, 100.0, 97.899375762511227, 98.678135868969164, 99.893953381530238, 98.831963383648173, 93.014232719799949, 99.913201629492903, 91.828034553810738, 98.863123214608478, 98.428500963599035, 100.0, 99.805966523623795, 98.04092755048643, 96.40712698419614, 92.213094325159233, 98.480391541093056, 93.551732981704902, 97.913516453616921, 96.88177876602667, 89.785009778966938, 99.31284633596762, 99.55936708096749, 96.915026110641449, 99.783164822751246, 97.361035998505841, 91.611828008649184, 97.001807996513961, 98.262530448537632, 100.0, 100.0, 97.505469580866873, 97.574733720067016, 96.574869397563219, 94.767790455313715, 99.395969107385, 95.330902998221006, 99.063884435202439, 99.64119427917457, 97.348454247069228, 99.624324639270711, 92.793298286019663, 97.888167767622164, 100.0, 99.007279295988482, 97.681294913738171, 97.501115227483112, 96.151529278717661, 97.579052233947593, 98.891595546582295, 95.887023395017152, 98.472725794881171, 94.587760609024642, 97.667573181170525, 100.0, 97.769241587982208, 95.624655666555753, 100.0, 100.0, 100.0, 98.347162105636144, 97.341164683831352, 97.426962599909615, 99.292541534607963, 98.542441579692792, 94.280514756216931, 96.693090959357448, 95.69682900297795, 94.38863029724935, 94.327536576789512, 95.504835252660698, 97.515943699050439, 99.317821857392403, 100.0, 100.0, 98.857926022676907, 94.511565018869661, 99.330541439729956, 96.011777094508403, 96.064338654529081, 99.685543946982918, 96.867887423348847, 95.557527756993849, 99.484896189642512, 99.808297897559882, 93.249881710975458, 100.0, 98.288468238886821, 97.090075872165443, 99.779482833762003, 99.837750744355347, 96.758384827929461, 99.455733084671238, 96.310759175354363, 99.254923453346038, 98.853842108911977, 94.953782755285189, 97.761075942875664, 98.306414644532126, 95.433033533826787, 98.668620548231004, 99.875733988231801, 97.348932928535191, 100.0, 98.242629449732334, 98.012967150795006, 98.180810620751359, 97.477498129600505, 96.613886613235138, 99.679176599898142, 94.553297789592477, 99.930578371580651, 87.163281754512695, 99.764295258208833, 97.778740937583223, 95.040359290018699, 99.380302251311292, 100.0, 97.068241475235581, 99.289314281096949, 94.215659092400145, 100.0, 97.34636493937262, 97.824768885414443, 94.450193586280804, 98.896768202509307, 94.188925893482917, 97.893874284530341, 99.912353517709363, 100.0, 95.401771677015816, 94.308494761435171, 94.357824499045691, 99.827498862551721, 99.431986964059419, 99.908716341819741, 98.265524327720684, 96.964501461077305, 94.192497336384335, 98.235128178503544, 95.667966857481375, 95.523626295620389, 99.479928514092748, 94.352593309357843, 97.333776540436418, 95.556542955830835, 95.951996596483752, 95.781496670522216, 92.225810213892174, 99.810319836077838, 98.359658080357988, 97.781071709923111, 96.859553526484831, 96.410603048920464, 94.811627071458133, 97.760281727485619, 99.654121511760195, 96.933547445817865, 94.881000186786565, 96.72176348961095, 94.505235572918849, 94.135411866396424, 99.718125831633969, 97.549928271661074, 98.170385974539101, 97.5133618354444, 97.835932641631402, 95.605613634969146, 97.093681439726254, 95.243535084995813, 98.142777003164412, 100.0, 100.0, 99.045214702073281, 93.8845164566184, 97.346240293451601, 99.351857428142949, 96.49314592854779, 88.123150760090624, 100.0, 99.638561085984577, 99.403738439766926, 95.906440148220838, 98.60594566420572, 97.744336014369637, 100.0, 94.397777452576364, 96.349678536546051, 96.7419336325827, 96.900839929762611, 98.570894242780696, 93.775799888523665, 96.744633957707663, 93.985331791992763, 99.0234282783575, 93.700226962526628, 98.145704301856966, 98.551498124879558, 93.075866152461089, 97.901989825664828, 95.60877565137443, 97.804801913224722, 99.211618047457193, 93.065372009620773, 93.56636872752928, 90.826239179187681, 98.301393663887069, 98.416513174951461, 93.118423611623598, 95.395178720122999, 96.904518704238356, 98.292593849063294, 97.017677387709, 100.0, 92.498742009862994, 96.301278480026923, 97.55518556739321, 99.03244890978344, 99.097473259271155, 99.660402326731983, 94.986116132037353, 97.472524636323143, 91.414144828305695, 97.913571738847267, 95.873391560190811, 95.522436715973654, 95.258074411010369, 93.308307913682611, 97.894207542023267, 100.0, 97.610168508453981, 91.950955244431015, 97.123480311938593, 94.939460533794673, 98.042628063748765, 97.636470351042632, 98.497876779057009, 97.552763108012357, 100.0, 100.0, 98.196197089929925, 97.392682189862668, 95.883145631415317, 99.839856723285507, 98.320061217291354, 99.527626721508724], [100.0, 100.0, 100.0, 98.358702283908713, 96.646341266264329, 96.153111963005429, 97.414150047667064, 99.251114035446648, 99.460741404535995, 96.970329547752002, 100.0, 99.517301563856392, 99.037104355336382, 100.0, 95.943460900135079, 96.672475792309996, 98.372131247003608, 93.40762150525363, 94.004350516253325, 99.716399458779705, 96.587204458226978, 97.686576425507482, 99.956122274360609, 97.142492421494012, 94.481210470896059, 96.50846247299279, 93.956856480071465, 99.398757302947445, 96.227020792127306, 99.646355046199616, 98.979789267849711, 100.0, 94.862623807795458, 98.424691751975928, 98.427832948165971, 98.282591296920174, 98.831323022779557, 94.297200968404155, 89.169280338564164, 96.449935599721343, 95.890200833691907, 100.0, 100.0, 98.369589246139014, 100.0, 100.0, 97.049102190929929, 98.152186326009243, 98.677830685230731, 100.0, 90.65118324678761, 95.105791699466025, 97.304086091647264, 100.0, 96.740698578986382, 91.270365079179314, 97.68469708494321, 99.106012085803712, 98.820283049987069, 100.0, 100.0, 100.0, 100.0, 98.151812842229774, 100.0, 96.005443296602266, 99.223265999340597, 99.137332802953566, 92.866100408386245, 97.899642831959838, 100.0, 94.128614064464458, 98.44978847433643], [97.191131914091571, 99.413117701946092, 96.472761977043206, 98.05567602563454, 99.632374343241594, 100.0, 95.296735390227497, 99.019680730578216, 95.77629707001249, 98.828457126485944, 96.961152534635616, 95.05899712612765, 97.420259701659134, 99.106885927576855, 100.0, 100.0, 99.916495510886378, 100.0, 98.639256352542844, 98.826753311487664, 95.618778227070308, 100.0, 100.0, 97.717010868850537, 100.0, 100.0, 98.007246763887295, 97.717673534561115, 97.322199069821721, 99.804119791231756, 92.606746095439703, 97.87284632101165, 94.864262360195397, 98.922790727143095, 97.074906433463923, 97.16635507914765, 98.435196902912864, 97.865463156000359, 97.065508886566107, 100.0, 94.824761963655561, 100.0, 99.28512450675963, 98.01552034601535, 97.826051219283571, 100.0, 99.541436054657652, 92.555764607707374, 96.914978672788592, 96.824439974662752], [98.970478720027387, 97.53324690429065, 100.0, 97.818592999080934, 92.086621093563579, 100.0, 99.954926046707257, 95.773430649821123, 97.621446346521338, 97.801797235986214, 97.916178882258691, 98.746342743268841, 95.065263804879919, 99.834627284519726, 98.977046878841662, 94.764195341688364, 100.0, 97.750678784160883, 95.809274135469195, 97.984644078741539, 96.655525028088576, 97.06853238905974, 98.093146725192, 100.0, 96.584756899352698, 100.0, 100.0, 100.0, 98.24478637972021, 100.0, 96.935092215578479, 100.0, 94.619434980924254, 99.224308606045426, 95.169815519872998], [100.0, 100.0, 99.347095328382878, 97.780691454251155, 97.553661069769646, 97.41559966813837, 99.34303186608625, 99.77285317339657, 95.256589485756777, 94.076185353816214, 99.626535556496577, 94.78230102044904, 98.426068276768831, 98.785144767385177, 100.0, 94.202586154647776, 95.196682242980316, 96.645187286442763, 96.001141717195637, 99.134324603586009, 99.154976461368662, 98.906333913109734, 89.610821227559043, 100.0, 94.978396163239211, 99.446721411796361, 100.0, 99.638407852525532, 98.721512535681512, 99.981008474178196, 100.0, 97.618567991640688], [100.0, 99.27278759839885, 96.448686702371717, 98.647253799392956, 99.720952772898869, 95.027361825890495, 98.769444834894685, 96.665445303338899, 95.767701707244512, 100.0, 98.512984401816098, 100.0, 95.974143487952929, 96.949656466047841, 99.5183448231585, 95.278748292084288, 100.0, 97.533187121358495, 97.861816196077669, 100.0, 99.96145091826898, 98.948048222782475, 99.067717662453987, 98.05642921450945, 99.963442591342442, 96.097886005061099, 95.580300654292103, 98.359210423189253], [100.0, 100.0, 100.0, 99.352303982720187, 96.436170455269618, 99.878136318928711, 98.318369897049479, 97.291044004731148, 99.734384594482904, 97.470008322419119, 97.621870867738551, 96.528200418427872, 95.376152515708952, 100.0, 100.0, 100.0, 99.836943189834997, 95.317770495424071, 99.688184130609358], [97.013273916969908, 100.0, 98.549846587073048, 97.051302971356094, 96.894784159019693], [97.561703022804011, 100.0, 97.14731338320054], [99.03811277070335, 100.0, 100.0, 95.898701318874487, 98.812176812631563], [96.433391574100057, 99.671756819758812], [99.551316836167274, 99.870871487342626, 96.285661626592301]], 'level': array([ 0.00599823,  0.        ,  0.        ,  0.        ,  0.        ,\n",
      "        0.        ,  0.        ,  0.        ,  0.        ,  0.        ,\n",
      "        0.        ,  0.        ,  0.        ,  0.        ,  0.        ,\n",
      "        0.        ,  0.        ,  0.        ,  0.        ,  0.        ,\n",
      "        0.        ,  0.        ,  0.        ,  0.        ,  0.        ,\n",
      "        0.01231307,  0.        ,  0.        ,  0.        ,  0.09290375,\n",
      "        0.        ,  0.        ,  0.        ,  0.01320342,  0.        ,\n",
      "        0.        ,  0.        ,  0.01248033,  0.        ,  0.        ,\n",
      "        0.        ,  0.        ,  0.        ,  0.        ,  0.        ,\n",
      "        0.        ,  0.        ,  0.        ,  0.        ,  0.        ,\n",
      "        0.        ,  0.        ,  0.        ,  0.        ,  0.        ,\n",
      "        0.        ,  0.        ,  0.03905638,  0.        ,  0.        ,\n",
      "        0.        ,  0.        ,  0.        ,  0.        ,  0.        ,\n",
      "        0.        ,  0.        ,  0.        ,  0.        ,  0.        ,\n",
      "        0.        ,  0.05915553,  0.        ,  0.        ,  0.        ,\n",
      "        0.        ,  0.        ,  0.        ,  0.        ,  0.        ,\n",
      "        0.07743045,  0.        ,  0.        ,  0.        ,  0.        ,\n",
      "        0.07281663,  0.        ,  0.        ,  0.0232311 ,  0.        ,\n",
      "        0.        ,  0.        ,  0.        ,  0.        ,  0.        ,\n",
      "        0.        ,  0.        ,  0.        ,  0.        ,  0.        ]), 'credits': u'\\n\\t\\t\\t3 Credits\\n\\t\\t', 'num': u'120', 'stu_taken': [[207, 337, 425, 735, 919, 1503, 1716, 1961, 2704, 2754, 2825, 3022, 3100, 3301, 3531, 3578, 3663, 3879, 4159, 4298, 4450, 4982, 5201, 5461, 5462, 5492, 5774, 5800, 6339, 6378, 6387, 6898, 7166, 7401, 7508, 7722, 7750, 7912, 7944, 8034, 8797, 9481, 9593, 9669, 9763, 10033, 10168, 10288, 10475, 10514, 10522, 10647, 11014, 11208, 11471, 11620, 12103, 12128, 12238, 12325, 12857, 12882, 13018, 13025, 13644, 13666, 13764, 13812, 13852, 13985, 14108, 14119, 14331, 14525, 14655, 14950, 15081, 15649, 16122, 16248, 16265, 17211, 17327, 17378, 17748, 17968, 18213, 18497, 18524, 18564, 18618, 18643, 18720, 19008, 19184, 19215, 19234, 19318, 19471, 19735, 20125, 20139, 20185, 20912, 20955, 21418, 21516, 21570, 22073, 22490, 22515, 22530, 22554, 22591, 22819, 22996, 23190, 23192, 23244, 23388, 23611, 24271, 24392, 24795, 24809, 24892, 25213, 25554, 26194, 26468, 26751, 26913, 27031, 27347, 27509, 27629, 28101, 28337, 28567, 28713, 29021, 29314, 29614, 29630, 29774, 29797, 30250, 30703, 30704, 30709, 30767, 30870, 31455, 31573, 31824, 32032, 32060, 32208, 32307, 32322, 32332, 32565, 33011, 33154, 33762, 33841, 34040, 34076, 34192, 34203, 34217, 34427, 34531, 34558, 34686, 34787, 34877, 34939, 35205, 35266, 35415, 35759, 35917, 36125, 36521, 36826, 36942, 37080, 37119, 37233, 37394, 37411, 37686, 37713, 37752, 37966, 38026, 38314, 38702, 39216, 39463, 39794, 39803, 40031, 40251, 40258, 40307, 40776, 40888, 40976, 41090, 41326, 41547, 41620, 41679, 41703, 41785, 42009, 42475, 42689, 43212, 43488, 43680, 43888, 44014, 44152, 44239, 44491, 44542, 44658, 44696, 45043, 45073, 45448, 45541, 45619, 45636, 46044, 46137, 46341, 46417, 46418, 46440, 46901, 46918, 47314, 47517, 47691, 48701, 48907, 49012, 49152, 49535, 49558, 49699, 49893], [430, 1983, 3981, 4998, 5533, 5592, 6815, 8054, 8059, 9045, 9102, 9140, 9291, 10783, 10829, 11011, 11688, 12644, 12970, 14155, 14320, 14919, 14973, 15144, 15982, 16022, 17088, 23122, 23498, 23730, 24029, 26028, 26403, 26435, 27357, 28252, 28515, 29510, 29997, 30529, 30589, 31335, 31507, 31607, 31998, 32833, 33430, 33643, 34767, 35578, 36764, 37623, 38652, 38844, 40270, 40970, 41177, 41377, 41412, 42036, 42854, 43099, 43345, 44320, 45213, 45424, 45921, 46674, 47523, 47926, 47941, 49157, 49217], [137, 640, 3878, 5206, 5212, 5807, 6634, 7686, 12126, 15431, 17015, 17668, 18371, 20262, 22469, 25187, 25619, 26267, 26432, 26788, 28158, 28368, 28791, 28861, 29138, 29138, 30840, 31134, 31978, 33214, 33798, 33953, 35456, 35966, 36592, 39667, 39809, 41737, 42203, 43069, 43470, 44434, 46265, 47106, 47644, 48455, 49124, 49440, 49599, 49737], [2602, 3128, 4956, 6192, 9741, 11966, 13124, 14993, 15268, 16716, 17498, 20593, 22372, 22956, 23483, 24855, 25571, 25599, 25623, 27741, 27901, 28031, 31081, 31762, 32753, 37240, 38396, 41242, 43856, 44774, 44801, 45725, 46228, 46844, 47894], [4905, 5148, 5597, 7065, 8891, 13321, 13795, 14448, 16406, 16887, 18293, 21441, 21600, 21931, 23065, 26244, 29241, 30255, 30471, 31586, 33775, 35870, 36351, 40995, 41263, 42493, 43195, 43634, 44741, 45655, 47240, 48283], [942, 1553, 4496, 4617, 5891, 6375, 7055, 9913, 10252, 10718, 15228, 15633, 15802, 15988, 18946, 20739, 22631, 22632, 24376, 27221, 36452, 38665, 42034, 42779, 44855, 45511, 46816, 49551], [6251, 11863, 11931, 15463, 15703, 19629, 21113, 22023, 22664, 23765, 25169, 26805, 28111, 30344, 36194, 38392, 39305, 46623, 48347], [3059, 19561, 19893, 20972, 36440], [11761, 29706, 37920], [4535, 5067, 33077, 33406, 37843], [17292, 23395], [1081, 18969, 24498]], 'prerequisite': '', 'sub': u'Korean (KOR)'}}, 'cou_sem_center': array([[ 1.        ,  0.87032473,  0.57375342,  0.2865048 ,  0.10836802,\n",
      "         0.03104796],\n",
      "       [ 0.96587368,  0.96587368,  0.73161563,  0.41976697,  0.18242997,\n",
      "         0.06005467],\n",
      "       [ 0.87032473,  1.        ,  0.87032473,  0.57375342,  0.2865048 ,\n",
      "         0.10836802],\n",
      "       [ 0.73161563,  0.96587368,  0.96587368,  0.73161563,  0.41976697,\n",
      "         0.18242997],\n",
      "       [ 0.57375342,  0.87032473,  1.        ,  0.87032473,  0.57375342,\n",
      "         0.2865048 ],\n",
      "       [ 0.41976697,  0.73161563,  0.96587368,  0.96587368,  0.73161563,\n",
      "         0.41976697],\n",
      "       [ 0.2865048 ,  0.57375342,  0.87032473,  1.        ,  0.87032473,\n",
      "         0.57375342],\n",
      "       [ 0.18242997,  0.41976697,  0.73161563,  0.96587368,  0.96587368,\n",
      "         0.73161563],\n",
      "       [ 0.10836802,  0.2865048 ,  0.57375342,  0.87032473,  1.        ,\n",
      "         0.87032473],\n",
      "       [ 0.06005467,  0.18242997,  0.41976697,  0.73161563,  0.96587368,\n",
      "         0.96587368],\n",
      "       [ 0.03104796,  0.10836802,  0.2865048 ,  0.57375342,  0.87032473,\n",
      "         1.        ],\n",
      "       [ 0.01497476,  0.06005467,  0.18242997,  0.41976697,  0.73161563,\n",
      "         0.96587368]])}\n"
     ]
    }
   ],
   "source": [
    "print sub_dict[\"Korean (KOR)\"]"
   ]
  },
  {
   "cell_type": "code",
   "execution_count": 33,
   "metadata": {
    "collapsed": true
   },
   "outputs": [],
   "source": [
    "def mandatory_generate(sub, sub_dict=sub_dict, cou_dict=cou_dict, N_mand_sub=20, N_mand_out_max=3):\n",
    "    mandatory_list = []\n",
    "    sub_cou_list = sub_dict[sub][\"courses_list_ordered\"]\n",
    "    mandatory_sub = np.random.choice(sub_cou_list, min(N_mand_sub, len(sub_cou_list)), replace=False).tolist()\n",
    "    \n",
    "    N_mand_out = int(np.random.random() * N_mand_out_max)\n",
    "    mandatory_out = np.random.choice(cou_dict.keys(), N_mand_out, replace=False).tolist()\n",
    "    mandatory_list = list(set(mandatory_sub) | set(mandatory_out))\n",
    "    return mandatory_list"
   ]
  },
  {
   "cell_type": "code",
   "execution_count": 34,
   "metadata": {
    "collapsed": true
   },
   "outputs": [],
   "source": [
    "graph_sub_mandatory={}\n",
    "for sub in sub_dict:\n",
    "    graph_sub_mandatory[sub] = mandatory_generate(sub)"
   ]
  },
  {
   "cell_type": "code",
   "execution_count": 36,
   "metadata": {
    "collapsed": false
   },
   "outputs": [
    {
     "name": "stdout",
     "output_type": "stream",
     "text": [
      "[u'KOR424', u'KOR425', u'KOR494H', u'HIST150', u'KOR121', u'KOR099', u'KOR120', u'HUM150']\n"
     ]
    }
   ],
   "source": [
    "print graph_sub_mandatory[\"Korean (KOR)\"]\n",
    "with open(\"data/graph_sub_mandatory\", \"w\") as f:\n",
    "    cPickle.dump(graph_sub_mandatory, f)"
   ]
  },
  {
   "cell_type": "markdown",
   "metadata": {
    "collapsed": true
   },
   "source": [
    "## course description dump ##"
   ]
  },
  {
   "cell_type": "code",
   "execution_count": 1,
   "metadata": {
    "collapsed": false
   },
   "outputs": [
    {
     "name": "stdout",
     "output_type": "stream",
     "text": [
      "{'url': u'/university-course-descriptions/undergraduate/kor/', 'courses': {u'KOR424': {'prereq_courses': [u'KOR120', u'KOR121', u'ASIA100', u'ASIA102', u'ASIA004', u'CMLIT004'], 'major': u'KOR', 'description': u'\\n\\t\\t\\t\\tExploration of seminal Korean texts, including poetry, fiction, autobiography, and criticism, from the early twentieth century to the contemporary era. This course provides a comprehensive overview of modern Korean literature within a transnational context. As we learn how to critically analyze seminal Korean texts, we will locate them in the social, political, economic, and cultural conditions under which they were produced and received. In grappling with some of the fundamental issues they raise;including colonialism, migration, national division, war, gender relations, developmentalism, urbanization, democratization, and contemporary consumer culture;we will also seek to situate these writings in the Korean vernacular within the larger context of global modernity. Rather than take Korean literature and global modernity as given or apart from each other, we will attend to their intersections by raising such questions as: How did modern experiences, constructed through the interface with unfamiliar Others, change preexisting ways of writing and reading? How did foreign occupations affect the formation of a national literature? In what ways do Korean writers\\' representations of the inter/national events and phenomena on and beyond the Korean peninsula at once enrich and complicate empirical investigations into modern histories of Korea, East Asia, and the world? In an increasingly borderless world, can we draw a boundary around what is called \"Korean\" literature? In parallel with these questions, we will further discuss why and how to engage in literary practices in the current age of digital reproduction. Instruction and all materials will be in English. No preliminary knowledge of Korean history or language is required for taking this course.\\n\\t\\t\\t', 'title': u'KOR 424: Transnational Korean Literature', 'credits': u'\\n\\t\\t\\t3 Credits\\n\\t\\t', 'num': u'424', 'prerequisite': u'\\nPrerequisite: KOR\\xa0120; KOR\\xa0121; ASIA\\xa0100; ASIA\\xa0102; ASIA 83; ASIA 4; CMLIT 4; 5th Semester standing\\t\\t\\t\\n'}, u'KOR425': {'prereq_courses': [u'KOR120', u'KOR121', u'ASIA100', u'ASIA102', u'ASIA004', u'CMLIT004'], 'major': u'KOR', 'description': u'\\n\\t\\t\\t\\tExploration of Korean cinema from the early twentieth century to the present, with an emphasis on its global/local dynamics. This course offers an introductory overview of Korean cinema. As we trace its history from the colonial period to the current \"Korean wave,\" we will also engage with film criticism, the trans/national contexts of film productions, the particular aesthetics of selected auteurs/genres, and local/global receptions of Korean cinema. Our discussion of formal elements and key issues featured in these films;modernity, colonialism, division, nation, class, gender, identity, tradition, ideology, desire, violence, and migration, among others;will be informed by readings of secondary sources and theoretical works, as well as literary materials produced during the same period. Throughout our analyses, we will seek to contextualize the cinematic texts within moments of major shifts not only in modern Korean history, but also in the transnational film industry and screen culture. In pursuing a broad and detailed perspective of Korean cinema, this course will ultimately enrich, and simultaneously complicate, our understanding of Korea, cinema, and the world. Instruction and all materials will be in English. No preliminary knowledge of Korean history or language is required for taking this course.\\n\\t\\t\\t', 'title': u'KOR 425: Global Korean Cinema', 'credits': u'\\n\\t\\t\\t3 Credits\\n\\t\\t', 'num': u'425', 'prerequisite': u'\\nPrerequisite: KOR\\xa0120; KOR\\xa0121; ASIA\\xa0100; ASIA\\xa0102; ASIA 83; ASIA 4; CMLIT 4; 5th Semester standing\\t\\t\\t\\n'}, u'KOR099': {'prereq_courses': [], 'major': u'KOR', 'description': u'\\n\\t\\t\\t\\tCourses offered in foreign countries by individual or group instruction.\\n\\t\\t\\t', 'title': u'KOR 99: Foreign Studies', 'credits': u'\\n\\t\\t\\t1-12 Credits/Maximum of 12\\n\\t\\t', 'num': u'99', 'prerequisite': ''}, u'KOR494H': {'prereq_courses': [], 'major': u'KOR', 'description': u'\\n\\t\\t\\t\\tSupervised student activities on research projects identified on an individual or small-group basis.\\n\\t\\t\\t', 'title': u'KOR 494H: Research Project', 'credits': u'\\n\\t\\t\\t1-12 Credits/Maximum of 12\\n\\t\\t', 'num': u'494H', 'prerequisite': ''}, u'KOR121': {'prereq_courses': [], 'major': u'KOR', 'description': u'\\n\\t\\t\\t\\tSurvey of contemporary Korean popular culture in various forms, including pop music, film, TV drama, advertising, comics, and literature. What do we mark as \\xbfKorean-style\\xbf? Are the images of Korea(ns) changing with the worldwide spread of Korean popular culture known as the Korean Wave (Hallyu)? This course provides critical approaches to cultural flows from South Korea. We will employ theoretical concepts and critical vocabularies from cultural studies to deepen and sharpen our analysis of the cultural representation of Korea in relation to questions such as class, gender, ethnicity, and body politics. Using diverse texts from literature, film, TV dramas, comics, and pop music, we will examine the social codes, cultural values, and economic realities that influence Korean society, including the Korean diasporic population around the world. In directing our attention to various ways in which Korean culture is transmitted and presented in different media, we will also inquire into historical and social issues rooted in the division of Korea, as well as the international dispersion of Koreans since the colonial period. Through intellectual exercises in boundary crossing, we will ultimately develop our ability to explore the cross-cultural production of trans/national identities in the age of globalization. Instruction and all materials will be in English. No preliminary knowledge of Korean history or language is required for taking this course.\\n\\t\\t\\t', 'title': u'KOR 121: Korean Popular Culture', 'credits': u'\\n\\t\\t\\t3 Credits\\n\\t\\t', 'num': u'121', 'prerequisite': ''}, u'KOR120': {'prereq_courses': [], 'major': u'KOR', 'description': u'\\n\\t\\t\\t\\tSurvey of Korean culture and society in historical contexts; exploration from antiquity to the contemporary period through diverse media. This course is designed as a multi-disciplinary introduction to Korean society. In surveying Korean culture from antiquity to the present, we will examine a wide range of primary sources from the past, including archaeological relics, written records, and works of art; as well as contemporary materials by Korean authors, directors, and other cultural producers, together with scholarly commentaries about these materials. Instruction and all materials will be in English. No preliminary knowledge of Korean history or language is required for taking this course. In the first part of the course that covers the origins of Korean \\xbftradition,\\xbf we will observe the formation and development of social relations, popular beliefs, and systems of thought that have shaped the Korean way of life. Our historical analysis of these texts will also locate their resonances and ramifications in modern Korea, particularly in cultural representations. In the second part of the course, we will discuss Korea\\xbfs transformation through its encounter with the West, its modern experiences and national struggle under colonial rule, social upheavals after liberation, and the Korean War. Finally, by tracing the enduring impacts of the unresolved past on contemporary society, we will look at Korea today in terms of economic development and crisis, the democracy movement and its limitations, relations with North Korea and with the US, and sociocultural diversification in the age of globalization. By situating these topics within the broader contexts of East Asia and the world, we will seek to gain a richer and more nuanced view of Korea on the global map. The overall goal of this course is to develop students\\xbf abilities to engage in cross-cultural understanding. Through a comprehensive study of Korean materials from a variety of genres and media, students will not only learn about and from Korean history and culture, but also enhance their skills in reading closely, thinking critically, and writing effectively. In exploring Korean culture as a space of complex formations and dynamic interactions, students will be trained to question, analyze, and appreciate different modes of cultural production in their specific political and social contexts.\\n\\t\\t\\t', 'title': u'KOR 120: Introduction to Korean Culture', 'credits': u'\\n\\t\\t\\t3 Credits\\n\\t\\t', 'num': u'120', 'prerequisite': ''}}}\n"
     ]
    }
   ],
   "source": [
    "import cPickle\n",
    "sub_dict = cPickle.load(open(\"./data/courses_crawled_by_major\", \"r\"))\n",
    "for sub in sub_dict:\n",
    "    print sub_dict[sub]\n",
    "    break"
   ]
  },
  {
   "cell_type": "code",
   "execution_count": 3,
   "metadata": {
    "collapsed": false
   },
   "outputs": [],
   "source": [
    "import warnings\n",
    "cou_desc_dict = {}\n",
    "for i_sub in sub_dict:\n",
    "    sub_courses = sub_dict[i_sub][\"courses\"]\n",
    "    sub_url = sub_dict[i_sub][\"url\"]\n",
    "    for cou in sub_courses:\n",
    "        if cou in cou_desc_dict:\n",
    "            warnings.warn(\"duplicate cou name %s\" % cou)\n",
    "        cou_desc_dict[cou] = {}\n",
    "        cou_desc_dict[cou][\"description\"] = sub_courses[cou][\"description\"]\n",
    "        cou_desc_dict[cou][\"credits\"] = sub_courses[cou][\"credits\"]\n",
    "        cou_desc_dict[cou][\"name\"] = sub_courses[cou][\"title\"]\n",
    "        cou_desc_dict[cou][\"url\"] = sub_url\n",
    "cPickle.dump(cou_desc_dict, open(\"./data/cou_desc_dict\", 'w'))\n"
   ]
  },
  {
   "cell_type": "code",
   "execution_count": null,
   "metadata": {
    "collapsed": true
   },
   "outputs": [],
   "source": []
  }
 ],
 "metadata": {
  "anaconda-cloud": {},
  "kernelspec": {
   "display_name": "Python [conda root]",
   "language": "python",
   "name": "conda-root-py"
  },
  "language_info": {
   "codemirror_mode": {
    "name": "ipython",
    "version": 2
   },
   "file_extension": ".py",
   "mimetype": "text/x-python",
   "name": "python",
   "nbconvert_exporter": "python",
   "pygments_lexer": "ipython2",
   "version": "2.7.12"
  }
 },
 "nbformat": 4,
 "nbformat_minor": 1
}
